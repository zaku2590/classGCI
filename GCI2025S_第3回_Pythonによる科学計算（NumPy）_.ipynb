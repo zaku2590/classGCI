{
  "nbformat": 4,
  "nbformat_minor": 0,
  "metadata": {
    "kernelspec": {
      "display_name": "gci2020",
      "language": "python",
      "name": "gci2020"
    },
    "language_info": {
      "codemirror_mode": {
        "name": "ipython",
        "version": 3
      },
      "file_extension": ".py",
      "mimetype": "text/x-python",
      "name": "python",
      "nbconvert_exporter": "python",
      "pygments_lexer": "ipython3",
      "version": "3.6.10-final"
    },
    "colab": {
      "provenance": [],
      "include_colab_link": true
    }
  },
  "cells": [
    {
      "cell_type": "markdown",
      "metadata": {
        "id": "view-in-github",
        "colab_type": "text"
      },
      "source": [
        "<a href=\"https://colab.research.google.com/github/zaku2590/classGCI/blob/main/GCI2025S_%E7%AC%AC3%E5%9B%9E_Python%E3%81%AB%E3%82%88%E3%82%8B%E7%A7%91%E5%AD%A6%E8%A8%88%E7%AE%97%EF%BC%88NumPy%EF%BC%89_.ipynb\" target=\"_parent\"><img src=\"https://colab.research.google.com/assets/colab-badge.svg\" alt=\"Open In Colab\"/></a>"
      ]
    },
    {
      "cell_type": "markdown",
      "metadata": {
        "id": "xatbmi443EQ2"
      },
      "source": [
        "# 第3回 Pythonによる科学計算（NumPy）"
      ]
    },
    {
      "cell_type": "markdown",
      "metadata": {
        "id": "ZnDK0n3q3EQ3"
      },
      "source": [
        "今回はPythonの数値計算モジュールであるNumPyを用います。NumPyはこの講座を通して用いるので基本的な使い方を学んでいきましょう。\n",
        "\n",
        "ただしこの章で扱うものはNumPyの氷山の一角であり、機械学習でよく使うものを扱います。"
      ]
    },
    {
      "cell_type": "markdown",
      "metadata": {
        "id": "3VusLSTc3EQ4"
      },
      "source": [
        "この授業で使うライブラリをインポートしておきます。詳細は後ほど解説します。"
      ]
    },
    {
      "cell_type": "code",
      "metadata": {
        "id": "nYE25KAd3EQ5"
      },
      "source": [
        "import numpy as np\n",
        "from numpy import random\n",
        "from numpy import linalg as LA"
      ],
      "execution_count": null,
      "outputs": []
    },
    {
      "cell_type": "markdown",
      "metadata": {
        "id": "o36iW7613EQ_"
      },
      "source": [
        "# 1 NumPyの作法"
      ]
    },
    {
      "cell_type": "markdown",
      "metadata": {
        "id": "E6dHSx0Y3ERA"
      },
      "source": [
        "この節からNumPyに入門していきます。"
      ]
    },
    {
      "cell_type": "markdown",
      "metadata": {
        "id": "-kDxD9ld3ERB"
      },
      "source": [
        "## 1.1 PythonのリストとNumPyの配列(numpy.ndarray)の違い"
      ]
    },
    {
      "cell_type": "markdown",
      "metadata": {
        "id": "RmcSmhUU3ERC"
      },
      "source": [
        "機械学習ではデータをベクトルとして捉え、数学的な計算(行列演算、最適化など)を通して学習をします。このベクトルや行列といったものに対する演算に対して基本的な関数が組み込まれているのがNumPyモジュールとなります。\n",
        "\n",
        "まず、**なぜNumPyを使うのか**を知るために、Python標準の機能とNumPyを比べてみましょう。まず、以下の2つのPythonリストを考えます。"
      ]
    },
    {
      "cell_type": "code",
      "metadata": {
        "id": "UzRAboTy3ERC"
      },
      "source": [
        "a = [2, 9, 9, 7, 9, 2]\n",
        "b = [3, 1, 4, 1, 5, 9]"
      ],
      "execution_count": null,
      "outputs": []
    },
    {
      "cell_type": "markdown",
      "metadata": {
        "id": "y-6i_Ly33ERF"
      },
      "source": [
        "この2つのリストを要素数が6のベクトルとして操作することを考えます。例えばこのベクトルに対して、内積やaとbの各成分の和を取ったベクトルを計算する場合、Pythonでは次のように書く必要があります。"
      ]
    },
    {
      "cell_type": "code",
      "metadata": {
        "id": "93xUReVX3ERG"
      },
      "source": [
        "# 内積\n",
        "def dot_product(a, b):\n",
        "    assert len(a)==len(b) # aとbの長さが同じでないときエラーを返すようにする\n",
        "\n",
        "    ab = 0\n",
        "    for i in range(len(a)):\n",
        "        ab += a[i]*b[i]\n",
        "\n",
        "    return ab\n",
        "\n",
        "def add_vector(a, b):\n",
        "    assert len(a)==len(b) # aとbの長さが同じでないときエラーを返すようにする\n",
        "\n",
        "    add_ab = [a[i]+b[i] for i in range(len(a))]\n",
        "\n",
        "    return add_ab"
      ],
      "execution_count": null,
      "outputs": []
    },
    {
      "cell_type": "code",
      "metadata": {
        "id": "JpHMYrGh3ERJ",
        "colab": {
          "base_uri": "https://localhost:8080/"
        },
        "outputId": "de0bfdd2-6109-43d8-cfe3-acbb619ad498"
      },
      "source": [
        "print(\"内積:\", dot_product(a, b))\n",
        "print(\"和:\", add_vector(a, b))"
      ],
      "execution_count": null,
      "outputs": [
        {
          "output_type": "stream",
          "name": "stdout",
          "text": [
            "内積: 121\n",
            "和: [5, 10, 13, 8, 14, 11]\n"
          ]
        }
      ]
    },
    {
      "cell_type": "markdown",
      "metadata": {
        "id": "MdGEURed3ERM"
      },
      "source": [
        "しかし、NumPyにはすでにこれらの関数や演算が実装されています。実際に使ってみましょう。"
      ]
    },
    {
      "cell_type": "code",
      "metadata": {
        "id": "8hTsoi-v3ERM"
      },
      "source": [
        "import numpy as np # numpyをimportする"
      ],
      "execution_count": null,
      "outputs": []
    },
    {
      "cell_type": "markdown",
      "metadata": {
        "id": "5WzN5WX53ERR"
      },
      "source": [
        "慣習として、numpyはnpと省略して使います。本講座でもそれに則ります。\n",
        "\n",
        "NumPyでは`np.ndarray`という配列が用意されています。これはN次元配列といい、ベクトルや行列・それ以上の次元の配列(テンソル)に対して統一して用意された型です。\n",
        "\n",
        "Pythonのリストは`np.array()`という関数を用いて簡単に`np.ndarray`に変換できます。"
      ]
    },
    {
      "cell_type": "code",
      "metadata": {
        "id": "ubHU-j_f3ERS",
        "colab": {
          "base_uri": "https://localhost:8080/"
        },
        "outputId": "0f6f239d-bda5-4c2f-9adb-5597cec9ba83"
      },
      "source": [
        "a = np.array(a)\n",
        "b = np.array(b)\n",
        "\n",
        "print(\"a: \", a)\n",
        "print(\"b: \", b)\n",
        "print(\"type of a: \", type(a))\n",
        "print(\"type of b: \", type(b)) # aとbの型を確認する"
      ],
      "execution_count": null,
      "outputs": [
        {
          "output_type": "stream",
          "name": "stdout",
          "text": [
            "a:  [2 9 9 7 9 2]\n",
            "b:  [3 1 4 1 5 9]\n",
            "type of a:  <class 'numpy.ndarray'>\n",
            "type of b:  <class 'numpy.ndarray'>\n"
          ]
        }
      ]
    },
    {
      "cell_type": "markdown",
      "metadata": {
        "id": "wagXyAm23ERV"
      },
      "source": [
        "`a`と`b`の内積と要素ごとの和は次のように計算されます。"
      ]
    },
    {
      "cell_type": "code",
      "metadata": {
        "id": "IJKeCh_s3ERV",
        "colab": {
          "base_uri": "https://localhost:8080/"
        },
        "outputId": "c52dd53c-5c27-46b3-ea8c-ade78dcab05d"
      },
      "source": [
        "print(\"内積:\", np.dot(a, b))\n",
        "print(\"和:\", a+b)"
      ],
      "execution_count": null,
      "outputs": [
        {
          "output_type": "stream",
          "name": "stdout",
          "text": [
            "内積: 121\n",
            "和: [ 5 10 13  8 14 11]\n"
          ]
        }
      ]
    },
    {
      "cell_type": "markdown",
      "metadata": {
        "id": "YMhP1q_l3ERY"
      },
      "source": [
        "このように、NumPyではすでに基本的な操作や関数が充実しており、Pythonでわざわざ実装しなくてよいのです。"
      ]
    },
    {
      "cell_type": "markdown",
      "metadata": {
        "id": "7RV01PAp3ERY"
      },
      "source": [
        "### *Tips*\n",
        "> 実は、**実行速度**の観点からもNumPyを使うメリットがあります。NumPyの内部ではC言語やFortranで記述されており、効率的なメモリ管理や、BLAS/LAPACKといった高性能な線形代数ライブラリを利用しているため、Pythonのリスト操作と比較して非常に実行速度が高速です。"
      ]
    },
    {
      "cell_type": "markdown",
      "metadata": {
        "id": "ofuEhfEG3ERZ"
      },
      "source": [
        "## 1.2 numpy.ndarrayの基本的な演算"
      ]
    },
    {
      "cell_type": "markdown",
      "metadata": {
        "id": "WCmxGJvW3ERZ"
      },
      "source": [
        "ここでは上で用いた`a`, `b`とは別に新しいものを使用します。`np.ndarray`に変換するのを忘れないように！"
      ]
    },
    {
      "cell_type": "code",
      "metadata": {
        "id": "Echn941h3ERa"
      },
      "source": [
        "a = np.array([1, 2, 3, 4, 5])\n",
        "b = np.array([2, 2, 3, 6, 0])"
      ],
      "execution_count": null,
      "outputs": []
    },
    {
      "cell_type": "markdown",
      "metadata": {
        "id": "FevZLcDT3ERd"
      },
      "source": [
        "このセクションでは`np.ndarray`の基本的な演算を紹介していきます。\n",
        "\n",
        "ここでNumPyの演算の多くは**ユニバーサル関数（ufunc）**として実装されています。ここでのユニバーサルな演算とは、配列の各要素に対して個別に演算を適用することを指します。実際に例を見て実感していきましょう。"
      ]
    },
    {
      "cell_type": "markdown",
      "metadata": {
        "id": "XQTs7FDu3ERd"
      },
      "source": [
        "### 四則演算\n",
        "\n",
        "四則演算は、通常のPythonの数値型と同じ演算子（＋, ー, ＊, ／）を用いて計算できます。これは各要素ごとの四則演算の結果を返します（**ユニバーサル関数**）。"
      ]
    },
    {
      "cell_type": "code",
      "metadata": {
        "id": "XWRcLxfC3ERe",
        "colab": {
          "base_uri": "https://localhost:8080/"
        },
        "outputId": "c58a74e8-e747-44c7-dcce-c3daa192914f"
      },
      "source": [
        "print(\"和: \", a + b) #これは通常のベクトルの和と一致\n",
        "print(\"差: \", a - b) #これは通常のベクトルの差と一致\n",
        "print(\"積: \", a * b) #これはベクトルの各要素の積(=アダマール積)\n",
        "print(\"商: \", a / b) #これはベクトルの各要素の商"
      ],
      "execution_count": null,
      "outputs": [
        {
          "output_type": "stream",
          "name": "stdout",
          "text": [
            "和:  [ 3  4  6 10  5]\n",
            "差:  [-1  0  0 -2  5]\n",
            "積:  [ 2  4  9 24  0]\n",
            "商:  [0.5        1.         1.         0.66666667        inf]\n"
          ]
        },
        {
          "output_type": "stream",
          "name": "stderr",
          "text": [
            "<ipython-input-9-6a8866c8e88b>:4: RuntimeWarning: divide by zero encountered in divide\n",
            "  print(\"商: \", a / b) #これはベクトルの各要素の商\n"
          ]
        }
      ]
    },
    {
      "cell_type": "markdown",
      "metadata": {
        "id": "HI9bWict3ERh"
      },
      "source": [
        "### *Tips*\n",
        ">商の計算では、0による除算が発生した要素で`inf`（無限大）という値が現れています。`np.inf`はNumPyで定義された特殊な浮動小数点数で、0 で割る演算や、計算結果がオーバーフローしたときに生成されます。また、ゼロ除算が発生したことを示す警告（RuntimeWarning）が表示されています。\\\n",
        ">今後この講座で扱うscikit-learnなどのライブラリの一部の関数などは`np.inf`や`np.nan`（非数）が含まれているとエラーを返す関数もあります。"
      ]
    },
    {
      "cell_type": "markdown",
      "metadata": {
        "id": "4jCwg3XB3ERi"
      },
      "source": [
        "### 条件演算"
      ]
    },
    {
      "cell_type": "markdown",
      "metadata": {
        "id": "UwRgCn7i3ERj"
      },
      "source": [
        "Pythonの通常の比較演算子（`==`や`>`など）はブール値（`True`または`False`）が返ってきていました。`np.ndarray`ではどのようになるでしょうか？試してみましょう(jupyter notebookのよいところは気になったことをすぐに試せるところです)。"
      ]
    },
    {
      "cell_type": "code",
      "metadata": {
        "id": "b4gMJe373ERj",
        "colab": {
          "base_uri": "https://localhost:8080/"
        },
        "outputId": "edfb1e32-fac3-4e04-8a86-1133cf918320"
      },
      "source": [
        "3>5"
      ],
      "execution_count": null,
      "outputs": [
        {
          "output_type": "execute_result",
          "data": {
            "text/plain": [
              "False"
            ]
          },
          "metadata": {},
          "execution_count": 10
        }
      ]
    },
    {
      "cell_type": "code",
      "metadata": {
        "id": "IkPCdl2x3ERn",
        "colab": {
          "base_uri": "https://localhost:8080/"
        },
        "outputId": "f36fc51f-a4c3-4439-dfb3-0f474963a63c"
      },
      "source": [
        "print(\"a==a: \", a==a)\n",
        "print(\"a==b: \", a==b)\n",
        "print(\"a>b: \", a>b)\n",
        "\n",
        "print(\"a==bの型: \", type(a==b))"
      ],
      "execution_count": null,
      "outputs": [
        {
          "output_type": "stream",
          "name": "stdout",
          "text": [
            "a==a:  [ True  True  True  True  True]\n",
            "a==b:  [False  True  True False False]\n",
            "a>b:  [False False False False  True]\n",
            "a==bの型:  <class 'numpy.ndarray'>\n"
          ]
        }
      ]
    },
    {
      "cell_type": "markdown",
      "metadata": {
        "id": "VNcyTQyB3ERq"
      },
      "source": [
        "なんと、`np.ndarray`に対する比較演算では、結果は単一のブール値ではなく、**各要素の比較結果を要素とするブール値の`np.ndarray`**となるのです。\n",
        "\n",
        "そして、各要素を見てみると、対応する要素間で比較演算が行われた結果が格納されています（**これもユニバーサル関数**）。これもPythonのリストとは異なる動作です。"
      ]
    },
    {
      "cell_type": "markdown",
      "metadata": {
        "id": "xiOjRi6X3ERr"
      },
      "source": [
        "### その他のユニバーサルな演算，関数\n",
        "他にも数学的な関数をユニバーサル関数として計算してくれるものが実装されています。以下ではその例を紹介します。ユニバーサルな関数一覧は[こちら](https://docs.pyq.jp/python/pydata/numpy/universal_function.html)を参考にしてください。"
      ]
    },
    {
      "cell_type": "code",
      "metadata": {
        "id": "-bnvA54z3ERr",
        "colab": {
          "base_uri": "https://localhost:8080/"
        },
        "outputId": "f7ccbb9e-e9e9-4ed5-f194-f97d00c4c6b8"
      },
      "source": [
        "print(\"sin: \", np.sin(a))\n",
        "print(\"log: \", np.log(a))\n",
        "print(\"exp: \", np.exp(a))"
      ],
      "execution_count": null,
      "outputs": [
        {
          "output_type": "stream",
          "name": "stdout",
          "text": [
            "sin:  [ 0.84147098  0.90929743  0.14112001 -0.7568025  -0.95892427]\n",
            "log:  [0.         0.69314718 1.09861229 1.38629436 1.60943791]\n",
            "exp:  [  2.71828183   7.3890561   20.08553692  54.59815003 148.4131591 ]\n"
          ]
        }
      ]
    },
    {
      "cell_type": "markdown",
      "metadata": {
        "id": "UCtXdpwi3ERu"
      },
      "source": [
        "### ブロードキャスト\n",
        "`np.ndarray`のユニバーサル関数では、形状（shape）が異なる配列同士でも、**ブロードキャスト**という仕組みによって計算できる場合があります。ここでは，1次元配列(ベクトル)に対するブロードキャストを学びます。\n",
        "\n",
        "ベクトルにはスカラー倍（実数倍）という演算が定義されています。Numpyでも同様にスカラー倍（実数倍）を行うことができます。"
      ]
    },
    {
      "cell_type": "code",
      "metadata": {
        "id": "04YF4IYW3ERv",
        "colab": {
          "base_uri": "https://localhost:8080/"
        },
        "outputId": "692583e9-bd5b-4311-88c8-b65ae69bb27b"
      },
      "source": [
        "print(\"3a = \", 3*a)"
      ],
      "execution_count": null,
      "outputs": [
        {
          "output_type": "stream",
          "name": "stdout",
          "text": [
            "3a =  [ 3  6  9 12 15]\n"
          ]
        }
      ]
    },
    {
      "cell_type": "markdown",
      "metadata": {
        "id": "FzUj2o0S3ERy"
      },
      "source": [
        "これは，次の計算をしていることと同義です。"
      ]
    },
    {
      "cell_type": "code",
      "metadata": {
        "id": "DCMdS-AH3ERy",
        "colab": {
          "base_uri": "https://localhost:8080/"
        },
        "outputId": "592d9a73-0ddf-4eaa-9366-7fb0a475a27e"
      },
      "source": [
        "threes = np.array([3, 3, 3, 3, 3])\n",
        "print(\"3a = \", threes*a)"
      ],
      "execution_count": null,
      "outputs": [
        {
          "output_type": "stream",
          "name": "stdout",
          "text": [
            "3a =  [ 3  6  9 12 15]\n"
          ]
        }
      ]
    },
    {
      "cell_type": "markdown",
      "metadata": {
        "id": "77qmj9mY3ER3"
      },
      "source": [
        "実はNumPyでは形状の異なる2つの配列に対してユニバーサル関数による二項演算を行う場合、特定のルールに従って一方または両方の配列の形状を仮想的に拡張し、形状を揃えてから計算を行います。これをブロードキャストと呼びます。\n",
        "\n",
        "上の例でどのようなブロードキャストが起きているか考察してみましょう。`3`は`int`型ですが、NumPyはこれを0次元配列（スカラー）`np.array(3)`として扱います。`a`（形状(5,)）とスカラー`np.array(3)`（形状()）で要素ごとの積`*`を計算するためには、形状を揃える必要があります。\n",
        "\n",
        "この場合、まずスカラー`3`は0次元配列`np.array(3)`（形状()）として扱われます。次に、`a`の形状(5,)に合わせて、`np.array(3)`が仮想的に`np.array([3, 3, 3, 3, 3])`（形状(5,)）に拡張（ブロードキャスト）され、要素ごとの積が計算されます。\n",
        "\n",
        "では以下の2つの1次元配列の2項演算を行った場合、どうなるでしょうか？"
      ]
    },
    {
      "cell_type": "code",
      "metadata": {
        "scrolled": true,
        "id": "rsTZR3YB3ER3",
        "colab": {
          "base_uri": "https://localhost:8080/",
          "height": 180
        },
        "outputId": "9dbba3e5-ada3-4467-f3a2-beb9d14308c4"
      },
      "source": [
        "c = np.array([1, 2, 3, 4, 5])\n",
        "d = np.array([1, 2])\n",
        "\n",
        "print(c * d)"
      ],
      "execution_count": null,
      "outputs": [
        {
          "output_type": "error",
          "ename": "ValueError",
          "evalue": "operands could not be broadcast together with shapes (5,) (2,) ",
          "traceback": [
            "\u001b[0;31m---------------------------------------------------------------------------\u001b[0m",
            "\u001b[0;31mValueError\u001b[0m                                Traceback (most recent call last)",
            "\u001b[0;32m<ipython-input-15-276241800a89>\u001b[0m in \u001b[0;36m<cell line: 0>\u001b[0;34m()\u001b[0m\n\u001b[1;32m      2\u001b[0m \u001b[0md\u001b[0m \u001b[0;34m=\u001b[0m \u001b[0mnp\u001b[0m\u001b[0;34m.\u001b[0m\u001b[0marray\u001b[0m\u001b[0;34m(\u001b[0m\u001b[0;34m[\u001b[0m\u001b[0;36m1\u001b[0m\u001b[0;34m,\u001b[0m \u001b[0;36m2\u001b[0m\u001b[0;34m]\u001b[0m\u001b[0;34m)\u001b[0m\u001b[0;34m\u001b[0m\u001b[0;34m\u001b[0m\u001b[0m\n\u001b[1;32m      3\u001b[0m \u001b[0;34m\u001b[0m\u001b[0m\n\u001b[0;32m----> 4\u001b[0;31m \u001b[0mprint\u001b[0m\u001b[0;34m(\u001b[0m\u001b[0mc\u001b[0m \u001b[0;34m*\u001b[0m \u001b[0md\u001b[0m\u001b[0;34m)\u001b[0m\u001b[0;34m\u001b[0m\u001b[0;34m\u001b[0m\u001b[0m\n\u001b[0m",
            "\u001b[0;31mValueError\u001b[0m: operands could not be broadcast together with shapes (5,) (2,) "
          ]
        }
      ]
    },
    {
      "cell_type": "markdown",
      "metadata": {
        "id": "3pKQAwPF3ER6"
      },
      "source": [
        "ここではエラーが出てしまいます。\\\n",
        "ブロードキャストのルールでは、次元ごとのサイズを比較し、サイズが一致するか、どちらかが1である場合にのみ計算可能です。サイズが1の次元は、もう一方の配列の対応する次元のサイズに合わせて拡張されます。この例では、最後の次元のサイズが5と2で一致せず、どちらも1ではないため、ブロードキャストできません。\n",
        "<br>\n",
        "<br>\n",
        "<br>\n",
        "\n",
        "●ブロードキャストの仕様\\\n",
        "・各次元が同じであるか、または一方の次元が 1 でなければならない。\\\n",
        "・1 次元は、その長さが異なる次元に合わせて繰り返し拡張される。\n"
      ]
    },
    {
      "cell_type": "markdown",
      "metadata": {
        "id": "vUghmkZv3ER6"
      },
      "source": [
        "### 基本的な関数\n",
        "Pythonのリストには`max()`や`sum()`といった組み込み関数が利用できました。`np.ndarray`に対しても同様の計算を行う関数がNumPyに用意されています。"
      ]
    },
    {
      "cell_type": "code",
      "metadata": {
        "id": "k1NBy5aL3ER6",
        "colab": {
          "base_uri": "https://localhost:8080/"
        },
        "outputId": "90b10252-efab-4ad5-8f42-e2c606822789"
      },
      "source": [
        "print(\"max: \", np.max(a))\n",
        "print(\"sum: \", np.sum(a))\n",
        "print(\"mean: \", np.mean(a)) # meanは平均値\n",
        "print(\"std: \", np.std(a)) # stdは標準偏差"
      ],
      "execution_count": null,
      "outputs": [
        {
          "output_type": "stream",
          "name": "stdout",
          "text": [
            "max:  5\n",
            "sum:  15\n",
            "mean:  3.0\n",
            "std:  1.4142135623730951\n"
          ]
        }
      ]
    },
    {
      "cell_type": "markdown",
      "metadata": {
        "id": "vq97-OMz3ER9"
      },
      "source": [
        "また、Pythonのリストでは`+`演算子でリストの結合を行いますが、`np.ndarray`では`+`は要素ごとの和を計算するため、配列の結合には`np.concatenate()`や`np.r_`、`np.c_`などを使用し、次のように計算します。"
      ]
    },
    {
      "cell_type": "code",
      "metadata": {
        "id": "N3JFAA0i3ER-",
        "colab": {
          "base_uri": "https://localhost:8080/"
        },
        "outputId": "a196d4ec-22c7-4b7f-9f25-43db6a4bfcc0"
      },
      "source": [
        "print(\"aとbの連結 (concatenate): \", np.concatenate((a, b)))\n",
        "print(\"aとbの連結（r_）: \", np.r_[a, b])"
      ],
      "execution_count": null,
      "outputs": [
        {
          "output_type": "stream",
          "name": "stdout",
          "text": [
            "aとbの連結 (concatenate):  [1 2 3 4 5 2 2 3 6 0]\n",
            "aとbの連結（r_）:  [1 2 3 4 5 2 2 3 6 0]\n"
          ]
        }
      ]
    },
    {
      "cell_type": "code",
      "metadata": {
        "id": "sQmwTArK37Nv"
      },
      "source": [
        "concat = np.r_[a, b]"
      ],
      "execution_count": null,
      "outputs": []
    },
    {
      "cell_type": "code",
      "metadata": {
        "colab": {
          "base_uri": "https://localhost:8080/"
        },
        "id": "wn-I4oyp3-TY",
        "outputId": "009b038e-3e04-4b41-c594-3254c0e10fca"
      },
      "source": [
        "concat"
      ],
      "execution_count": null,
      "outputs": [
        {
          "output_type": "execute_result",
          "data": {
            "text/plain": [
              "array([1, 2, 3, 4, 5, 2, 2, 3, 6, 0])"
            ]
          },
          "metadata": {},
          "execution_count": 19
        }
      ]
    },
    {
      "cell_type": "markdown",
      "metadata": {
        "id": "xlTJYDDO3ESA"
      },
      "source": [
        "また、1次元配列の要素数はPythonと同様に`len()`関数で取得できます。"
      ]
    },
    {
      "cell_type": "code",
      "metadata": {
        "id": "sG_ih6X63ESA",
        "colab": {
          "base_uri": "https://localhost:8080/"
        },
        "outputId": "f5e6c8a3-b1b9-4556-93bc-ed6811b98e10"
      },
      "source": [
        "print(\"aの長さ: \", len(a))"
      ],
      "execution_count": null,
      "outputs": [
        {
          "output_type": "stream",
          "name": "stdout",
          "text": [
            "aの長さ:  5\n"
          ]
        }
      ]
    },
    {
      "cell_type": "code",
      "metadata": {
        "id": "sdraBPVXpymj",
        "colab": {
          "base_uri": "https://localhost:8080/"
        },
        "outputId": "de31d9f6-1fd7-4b35-bde9-6396501a6324"
      },
      "source": [
        "print(a.shape[0])"
      ],
      "execution_count": null,
      "outputs": [
        {
          "output_type": "stream",
          "name": "stdout",
          "text": [
            "5\n"
          ]
        }
      ]
    },
    {
      "cell_type": "markdown",
      "metadata": {
        "id": "5ZfRKRq73ESD"
      },
      "source": [
        "最後に、`np.ndarray`をPythonのリストに変換するには`tolist()`メソッドまたは`list()`関数を用います。"
      ]
    },
    {
      "cell_type": "code",
      "metadata": {
        "id": "OnbSDzs_3ESD",
        "colab": {
          "base_uri": "https://localhost:8080/"
        },
        "outputId": "c21d3503-bc28-4cf2-907f-52057d4df0fd"
      },
      "source": [
        "a_list = list(a)\n",
        "print(a_list)\n",
        "print(type(a_list))\n",
        "\n",
        "a_tolist = a.tolist()\n",
        "print(a_tolist)\n",
        "print(type(a_tolist))"
      ],
      "execution_count": null,
      "outputs": [
        {
          "output_type": "stream",
          "name": "stdout",
          "text": [
            "[np.int64(1), np.int64(2), np.int64(3), np.int64(4), np.int64(5)]\n",
            "<class 'list'>\n",
            "[1, 2, 3, 4, 5]\n",
            "<class 'list'>\n"
          ]
        }
      ]
    },
    {
      "cell_type": "markdown",
      "metadata": {
        "id": "VmrICa373ESH"
      },
      "source": [
        "## 1.3 練習問題"
      ]
    },
    {
      "cell_type": "markdown",
      "metadata": {
        "id": "bdU2-06e3ESH"
      },
      "source": [
        "**問1** \\\n",
        "(1) 1次元であなたの好きな値を要素にもつ同じ長さの`np.ndarray`を2つ作成し、`type()`関数を用いて`np.ndarray`になっていることを確認してください。\\\n",
        "(2) (1)で作成した2つの1次元配列に対して要素ごとの四則演算を行ってください。"
      ]
    },
    {
      "cell_type": "code",
      "metadata": {
        "id": "m4_L_TLY3ESJ"
      },
      "source": [
        "# (1)\n",
        "# WRITE ME"
      ],
      "execution_count": null,
      "outputs": []
    },
    {
      "cell_type": "code",
      "metadata": {
        "id": "ljH0Y2wI3ESL"
      },
      "source": [
        "# (2)\n",
        "# WRITE ME"
      ],
      "execution_count": null,
      "outputs": []
    },
    {
      "cell_type": "markdown",
      "metadata": {
        "id": "mbII7qTA3ESN"
      },
      "source": [
        "**問２**\\\n",
        "1次元配列を入力とし、その配列をL2ノルムで規格化した配列を出力する関数を作成してください。\n",
        "\n",
        "ここで、ベクトルのL2ノルムによる規格化とは、元のベクトルと同じ向きで、長さ（L2ノルム、つまり全要素の2乗和の平方根）が1になるようにスカラー倍することです。\n",
        "\n",
        "このとき、NumPyの**ユニバーサル関数や基本的な演算のみ**を用いて実装してください。"
      ]
    },
    {
      "cell_type": "code",
      "metadata": {
        "id": "eAdLY2SM3ESO"
      },
      "source": [
        "def normalize(a):\n",
        "    # WRITE ME\n",
        "    return a"
      ],
      "execution_count": null,
      "outputs": []
    },
    {
      "cell_type": "markdown",
      "metadata": {
        "id": "M5RLnqU83ESQ"
      },
      "source": [
        "# 2 NumPyのインデックス 1"
      ]
    },
    {
      "cell_type": "markdown",
      "metadata": {
        "id": "g4I-ufEQ3ESQ"
      },
      "source": [
        "このセクションでは`np.ndarray`、特に1次元配列（ベクトル）におけるインデックスを用いた要素や部分配列の取得方法を学びます。"
      ]
    },
    {
      "cell_type": "markdown",
      "metadata": {
        "id": "JOTHfIwH3ESR"
      },
      "source": [
        "## 2.1 インデクシングによる値の取得\n",
        "Pythonのリストでは`[]`を使うことによって、任意の位置の値を取得できました。\n",
        "\n",
        "これはNumPyの1次元配列でも同様です。\n",
        "\n",
        "このとき、インデックスは0からスタートするので注意しましょう。"
      ]
    },
    {
      "cell_type": "code",
      "metadata": {
        "id": "pXuGLDcI3ESR",
        "colab": {
          "base_uri": "https://localhost:8080/"
        },
        "outputId": "2a813285-4fc6-4510-f2b5-7127ba4186fe"
      },
      "source": [
        "a = np.array([2, 9, 9, 7, 9, 2, 4, 5, 8])\n",
        "\n",
        "print(\"aの前から4番目の値はa[3]=\", a[3])"
      ],
      "execution_count": null,
      "outputs": [
        {
          "output_type": "stream",
          "name": "stdout",
          "text": [
            "aの前から4番目の値はa[3]= 7\n"
          ]
        }
      ]
    },
    {
      "cell_type": "markdown",
      "metadata": {
        "id": "Pg0ZNvym3ESU"
      },
      "source": [
        "負のインデックスはリストと同様に、末尾から数えることを意味します。先頭からのインデックスは0から始まりますが、末尾からのインデックスは-1から始まることに注意しましょう。例えば，`a`の前から4番目は`a[3]`で取得しましたが，後ろから4番目は以下のように取得します。"
      ]
    },
    {
      "cell_type": "code",
      "metadata": {
        "id": "cosJWTkd3ESU",
        "colab": {
          "base_uri": "https://localhost:8080/"
        },
        "outputId": "29ca12b4-2198-4009-b19a-c9f39fc75b5a"
      },
      "source": [
        "print(\"aの後ろから4番目の値はa[-4]=\", a[-4])"
      ],
      "execution_count": null,
      "outputs": [
        {
          "output_type": "stream",
          "name": "stdout",
          "text": [
            "aの後ろから4番目の値はa[-4]= 2\n"
          ]
        }
      ]
    },
    {
      "cell_type": "markdown",
      "metadata": {
        "id": "okeaDPOS3ESX"
      },
      "source": [
        "また、PythonのリストとNumPyの1次元配列のインデクシングには違いがあります。Pythonのリストのインデックスに使用できるのは整数値と次の章で説明するスライスのみですが、NumPy配列では、インデックスとして整数のリストや配列を指定することで、複数の要素を同時に取得できます（ファンシーインデックス）。"
      ]
    },
    {
      "cell_type": "code",
      "metadata": {
        "id": "tWfn95eH3ESX",
        "colab": {
          "base_uri": "https://localhost:8080/"
        },
        "outputId": "45f0a7af-c27b-4c54-97d7-f4aee53959b4"
      },
      "source": [
        "print(a[[1, 3, 0, 6]])\n",
        "\n",
        "# 一旦別の変数に保存しておくことも可能です\n",
        "ids = [1, 3, 0, 6]\n",
        "print(a[ids])"
      ],
      "execution_count": null,
      "outputs": [
        {
          "output_type": "stream",
          "name": "stdout",
          "text": [
            "[9 7 2 4]\n",
            "[9 7 2 4]\n"
          ]
        }
      ]
    },
    {
      "cell_type": "markdown",
      "metadata": {
        "id": "OyOZjCjJ3ESa"
      },
      "source": [
        "## 2.2 スライシング\n",
        "ここではNumPy配列のスライシングを学習します。その前に、Pythonのリストにおけるスライシングを復習しましょう。"
      ]
    },
    {
      "cell_type": "markdown",
      "metadata": {
        "id": "gj7jxWPn3ESb"
      },
      "source": [
        "Pythonのリストではスライシングは`start: end: step`という形式をしていました。これは，リストから取り出すインデックスを初項`start`，公差`step`の等差数列で終項が`end`未満で最大の数になるように取り出します。"
      ]
    },
    {
      "cell_type": "code",
      "metadata": {
        "id": "pzPs2gD23ESb",
        "colab": {
          "base_uri": "https://localhost:8080/"
        },
        "outputId": "8d703913-15ac-498c-b2b2-c27f0909dd3d"
      },
      "source": [
        "a = list(range(30)) # 0~29を要素にもつList\n",
        "print(a[2: 15: 3])"
      ],
      "execution_count": null,
      "outputs": [
        {
          "output_type": "stream",
          "name": "stdout",
          "text": [
            "[2, 5, 8, 11, 14]\n"
          ]
        }
      ]
    },
    {
      "cell_type": "markdown",
      "metadata": {
        "id": "QvrRl9Xq3ESd"
      },
      "source": [
        "ここで，`start`, `end`, `step`はそれぞれ省略することが可能で，省略した場合は`start=0`, `endは要素の最後まで取得する`, `step=1`となります（`step`がマイナスになると，逆向きに値を取得します）。"
      ]
    },
    {
      "cell_type": "code",
      "metadata": {
        "id": "DZ3-l04b3ESe",
        "colab": {
          "base_uri": "https://localhost:8080/"
        },
        "outputId": "6dddd4d0-9b7f-46ed-ebdc-0413faf5b405"
      },
      "source": [
        "print(\"startを省略した場合:\", end='\\t')\n",
        "print(a[: 15: 3])\n",
        "\n",
        "print(\"endを省略した場合:\", end='\\t')\n",
        "print(a[2: : 3])\n",
        "\n",
        "print(\"stepを省略した場合1:\", end='\\t')\n",
        "print(a[2: 15:])\n",
        "# 最後の:は省略できる\n",
        "print(\"stepを省略した場合2:\", end='\\t')\n",
        "print(a[2: 15])\n",
        "\n",
        "print(\"stepとendを省略した場合:\", end='\\t')\n",
        "print(a[2:])"
      ],
      "execution_count": null,
      "outputs": [
        {
          "output_type": "stream",
          "name": "stdout",
          "text": [
            "startを省略した場合:\t[0, 3, 6, 9, 12]\n",
            "endを省略した場合:\t[2, 5, 8, 11, 14, 17, 20, 23, 26, 29]\n",
            "stepを省略した場合1:\t[2, 3, 4, 5, 6, 7, 8, 9, 10, 11, 12, 13, 14]\n",
            "stepを省略した場合2:\t[2, 3, 4, 5, 6, 7, 8, 9, 10, 11, 12, 13, 14]\n",
            "stepとendを省略した場合:\t[2, 3, 4, 5, 6, 7, 8, 9, 10, 11, 12, 13, 14, 15, 16, 17, 18, 19, 20, 21, 22, 23, 24, 25, 26, 27, 28, 29]\n"
          ]
        }
      ]
    },
    {
      "cell_type": "code",
      "metadata": {
        "id": "otA7jxPK3ESh",
        "colab": {
          "base_uri": "https://localhost:8080/"
        },
        "outputId": "c1a25a62-1bda-4e3e-96cd-c28ccb7bac57"
      },
      "source": [
        "print(\"stepがマイナスの場合:\", end='\\t')\n",
        "print(a[15: 2: -3])"
      ],
      "execution_count": null,
      "outputs": [
        {
          "output_type": "stream",
          "name": "stdout",
          "text": [
            "stepがマイナスの場合:\t[15, 12, 9, 6, 3]\n"
          ]
        }
      ]
    },
    {
      "cell_type": "markdown",
      "metadata": {
        "id": "7DnpV5lE3ESk"
      },
      "source": [
        "それではNumPyにおけるスライシングを見ていきましょう。実は、NumPyの1次元配列もリストとほぼ同じように`start:stop:step`でスライシングできます。"
      ]
    },
    {
      "cell_type": "code",
      "metadata": {
        "id": "1fvJfjN73ESk",
        "colab": {
          "base_uri": "https://localhost:8080/"
        },
        "outputId": "b2829b58-e87c-4642-e9e0-3a9a4e39c414"
      },
      "source": [
        "a = np.arange(30) # np.arange(30)はnp.array(range(30))と等価\n",
        "print(a[2: 15: 3])\n",
        "print(type(a[2: 15: 3]))"
      ],
      "execution_count": null,
      "outputs": [
        {
          "output_type": "stream",
          "name": "stdout",
          "text": [
            "[ 2  5  8 11 14]\n",
            "<class 'numpy.ndarray'>\n"
          ]
        }
      ]
    },
    {
      "cell_type": "code",
      "metadata": {
        "id": "VzmTFfvu3ESn",
        "colab": {
          "base_uri": "https://localhost:8080/"
        },
        "outputId": "398de398-5ac2-402e-8611-3d2661d23be0"
      },
      "source": [
        "print(\"startを省略した場合:\\t\", a[: 15: 3])\n",
        "\n",
        "print(\"endを省略した場合:\", end='\\t')\n",
        "print(a[2: : 3])\n",
        "\n",
        "print(\"stepを省略した場合1:\", end='\\t')\n",
        "print(a[2: 15:])\n",
        "# 最後の:は省略できる\n",
        "print(\"stepを省略した場合2:\", end='\\t')\n",
        "print(a[2: 15])\n",
        "\n",
        "print(\"stepとendを省略した場合:\", end='\\t')\n",
        "print(a[2:])"
      ],
      "execution_count": null,
      "outputs": [
        {
          "output_type": "stream",
          "name": "stdout",
          "text": [
            "startを省略した場合:\t [ 0  3  6  9 12]\n",
            "endを省略した場合:\t[ 2  5  8 11 14 17 20 23 26 29]\n",
            "stepを省略した場合1:\t[ 2  3  4  5  6  7  8  9 10 11 12 13 14]\n",
            "stepを省略した場合2:\t[ 2  3  4  5  6  7  8  9 10 11 12 13 14]\n",
            "stepとendを省略した場合:\t[ 2  3  4  5  6  7  8  9 10 11 12 13 14 15 16 17 18 19 20 21 22 23 24 25\n",
            " 26 27 28 29]\n"
          ]
        }
      ]
    },
    {
      "cell_type": "code",
      "metadata": {
        "id": "IKYaPkI13ESq",
        "colab": {
          "base_uri": "https://localhost:8080/"
        },
        "outputId": "13df6fd6-bdf6-409e-a125-c68c0034dc81"
      },
      "source": [
        "print(\"stepがマイナスの場合:\", end='\\t')\n",
        "print(a[15: 2: -3])"
      ],
      "execution_count": null,
      "outputs": [
        {
          "output_type": "stream",
          "name": "stdout",
          "text": [
            "stepがマイナスの場合:\t[15 12  9  6  3]\n"
          ]
        }
      ]
    },
    {
      "cell_type": "markdown",
      "metadata": {
        "id": "vW8TZx2d3ESt"
      },
      "source": [
        "## 2.3 ブールインデックス参照"
      ]
    },
    {
      "cell_type": "markdown",
      "metadata": {
        "id": "eGzJVRsW3ESt"
      },
      "source": [
        "ここでは、NumPyのインデックス操作の中でも非常に便利なブールインデックス参照（boolean indexing）を学習します。\n",
        "\n",
        "1次元配列のブールインデックス参照とは次のような動作をします：\n",
        "- 1次元配列のインデックスに、同じ長さを持つブール値の配列やリストを指定すると、`True`に対応する位置の要素だけを取り出した新しい1次元配列を返します。\n",
        "\n",
        "実際に例を見てみましょう。"
      ]
    },
    {
      "cell_type": "code",
      "metadata": {
        "id": "WRcI0tfP3ESu",
        "colab": {
          "base_uri": "https://localhost:8080/"
        },
        "outputId": "60a6f8ee-d67c-4e88-8b70-cfbb6f07ec61"
      },
      "source": [
        "a = np.array([1, 1, 2, 3, 5, 8, 13, 21])\n",
        "\n",
        "# bool値をもつListを作成\n",
        "idx = [True, False, False, True, False, True, True, False]\n",
        "\n",
        "# ブールインデックス参照\n",
        "print(a[idx])"
      ],
      "execution_count": null,
      "outputs": [
        {
          "output_type": "stream",
          "name": "stdout",
          "text": [
            "[ 1  3  8 13]\n"
          ]
        }
      ]
    },
    {
      "cell_type": "markdown",
      "metadata": {
        "id": "JBUODp6i3ESy"
      },
      "source": [
        "また、1.2で学んだ比較演算子と組み合わせると、次のように特定の条件を満たす要素だけを抽出できます。"
      ]
    },
    {
      "cell_type": "code",
      "metadata": {
        "colab": {
          "base_uri": "https://localhost:8080/"
        },
        "id": "YPS1crUC1Tu5",
        "outputId": "3857a695-905d-4d09-cfc7-9bbc00741b9e"
      },
      "source": [
        "a % 3"
      ],
      "execution_count": null,
      "outputs": [
        {
          "output_type": "execute_result",
          "data": {
            "text/plain": [
              "array([1, 1, 2, 0, 2, 2, 1, 0])"
            ]
          },
          "metadata": {},
          "execution_count": 36
        }
      ]
    },
    {
      "cell_type": "code",
      "metadata": {
        "id": "oz0XsEZp3ESy",
        "colab": {
          "base_uri": "https://localhost:8080/"
        },
        "outputId": "feef5b0a-996b-4c6a-81f0-81e755e0e047"
      },
      "source": [
        "# aの要素のうち、3の倍数である要素に対応する位置をTrue、それ以外をFalseとするブール配列\n",
        "idx = (a % 3 == 0) # %は余りを計算する演算子で，ユニバーサル\n",
        "print(\"ブールインデックス:\", idx)\n",
        "\n",
        "# aのうち3の倍数となるものを取得\n",
        "print(\"aの要素で3の倍数であるもの:\", a[idx])"
      ],
      "execution_count": null,
      "outputs": [
        {
          "output_type": "stream",
          "name": "stdout",
          "text": [
            "ブールインデックス: [False False False  True False False False  True]\n",
            "aの要素で3の倍数であるもの: [ 3 21]\n"
          ]
        }
      ]
    },
    {
      "cell_type": "markdown",
      "metadata": {
        "id": "sTKjuhFW3ES1"
      },
      "source": [
        "## 2.4 練習問題"
      ]
    },
    {
      "cell_type": "markdown",
      "metadata": {
        "id": "bbLC3ITq3ES1"
      },
      "source": [
        "**問1** インデキシングの基礎\\\n",
        "あなたが作成した任意の配列に対して，前から一番目と後ろから一番目の値を取得して表示してください。"
      ]
    },
    {
      "cell_type": "code",
      "metadata": {
        "id": "JlAp0co73ES2",
        "colab": {
          "base_uri": "https://localhost:8080/"
        },
        "outputId": "894650d9-4864-4c4b-d290-bef8a4ad8f2d"
      },
      "source": [
        "a = np.array([])\n",
        "print(\"前から一番目の値:\")\n",
        "\n",
        "print(\"後ろから一番目の値:\")"
      ],
      "execution_count": null,
      "outputs": [
        {
          "output_type": "stream",
          "name": "stdout",
          "text": [
            "前から一番目の値:\n",
            "後ろから一番目の値:\n"
          ]
        }
      ]
    },
    {
      "cell_type": "markdown",
      "metadata": {
        "id": "Cvj21gNT3ES6"
      },
      "source": [
        "**問2** ブールインデックス参照 \\\n",
        "(1) 整数値を要素にもつNumPyの1次元配列を引数として、その配列の中から、要素が奇数であるか、または4で割って2余る数である要素のみを抽出した新しい配列を出力する関数を実装してください。\\\n",
        "(2) 正の整数`n`を引数として、`n`より小さい正の平方数の個数を、ブールインデックス参照を用いて求める関数を実装してください(ヒント:十分な数の正の平方数を小さい順に列挙し，その中で引数より小さいものを数える)。"
      ]
    },
    {
      "cell_type": "code",
      "metadata": {
        "id": "NGCucVQm3ES6"
      },
      "source": [
        "# (1)\n",
        "def make_bool_ids(a):\n",
        "    # WRITE ME\n",
        "    return b # b is `np.ndarray`"
      ],
      "execution_count": null,
      "outputs": []
    },
    {
      "cell_type": "code",
      "metadata": {
        "id": "jLQ8kqpW3ES9"
      },
      "source": [
        "# 入力例\n",
        "a = np.array([1, 1, 2, 2, 3, 3, 4, 4, 5, 5])\n",
        "# 出力例\n",
        "# np.array([1, 1, 2, 2, 3, 3, 5, 5])"
      ],
      "execution_count": null,
      "outputs": []
    },
    {
      "cell_type": "code",
      "metadata": {
        "id": "5-0lvOKX3ETB"
      },
      "source": [
        "# (2)\n",
        "def count_square(n):\n",
        "    # WRITE ME\n",
        "    return answer"
      ],
      "execution_count": null,
      "outputs": []
    },
    {
      "cell_type": "code",
      "metadata": {
        "id": "zQ6ZyTE83ETE"
      },
      "source": [
        "# 入力例\n",
        "n = 20\n",
        "# 出力例\n",
        "# 20未満の正の平方数は1, 4, 9, 16\n",
        "# 4"
      ],
      "execution_count": null,
      "outputs": []
    },
    {
      "cell_type": "markdown",
      "metadata": {
        "id": "fNDoGXW63ETI"
      },
      "source": [
        "# 3 NumPyの2次元配列\n"
      ]
    },
    {
      "cell_type": "markdown",
      "metadata": {
        "id": "tYmSqtexbXF9"
      },
      "source": [
        "この章では1次元配列からさらに発展して2次元配列を扱います。これは数学における行列と対応するものです。\n",
        "\n",
        "この講座の機械学習部分では主に2次元配列までしか扱わないため、3次元以上についてはここでは詳しく触れませんが、1次元配列から2次元配列への拡張を理解すれば、3次元以上にも応用できます。\n",
        "\n",
        "機械学習では、行（縦軸、axis 0）にサンプル（データ点、レコード）、列（横軸、axis 1）に特徴量（説明変数）を格納した2次元配列をデータとして扱うことがよくあります。この章で扱う内容は特に基本なのでマスターしましょう。"
      ]
    },
    {
      "cell_type": "markdown",
      "metadata": {
        "id": "c2at43oY3ETJ"
      },
      "source": [
        "### 3.1 2次元配列の作成"
      ]
    },
    {
      "cell_type": "markdown",
      "metadata": {
        "id": "emDMckFF3ETJ"
      },
      "source": [
        "実際に2次元配列を作成してみましょう。これも1次元配列と同じく、`np.array()`関数を用います。\n",
        "\n",
        "**(注) 以下では、$n \\times m$行列や形状$(n, m)$の配列と書く場合、$n$が行数（axis 0のサイズ）、$m$が列数（axis 1のサイズ）を指します。**"
      ]
    },
    {
      "cell_type": "code",
      "metadata": {
        "id": "zF_lWAuo3ETJ",
        "colab": {
          "base_uri": "https://localhost:8080/"
        },
        "outputId": "e66be44d-f2bd-40a6-a544-0b5d587cfe7d"
      },
      "source": [
        "# 3*2行列を作ってみる\n",
        "# 3*2のListを変換する\n",
        "a = np.array(\n",
        "    [[1, 2],\n",
        "    [3, 4],\n",
        "    [5, 6]])\n",
        "print(a)\n",
        "print(\"shape: \", a.shape) # 配列aの形(shape)を表すタプルを返す"
      ],
      "execution_count": null,
      "outputs": [
        {
          "output_type": "stream",
          "name": "stdout",
          "text": [
            "[[1 2]\n",
            " [3 4]\n",
            " [5 6]]\n",
            "shape:  (3, 2)\n"
          ]
        }
      ]
    },
    {
      "cell_type": "markdown",
      "metadata": {
        "id": "TyIna1u73ETN"
      },
      "source": [
        "二次元のリストを作って`np.array()`をするのではかなり面倒です。そこで、予め1次元配列を作った上で`np.ndarray.reshape()`という関数を使って2次元配列に整形することができます。"
      ]
    },
    {
      "cell_type": "code",
      "metadata": {
        "id": "ISasmyYq3ETN",
        "colab": {
          "base_uri": "https://localhost:8080/"
        },
        "outputId": "960b8811-ce85-4dac-a6dc-b1206a2c0649"
      },
      "source": [
        "a = np.array([1, 2, 3, 4, 5, 6])\n",
        "a = a.reshape(3, 2)\n",
        "print(a)\n",
        "print(\"shape: \", a.shape)"
      ],
      "execution_count": null,
      "outputs": [
        {
          "output_type": "stream",
          "name": "stdout",
          "text": [
            "[[1 2]\n",
            " [3 4]\n",
            " [5 6]]\n",
            "shape:  (3, 2)\n"
          ]
        }
      ]
    },
    {
      "cell_type": "markdown",
      "metadata": {
        "id": "2edG_xje3ETP"
      },
      "source": [
        "このように、`reshape`メソッドに引数として変形後の形状（タプル）を渡すと、要素数が同じであればその形状に変形できます。ただし、`reshape`は元の配列と要素数が異なる形状には変換できません。例えば、以下のような場合はエラーを返します。"
      ]
    },
    {
      "cell_type": "code",
      "metadata": {
        "id": "AxtnzL1Z3ETQ",
        "colab": {
          "base_uri": "https://localhost:8080/",
          "height": 162
        },
        "outputId": "6dec875d-4714-42a7-f890-63ddf101a586"
      },
      "source": [
        "a = np.array([1, 2, 3, 4, 5, 6])\n",
        "a = a.reshape(3, 1) # 6個の要素を持つ配列は3*1個の要素を持つ配列に整形できない"
      ],
      "execution_count": null,
      "outputs": [
        {
          "output_type": "error",
          "ename": "ValueError",
          "evalue": "cannot reshape array of size 6 into shape (3,1)",
          "traceback": [
            "\u001b[0;31m---------------------------------------------------------------------------\u001b[0m",
            "\u001b[0;31mValueError\u001b[0m                                Traceback (most recent call last)",
            "\u001b[0;32m<ipython-input-45-692eb5dbd063>\u001b[0m in \u001b[0;36m<cell line: 0>\u001b[0;34m()\u001b[0m\n\u001b[1;32m      1\u001b[0m \u001b[0ma\u001b[0m \u001b[0;34m=\u001b[0m \u001b[0mnp\u001b[0m\u001b[0;34m.\u001b[0m\u001b[0marray\u001b[0m\u001b[0;34m(\u001b[0m\u001b[0;34m[\u001b[0m\u001b[0;36m1\u001b[0m\u001b[0;34m,\u001b[0m \u001b[0;36m2\u001b[0m\u001b[0;34m,\u001b[0m \u001b[0;36m3\u001b[0m\u001b[0;34m,\u001b[0m \u001b[0;36m4\u001b[0m\u001b[0;34m,\u001b[0m \u001b[0;36m5\u001b[0m\u001b[0;34m,\u001b[0m \u001b[0;36m6\u001b[0m\u001b[0;34m]\u001b[0m\u001b[0;34m)\u001b[0m\u001b[0;34m\u001b[0m\u001b[0;34m\u001b[0m\u001b[0m\n\u001b[0;32m----> 2\u001b[0;31m \u001b[0ma\u001b[0m \u001b[0;34m=\u001b[0m \u001b[0ma\u001b[0m\u001b[0;34m.\u001b[0m\u001b[0mreshape\u001b[0m\u001b[0;34m(\u001b[0m\u001b[0;36m3\u001b[0m\u001b[0;34m,\u001b[0m \u001b[0;36m1\u001b[0m\u001b[0;34m)\u001b[0m \u001b[0;31m# 6個の要素を持つ配列は3*1個の要素を持つ配列に整形できない\u001b[0m\u001b[0;34m\u001b[0m\u001b[0;34m\u001b[0m\u001b[0m\n\u001b[0m",
            "\u001b[0;31mValueError\u001b[0m: cannot reshape array of size 6 into shape (3,1)"
          ]
        }
      ]
    },
    {
      "cell_type": "markdown",
      "metadata": {
        "id": "d9OqV5G-3ETS"
      },
      "source": [
        "また，指定するshapeのうち一つの要素を`-1`にすることで，自動で整形してくれます。"
      ]
    },
    {
      "cell_type": "code",
      "metadata": {
        "id": "w49-qNbf3ETS",
        "colab": {
          "base_uri": "https://localhost:8080/"
        },
        "outputId": "682491c5-8bc8-4106-a03d-cbb56709c9d1"
      },
      "source": [
        "a = np.array([1, 2, 3, 4, 5, 6])\n",
        "a = a.reshape(3, -1)\n",
        "print(a)\n",
        "print(\"shape: \", a.shape)"
      ],
      "execution_count": null,
      "outputs": [
        {
          "output_type": "stream",
          "name": "stdout",
          "text": [
            "[[1 2]\n",
            " [3 4]\n",
            " [5 6]]\n",
            "shape:  (3, 2)\n"
          ]
        }
      ]
    },
    {
      "cell_type": "code",
      "metadata": {
        "id": "x4_37bE03ETV",
        "colab": {
          "base_uri": "https://localhost:8080/",
          "height": 162
        },
        "outputId": "f01ce7c7-521a-4c4e-b026-8ee2dd30a14c"
      },
      "source": [
        "a = np.array([1, 2, 3, 4, 5, 6])\n",
        "a = a.reshape(4, -1) # 要素数6は4で割り切れないためエラー"
      ],
      "execution_count": null,
      "outputs": [
        {
          "output_type": "error",
          "ename": "ValueError",
          "evalue": "cannot reshape array of size 6 into shape (4,newaxis)",
          "traceback": [
            "\u001b[0;31m---------------------------------------------------------------------------\u001b[0m",
            "\u001b[0;31mValueError\u001b[0m                                Traceback (most recent call last)",
            "\u001b[0;32m<ipython-input-47-9dc517b3000e>\u001b[0m in \u001b[0;36m<cell line: 0>\u001b[0;34m()\u001b[0m\n\u001b[1;32m      1\u001b[0m \u001b[0ma\u001b[0m \u001b[0;34m=\u001b[0m \u001b[0mnp\u001b[0m\u001b[0;34m.\u001b[0m\u001b[0marray\u001b[0m\u001b[0;34m(\u001b[0m\u001b[0;34m[\u001b[0m\u001b[0;36m1\u001b[0m\u001b[0;34m,\u001b[0m \u001b[0;36m2\u001b[0m\u001b[0;34m,\u001b[0m \u001b[0;36m3\u001b[0m\u001b[0;34m,\u001b[0m \u001b[0;36m4\u001b[0m\u001b[0;34m,\u001b[0m \u001b[0;36m5\u001b[0m\u001b[0;34m,\u001b[0m \u001b[0;36m6\u001b[0m\u001b[0;34m]\u001b[0m\u001b[0;34m)\u001b[0m\u001b[0;34m\u001b[0m\u001b[0;34m\u001b[0m\u001b[0m\n\u001b[0;32m----> 2\u001b[0;31m \u001b[0ma\u001b[0m \u001b[0;34m=\u001b[0m \u001b[0ma\u001b[0m\u001b[0;34m.\u001b[0m\u001b[0mreshape\u001b[0m\u001b[0;34m(\u001b[0m\u001b[0;36m4\u001b[0m\u001b[0;34m,\u001b[0m \u001b[0;34m-\u001b[0m\u001b[0;36m1\u001b[0m\u001b[0;34m)\u001b[0m \u001b[0;31m# 要素数6は4で割り切れないためエラー\u001b[0m\u001b[0;34m\u001b[0m\u001b[0;34m\u001b[0m\u001b[0m\n\u001b[0m",
            "\u001b[0;31mValueError\u001b[0m: cannot reshape array of size 6 into shape (4,newaxis)"
          ]
        }
      ]
    },
    {
      "cell_type": "markdown",
      "metadata": {
        "id": "R2z-YJKh3ETa"
      },
      "source": [
        "### 四則演算"
      ]
    },
    {
      "cell_type": "markdown",
      "metadata": {
        "id": "I08pHsOO3ETa"
      },
      "source": [
        "これも1次元配列の場合と同様の方法で、要素ごとの四則演算を行うことができます。ただし、`*`演算子は要素ごとの積（アダマール積）であり、数学的な行列の積とは異なることに注意してください（行列積は後述）。商も同様に要素ごとです。また、1次元配列で説明したブロードキャストも同じルールで適用されます。"
      ]
    },
    {
      "cell_type": "code",
      "metadata": {
        "id": "TmE3ZDXW3ETa",
        "colab": {
          "base_uri": "https://localhost:8080/"
        },
        "outputId": "94626952-ab11-4908-dd31-e135b62d7c82"
      },
      "source": [
        "a = np.array([1, 2, 3, 4, 5, 6]).reshape(3, -1)\n",
        "b = np.array([1, 1, 2, 3, 5, 8]).reshape(3, -1)\n",
        "\n",
        "print(a)\n",
        "print(b)\n",
        "\n",
        "print(\"和: \", a + b) #これは通常のベクトルの和と一致\n",
        "print(\"差: \", a - b) #これは通常のベクトルの差と一致\n",
        "print(\"積: \", a * b) #これはベクトルの各要素の積(=アダマール積)\n",
        "print(\"商: \", a / b) #これはベクトルの各要素の商\n",
        "print(\"累乗:\", a**2)"
      ],
      "execution_count": null,
      "outputs": [
        {
          "output_type": "stream",
          "name": "stdout",
          "text": [
            "[[1 2]\n",
            " [3 4]\n",
            " [5 6]]\n",
            "[[1 1]\n",
            " [2 3]\n",
            " [5 8]]\n",
            "和:  [[ 2  3]\n",
            " [ 5  7]\n",
            " [10 14]]\n",
            "差:  [[ 0  1]\n",
            " [ 1  1]\n",
            " [ 0 -2]]\n",
            "積:  [[ 1  2]\n",
            " [ 6 12]\n",
            " [25 48]]\n",
            "商:  [[1.         2.        ]\n",
            " [1.5        1.33333333]\n",
            " [1.         0.75      ]]\n",
            "累乗: [[ 1  4]\n",
            " [ 9 16]\n",
            " [25 36]]\n"
          ]
        }
      ]
    },
    {
      "cell_type": "markdown",
      "metadata": {
        "id": "9_XfJTwE3ETe"
      },
      "source": [
        "### 3.2 ユニバーサル関数"
      ]
    },
    {
      "cell_type": "markdown",
      "metadata": {
        "id": "uyY-ukRv3ETe"
      },
      "source": [
        "1.2節ではユニバーサル関数を紹介しました。ユニバーサル関数は**要素ごと**に関数を適用するものでした。これは2次元配列に対しても同様に適用できます。"
      ]
    },
    {
      "cell_type": "markdown",
      "metadata": {
        "id": "gkSw84kD6BsE"
      },
      "source": [
        "$exp(x)=e^x$"
      ]
    },
    {
      "cell_type": "code",
      "metadata": {
        "id": "9cfgUO2E3ETf",
        "colab": {
          "base_uri": "https://localhost:8080/"
        },
        "outputId": "02b2b0fc-089b-4777-fb77-52d420a26719"
      },
      "source": [
        "a = np.array([1, 1, 2, 3, 5, 8])\n",
        "a = a.reshape(3, 2)\n",
        "\n",
        "print(a)\n",
        "print(\"各要素の指数関数を計算: \", np.exp(a))"
      ],
      "execution_count": null,
      "outputs": [
        {
          "output_type": "stream",
          "name": "stdout",
          "text": [
            "[[1 1]\n",
            " [2 3]\n",
            " [5 8]]\n",
            "各要素の指数関数を計算:  [[2.71828183e+00 2.71828183e+00]\n",
            " [7.38905610e+00 2.00855369e+01]\n",
            " [1.48413159e+02 2.98095799e+03]]\n"
          ]
        }
      ]
    },
    {
      "cell_type": "markdown",
      "metadata": {
        "id": "Ik2zVl0m3ETh"
      },
      "source": [
        "### 3.3 axisと集約関数"
      ]
    },
    {
      "cell_type": "markdown",
      "metadata": {
        "id": "SvLpRW-13ETh"
      },
      "source": [
        "NumPyの2次元配列では、これまで行と列、あるいは縦軸と横軸と呼んできました。しかし、さらに高次元の配列になると、このような呼び方では区別が難しくなります。そこで、NumPyでは軸（次元）を`axis`と呼び、0から始まる番号で区別します。例えば2次元配列では、行方向（縦）の軸が`axis 0`、列方向（横）の軸が`axis 1`となります。"
      ]
    },
    {
      "cell_type": "markdown",
      "metadata": {
        "id": "kZohPYKQ3ETi"
      },
      "source": [
        "1.2節で扱った平均値`np.mean()`や最大値`np.max()`のように、配列の複数の要素から一つの値を計算する関数を**集約関数**と呼びます。これらをそのまま2次元配列に適用すると、デフォルトでは配列全体の要素に対して計算が行われます。"
      ]
    },
    {
      "cell_type": "code",
      "metadata": {
        "id": "Yx5giGTl3ETi",
        "colab": {
          "base_uri": "https://localhost:8080/"
        },
        "outputId": "deab87a3-ef2d-4cc1-e2d9-f098ca641399"
      },
      "source": [
        "a = np.array([1, 1, 2, 3, 5, 8])\n",
        "a = a.reshape(3, 2)\n",
        "\n",
        "print(a)\n",
        "print(\"最大値: \", np.max(a))"
      ],
      "execution_count": null,
      "outputs": [
        {
          "output_type": "stream",
          "name": "stdout",
          "text": [
            "[[1 1]\n",
            " [2 3]\n",
            " [5 8]]\n",
            "最大値:  8\n"
          ]
        }
      ]
    },
    {
      "cell_type": "markdown",
      "metadata": {
        "id": "hhT6d9v-3ETk"
      },
      "source": [
        "すなわち、集約関数を`axis`引数を指定せずに適用すると、配列全体の要素に対して集約が行われ、一つの値（スカラー）を返します。この例では、$3 \\times 2$行列の6個すべての要素の中から最大値を取得しています。これは`reshape`を行う前の1次元配列に対して集約関数を適用するのと同じ結果になり、配列の形状情報が失われていると見なせます。\n",
        "\n",
        "しかし、実際のデータ分析では、特定の軸に沿って集約を行いたい場合が多くあります。\n",
        "次の例を考えてみましょう。"
      ]
    },
    {
      "cell_type": "markdown",
      "metadata": {
        "id": "nT4K-edp3ETk"
      },
      "source": [
        "今から考える2次元配列には4人の生徒の3回分の数学のテストの点数を格納することにします。このとき、`axis 0`が生徒（4人）、`axis 1`がテストの回（3回）に対応する`shape=(4, 3)`の2次元配列を考えます（点数は適当です）："
      ]
    },
    {
      "cell_type": "code",
      "metadata": {
        "id": "F8W_roYx3ETk",
        "colab": {
          "base_uri": "https://localhost:8080/"
        },
        "outputId": "5079ddbe-d246-4a82-8667-b85f61a56f0b"
      },
      "source": [
        "a = np.array([88, 78, 76, 98, 88, 100, 64, 78, 77, 89, 67, 78]).reshape(4, 3)\n",
        "print(a)"
      ],
      "execution_count": null,
      "outputs": [
        {
          "output_type": "stream",
          "name": "stdout",
          "text": [
            "[[ 88  78  76]\n",
            " [ 98  88 100]\n",
            " [ 64  78  77]\n",
            " [ 89  67  78]]\n"
          ]
        }
      ]
    },
    {
      "cell_type": "code",
      "metadata": {
        "colab": {
          "base_uri": "https://localhost:8080/"
        },
        "id": "m1EcS0Dl7CDS",
        "outputId": "ada6ee0b-bac7-4d52-b8d0-7271773e0e81"
      },
      "source": [
        "np.max(a)"
      ],
      "execution_count": null,
      "outputs": [
        {
          "output_type": "execute_result",
          "data": {
            "text/plain": [
              "np.int64(100)"
            ]
          },
          "metadata": {},
          "execution_count": 91
        }
      ]
    },
    {
      "cell_type": "markdown",
      "metadata": {
        "id": "_i0e9hvK3ETm"
      },
      "source": [
        "このデータに対して、全体の最高点を求めるには先ほどと同じ方法で良いですが、そのほかにも「①各テストにおける最高点」「②各生徒の最高点」を求めたくなるはずです。そこで、多くのNumPy集約関数には`axis`という引数があり、集約を行いたい軸を指定することができます。"
      ]
    },
    {
      "cell_type": "code",
      "metadata": {
        "id": "zNX387mE3ETn",
        "colab": {
          "base_uri": "https://localhost:8080/"
        },
        "outputId": "65875f59-16b1-473d-854a-5e0231cf74b1"
      },
      "source": [
        "print(\"①: \", np.max(a, axis=0))\n",
        "print(\"②: \", np.max(a, axis=1))"
      ],
      "execution_count": null,
      "outputs": [
        {
          "output_type": "stream",
          "name": "stdout",
          "text": [
            "①:  [ 98  88 100]\n",
            "②:  [ 88 100  78  89]\n"
          ]
        }
      ]
    },
    {
      "cell_type": "markdown",
      "metadata": {
        "id": "yvNYiqqI3ETs"
      },
      "source": [
        "`axis`を指定して集約を行うと、指定した軸が縮約されるため、返り値の配列の次元数が1つ減ります（この例では1次元配列になります）。場合によっては、元の配列と同じ次元数を保ったまま結果を得たいことがあります。その場合は、引数`keepdims`に`True`を指定します。この結果を見ると、集約された軸のサイズが1になり、元の配列と同じ次元数が保たれているため、**各axisの意味（生徒、テスト回）が変わらない**ことがわかります。"
      ]
    },
    {
      "cell_type": "code",
      "metadata": {
        "id": "SI8qP5iA3ETs",
        "colab": {
          "base_uri": "https://localhost:8080/"
        },
        "outputId": "5650f73e-6f8d-4928-b89e-ad6f2ca77971"
      },
      "source": [
        "print(\"①: \", np.max(a, axis=0, keepdims=True))\n",
        "print(\"②: \", np.max(a, axis=1, keepdims=True))"
      ],
      "execution_count": null,
      "outputs": [
        {
          "output_type": "stream",
          "name": "stdout",
          "text": [
            "①:  [[ 98  88 100]]\n",
            "②:  [[ 88]\n",
            " [100]\n",
            " [ 78]\n",
            " [ 89]]\n"
          ]
        }
      ]
    },
    {
      "cell_type": "markdown",
      "metadata": {
        "id": "UI3fgyZG3ETv"
      },
      "source": [
        "### 3.4 練習問題"
      ]
    },
    {
      "cell_type": "markdown",
      "metadata": {
        "id": "CEFSHLZr3ETv"
      },
      "source": [
        "**問1**\n",
        "(1) 5人の生徒の4回分のテスト結果（100点満点）を要素とするNumPy 2次元配列を作成してください。\\\n",
        "このとき、axis 0を生徒でaxis 1をテストの各回だとします。また、値は任意であるとします。\n",
        "\n",
        "(2) それぞれの生徒の4回分のテスト結果の最高点・最低点・平均・分散をそれぞれ計算してください。\\\n",
        "その結果を、`axis 0`が生徒、`axis 1`が集約結果（最高点、最低点、平均、分散の順）となる`shape=(5, 4)`の2次元配列にしてください。\n",
        "\n",
        "(3) 各テストの点数について、その点数とその生徒の平均点との差の絶対値を計算し、`shape=(5, 4)`の2次元配列としてください。"
      ]
    },
    {
      "cell_type": "code",
      "metadata": {
        "id": "gkxIwzPl3ETw"
      },
      "source": [
        "# (1)"
      ],
      "execution_count": null,
      "outputs": []
    },
    {
      "cell_type": "code",
      "metadata": {
        "id": "7VfrAXo53ETy"
      },
      "source": [
        "# (2)"
      ],
      "execution_count": null,
      "outputs": []
    },
    {
      "cell_type": "code",
      "metadata": {
        "id": "xYrv1l5D3ET0"
      },
      "source": [
        "# (3)"
      ],
      "execution_count": null,
      "outputs": []
    },
    {
      "cell_type": "markdown",
      "metadata": {
        "id": "uH_SK4Jg3ET6"
      },
      "source": [
        "# 4 NumPyのインデックス 2"
      ]
    },
    {
      "cell_type": "markdown",
      "metadata": {
        "id": "VzMTC2Bj3ET6"
      },
      "source": [
        "この章では2次元配列のインデックス操作を学びます。"
      ]
    },
    {
      "cell_type": "markdown",
      "metadata": {
        "id": "MOq6SA8O3ET6"
      },
      "source": [
        "### 4.1 基本"
      ]
    },
    {
      "cell_type": "code",
      "metadata": {
        "id": "0e1hB8573ET7",
        "colab": {
          "base_uri": "https://localhost:8080/"
        },
        "outputId": "6a823cb6-8c9f-4d1a-98eb-44d324cfa96f"
      },
      "source": [
        "a_list = [[1, 2, 3, 4],\n",
        "    [5, 6, 7, 8],\n",
        "    [9, 1, 2, 3]]\n",
        "a = np.array(a_list)\n",
        "\n",
        "# 0行目を取得\n",
        "print(\"a_list[0]=\", a_list[0])\n",
        "print(\"a[0]=\", a[0])\n",
        "\n",
        "# (0, 1)成分を取得\n",
        "print(\"a_list[0][1]=\", a_list[0][1])\n",
        "print(\"a[0][1]=\", a[0][1])"
      ],
      "execution_count": null,
      "outputs": [
        {
          "output_type": "stream",
          "name": "stdout",
          "text": [
            "a_list[0]= [1, 2, 3, 4]\n",
            "a[0]= [1 2 3 4]\n",
            "a_list[0][1]= 2\n",
            "a[0][1]= 2\n"
          ]
        }
      ]
    },
    {
      "cell_type": "markdown",
      "metadata": {
        "id": "61e3Y2kU3ET8"
      },
      "source": [
        "このように、基本的な行の取得や要素へのアクセスは、リストのリストとNumPyの2次元配列で同様に行えます。また、Numpyの配列ではIndexを`a[axis 0, axis 1]`のように1つの`[]`で書くことができます。"
      ]
    },
    {
      "cell_type": "code",
      "metadata": {
        "id": "Zg_AmtCg3ET8",
        "colab": {
          "base_uri": "https://localhost:8080/"
        },
        "outputId": "a2187abb-0554-40da-d20f-e3e35065ede7"
      },
      "source": [
        "# a[0][1]とa[0, 1]は同じ\n",
        "print(\"a[0][1]=\", a[0][1])\n",
        "print(\"a[0, 1]=\", a[0, 1])"
      ],
      "execution_count": null,
      "outputs": [
        {
          "output_type": "stream",
          "name": "stdout",
          "text": [
            "a[0][1]= 2\n",
            "a[0, 1]= 2\n"
          ]
        }
      ]
    },
    {
      "cell_type": "markdown",
      "metadata": {
        "id": "j5hdwZoB3EUA"
      },
      "source": [
        "また、1次元配列と同様に、各軸のインデックスに対してリストや配列を指定するファンシーインデックスも利用できます。"
      ]
    },
    {
      "cell_type": "code",
      "metadata": {
        "id": "POzk98s13EUB",
        "colab": {
          "base_uri": "https://localhost:8080/"
        },
        "outputId": "187231fb-17e4-4c0d-f91a-5058f9b530b1"
      },
      "source": [
        "# axis 0の0番目と2番目を取得する\n",
        "print(a[[0, 2]]) # a[0, 2]とは異なる"
      ],
      "execution_count": null,
      "outputs": [
        {
          "output_type": "stream",
          "name": "stdout",
          "text": [
            "[[1 2 3 4]\n",
            " [9 1 2 3]]\n"
          ]
        }
      ]
    },
    {
      "cell_type": "code",
      "metadata": {
        "id": "G3eTn3sP3EUD",
        "colab": {
          "base_uri": "https://localhost:8080/"
        },
        "outputId": "d56fba56-2069-46f0-9914-42c4fb4ad2a2"
      },
      "source": [
        "# axis 1の0番目と2番目を取得\n",
        "print(a[:, [0, 2]]) # : の意味はこの節の後で説明します"
      ],
      "execution_count": null,
      "outputs": [
        {
          "output_type": "stream",
          "name": "stdout",
          "text": [
            "[[1 3]\n",
            " [5 7]\n",
            " [9 2]]\n"
          ]
        }
      ]
    },
    {
      "cell_type": "markdown",
      "metadata": {
        "id": "FhI_ztrx3EUF"
      },
      "source": [
        "![chap2-4-1.png](data:image/png;base64,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)"
      ]
    },
    {
      "cell_type": "markdown",
      "metadata": {
        "id": "nY2Q3GAb4TOz"
      },
      "source": [
        "![chap2-4-2.png](data:image/png;base64,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)"
      ]
    },
    {
      "cell_type": "code",
      "metadata": {
        "id": "i1KiL4cJ3EUF",
        "colab": {
          "base_uri": "https://localhost:8080/"
        },
        "outputId": "1a70f416-6903-4df1-e369-a1615c582b96"
      },
      "source": [
        "# 上図\n",
        "# axis 1のインデックスが1に固定されているとき，a[0, 1]とa[2, 1]は次のように取れる\n",
        "print(a[[[0],\n",
        "         [2]], 1]) # このとき，axis 0に指定するListや配列はaxis 0と同じ向き(縦向き)にする\n",
        "print(a[[0, 2], 1])\n",
        "\n",
        "#下図\n",
        "# axis 0のインデックスが2に固定されているとき，a[2, 1]とa[2, 3]は次のように取れる\n",
        "print(a[2, [[1, 3]]]) # このとき，axis 1に指定するListや配列はaxis 1と同じ向き(横向き)にする"
      ],
      "execution_count": null,
      "outputs": [
        {
          "output_type": "stream",
          "name": "stdout",
          "text": [
            "[[2]\n",
            " [1]]\n",
            "[2 1]\n",
            "[[1 3]]\n"
          ]
        }
      ]
    },
    {
      "cell_type": "markdown",
      "metadata": {
        "id": "ds-ftn8g3EUH"
      },
      "source": [
        "では、次のように、各軸から複数ずつ取ってくる(=小行列を取ってくる)場合はどのように書くでしょうか？"
      ]
    },
    {
      "cell_type": "markdown",
      "metadata": {
        "id": "r1ZFbdRh3EUH"
      },
      "source": [
        "![chap2-4-3.png](data:image/png;base64,iVBORw0KGgoAAAANSUhEUgAAARQAAADyCAYAAACMGjpSAAABPmlDQ1BJQ0MgUHJvZmlsZQAAKJFjYGDiSSwoyGFhYGDIzSspCnJ3UoiIjFJgf8LAysDFwM3AxyCXmFxc4BgQ4ANUwgCjUcG3awyMIPqyLsgspiUSXV9cfxiu4Fu90lPNRhVTPQrgSkktTgbSf4A4IbmgqISBgTEGyFYuLykAsRuAbJEioKOA7CkgdjqEvQLEToKw94DVhAQ5A9kXgGyB5IzEFCD7AZCtk4Qkno7EhtoLAmxhEUYmFgQcSiooSa0oAdHO+QWVRZnpGSUKjsDQSVXwzEvW01EwMjAyYGAAhTVE9ecb4DBkFONAiGW7MzCYbWNgYFqCEEvRZGDYzgd0fiZCTD2NgUHImoHhgEJBYlEi3AGM31iK04yNIGzu7QwMrNP+//8czsDADjTj7/X//39v////7zIGBuZbQL3fAMhFWwYRcYONAAAAVmVYSWZNTQAqAAAACAABh2kABAAAAAEAAAAaAAAAAAADkoYABwAAABIAAABEoAIABAAAAAEAAAEUoAMABAAAAAEAAADyAAAAAEFTQ0lJAAAAU2NyZWVuc2hvdMvOI/cAAAHWaVRYdFhNTDpjb20uYWRvYmUueG1wAAAAAAA8eDp4bXBtZXRhIHhtbG5zOng9ImFkb2JlOm5zOm1ldGEvIiB4OnhtcHRrPSJYTVAgQ29yZSA1LjQuMCI+CiAgIDxyZGY6UkRGIHhtbG5zOnJkZj0iaHR0cDovL3d3dy53My5vcmcvMTk5OS8wMi8yMi1yZGYtc3ludGF4LW5zIyI+CiAgICAgIDxyZGY6RGVzY3JpcHRpb24gcmRmOmFib3V0PSIiCiAgICAgICAgICAgIHhtbG5zOmV4aWY9Imh0dHA6Ly9ucy5hZG9iZS5jb20vZXhpZi8xLjAvIj4KICAgICAgICAgPGV4aWY6UGl4ZWxYRGltZW5zaW9uPjI3NjwvZXhpZjpQaXhlbFhEaW1lbnNpb24+CiAgICAgICAgIDxleGlmOlVzZXJDb21tZW50PlNjcmVlbnNob3Q8L2V4aWY6VXNlckNvbW1lbnQ+CiAgICAgICAgIDxleGlmOlBpeGVsWURpbWVuc2lvbj4yNDI8L2V4aWY6UGl4ZWxZRGltZW5zaW9uPgogICAgICA8L3JkZjpEZXNjcmlwdGlvbj4KICAgPC9yZGY6UkRGPgo8L3g6eG1wbWV0YT4KdXWUygAAQABJREFUeAHtXQV8FEcXf7glkIQECW6B4m4f7tDibi2W4hR3grsF91LcoUALFIoULRR3CQ5Bg7t+89+wm93LXW73cne7l8z7/ZKdmR1589+9tyPvvYnxlRFx4ghwBDgCdkAgph3q4FVwBDgCHAEBAS5Q+IvAEeAI2A0BLlDsBiWviCPAEeAChb8DHAGOgN0Q4ALFblDyijgCHAEuUPg7wBHgCNgNAS5Q7AYlr4gjwBHgAoW/AxwBjoDdEOACxW5Q8oo4AhwBLlD4O8AR4AjYDYHYdquJV6QbAm8/EwW/IXrynujVp6/0nsU/fo1Bn5lRxZcvX0kv24oYDJGYMWNQLBaIE+MrxYtF5BY7BnnFI/JNSJSAxaMaueSzSPCVErDnYg+KwW157AGjPnW8+kR09ulXCn5L5GoWWTHY++ubgCinZwwmZPTBz56t8mcRiiYXKPZ8q5xY19WXRGeYMMEoxJUJo5dcnkSZ3O3zhdQDi6svv7JnQfxZMPC5QNHjDYxkm3h5L79wcUligoFf4hiCYDFJNnyUPwvlI+KLsko8DB/DyCSqCROAjj7hS+9KBH75s1A+MS5QlHgYOoZ5OqY5UZXwtUcfXYFCn4UrcGobj7Y+Cy5QbMNbl1JYgHX1NZOIgEPf0EdXIP4szD8lLlDM42K4VGE7ku3mRHXCjhX6amSKVs+CqSFoIS5QtKClY17ombja1rAtcKGP6KuRKVo9i7fadt+4QDHymyvjDUpr0YWM3lej82fP90RrX7lAsSP6T58+pQcPHtixxrCqXGWxMoxj20PQ9rUXPX78mK5evUqvX7+2V5WCNrLdKlNREfzIP7p7k25ePE3PHz+gr1++qChlnyxan0UU0FG0D3C21HLt2jVauHAhbdiwgW7cuCG9tJ6enpQrVy7KmTMnVatWjb7//ntbqleUee+A1dj3b9/Q+LZ1KVFiD4qfyI1ixY5DMZgKK17gz58+0ptXL+jTh/fUY+Zqih0nroIfR0ZgOmArrVy5kvbt20fnz5+nc+fO0aNHj6SqEidOTBkzZqS6detS06ZNKUOGDNI9LYHI8KemnS+fP9POVfPp/JH9dDfoAt29donevwkTiDFjxaJ02XJT0ap1qWStJpQsdXo11dqUR2tfuWKbDTB/+PCBevbsSdOnTxd+fNaqaNiwIU2bNo18fHysZbV4f/Mdog92Fiqvnj2hFnm9LbYp3lgV9F4QNmLc0de4TH22emptrdy9e5dat25Nf/31l6qCEJzNmzcXngsEjRZyxLMQ2799+RzN6NWagk4dEZMivMaJF58adB1MNX/uSRA09iatz4JPeTQ+gZCQECpevLjwIqo90mjVqlWUI0cO1S+7OZbsLEvMNWE2LaF7EqcKEzChta9r1qwRRoSWhEksMz80PLvFixdTwYIFCc9UC2nlT23dfyyYTL2+L2BWmCT28iGv5L7CCFJe38f372jZ2H40b1BHebLdwlr7yqc8GqD/wuauzZo1o2PHjilK+fv7U61atShPnjyULFkyun37Nm3atIlmzJhBQUFBQl4MvTHUPnTokPDyKypQEYHVsL0pXoKEVLZeC8JXzs3Di019mPCIE4f+XjGf7lw5LzSX2Mv6CMbefIX2Vd3uwunTp4Xpy8ePHyU2vL29hRFk/vz5KV++fJQ0aVIKDg6mixcvCqPKjRs3SiPLK1euUIMGDWjnzp1SeWsBRzyL47u30KIRPSW+wEPmPIWoWd8xwvTG3TOpwBYEyBU2elk1aQid+3ePkIZ/O5bPpSx5C1O5Bq2kNHsEtDwLtMenPBpQHzNmDPXr108qkSJFCmENpUqVKlKaPPDmzRtq06YNrVixQkrOmjWrMLc399WUMpkJrLtpf4FiphkhaXSr6nRs159COH32vDRhy3FLWR2WXjeddYHyma01FC1alI4ePSrxgXUrCPOI1kf2799PlSpVordvwxR79uzZQ6VLl5bqiShg72eBNZMOJTLS43u3pWa/b/UL/dh/XISjw3XTR9GKCQOlMr4Z/GjKrgvhRjFSBhsDap6FWDWf8ohIWLlil2DcuHFSrvjx49PWrVvJkjBBxoQJE9LSpUupfPnyUrlLly4JaVKCwQNx4jLnJQalzZs3K4QJFsIxAoxImKArJUqUoLlz5yp6tWzZMkXcmZFju/9UCJNc/ytPLQMmRyhMwF+djv0od4kKEqvB1y/TzQunpLgeAS5QVKK+aNEiwrawSIMHD6a8efOKUYvXmDFjEsrGixf2wzR9mS0WNsANIwuU1atXKxAaNWoUubm5KdIsRbBQniABc8jyjcSpqRh35vXMgV2K5qq36aaIW4pgYblkzcaK2w9uXVPEnR3hAkUl4hhGi+Tu7k4dO6pfBEuVKhXVq1dPLE5HjhyhV69eSXEjB2LFNu4yG6YpInl5eWnano/D1oqyZMkiFldsL0uJTgq0GhxIvx5/QP0WbKImvUZSnpKVVLecxi+HIu8zpqeiJ3GBogL9d+/e0d69e6WcJUuWJAgVLdSoUSMp+6dPnwjzeE62I/Dy5UtKnTq1NCIpUqSI5rUDLNSKlC1bNjGoyxW7OAXK/yBMY7QI8echYXo2YNzDO7ku/IuNGvfzI3JogCuUpOQLeKVKldLMFYQQpj/YKQLt2rUrwvUXzQ1EswIQ6BjpYfv31q1bEq5qYVi/fj1Bi1akAgUKiEGXup779x8FvynTh426FDecFOEjFBVAy79kyG6LQEmSJAn5+flJreHHwCnyCGAdIV26dFYXYuUtQZD06tVLnkTlypVTxF0hAiW4LQunSqxmzJmf0mbLJcX1CHCBogJ1uUDBC2zr18zX11dqzVE2P1IDPGAWgSdPnlCFChUIZhMiQcO2cOHCYtQlrqf2baex/rXo08cPEr+12/eRwnoF+JRHBfJQ6xYJatpx48YVo5quKVOmlPLLh9tSIg84FIETJ04QdnegzCYSnsmECRPEqKGu5w//wxQOkxKUCz8ym6qHt68TdnGObN9IR//erOC1YbehVOz7+oo0PSJcoKhAXT5CgdalrQRFOJHwpcR6CtZVODkegZkzZ1L37t3p/fv3UmPYYl63bh15eHhIaUYKDG5UTqE5a443D58UbGdohN01ZM21pSaNCxQVKMkFCrYnbSX5CAXCBEIFauKcHIcAnh2mNNu2bVM0kjZtWoIKvhpdIkVBA0VSZ8lO0FkpUUOpi6Ini/zzqAJ9+VdNRXaLWUynSnL7E4uF+A2bEYDJA1TxTYVJnTp1CNMfowsT2FhFRLC3mtXHnzqV8aN/1i2OKKvT7vERigqo5dOc+/fvqyhhPotc0xY5tOqymK+Vp5oi8Pz5c2rXrh3BN4qcsNMWGBhILVq0kCcbNjxt9yU2Lf4s+KvBZkDI/bsUwux9bl48Q9sWzxTWVMD8E5Y+rUcL+sR82JRv2FrX/nCBogJ+uR8TCBToPuABayW5mTzWThIlSqS1Cp7fCgIXLlyg6tWrC17a5FkrV65M8+fPF5Th5OlGDidNqXQKkzpzYkqd+TtBk/aHVl3pwOaVNJONUGCBDJof0Jky5MhH2D7Wi/iURwXy8nUOaLnaukMjFyjYLbJFKKlgN9pmgYc26AjB5aNIMNDEgiymPdCsjSoEZ0olazWlDmPnSV2CYJk7oL0U1yPABYoK1OUjFGS/d++eilLhs8B3h0hyJTcxjV9tRwBbwdAvkQt7WB9jraR9e31/ZLb3ynpJCJXClWpJGa+fOylsMUsJTg5wgaICcDhOkhNU8bUSdnTOnj0rFcNiISf7IHDz5k3BRYR8fQvTHrgyiA6CO1vB4hKQ8AV8+1LYeybdcFKACxQVQEOLEkNnkWCHo5VgDCh3GZk7d26tVfD8ZhDA9jt2beAlTyQ4T1q7dm20WaNKxdZV5ATv+HoRFygqkMd2L5zyiATHSvAWpoVQRk5Vq1aVR3nYRgTgF/b48TCPcsWKFRNOITDdorexeocXg+r8xf/209ppIymwS1Objsh4dOeGgk+489SLuEBRiXzZsmWlnHfu3BGUoqQEKwFMkRYsWCDlwnQnOgzFpQ47KACfMv3795dqh8MkCBj5aFK6adDA8OZVaGD9UrRy4iDav2kFnT7wt2ZOr5xUGppmyl1Icx32KsAFikok69evT3I/sDhGw1SvxFJVnTp1IrkSW8uWLS1l5ekaEJgyZYpigTwgIIAyZ86soQb9sxauXFPBxIoJAdI2sOKGhcjFowcEQSTehmd8/OlFXKCoRD5TpkyCx3sx+/Xr1wlC5tmzZ2JSuCvWTMaOHUu7d++W7kHlW4u3N6mgEwOf2da4SPKwmGaUq9z5N1xsuuJuTrn6LQXFNRFTnMcz7uc69OFdmANt8Z7pFT5kJ3VsyA5lC3te+croO5Xmim2mTymC+Pjx4wluB7GrAMLRCziqYfjw4cIRGXBcDcL6yqlTp6hbt24KT29QZsPRGnL/skIBg/2DZatI8rCYZoQrngH0TkSCTs/vv/8uRq1esZiLA9tgVoEjTqAjNHTo0Egdxma1UTMZErglplZDptC07j9Jd0/8s406lMxE8HxfsbG/cMSJeBPHkN67cYU2zZtEu9csVAiTVJmyUYuASWJWXa78GA2NsENQQOvS1J8JtF7Tp08vKKtBJ8Kc/Q8UrGz9itr76IaIut27eiG6dib07CEYoAXucP42pLWjGyA8ateuHVE3NN/DB0KNoyVHPIuNc8azdRQ23ZEJc7EDOJPH2zct4ehYuDCQ+0AR8+Ao2TEbDwuatGKava7WnoW8HT7lkaOhIgydFCyy4hhLOeGYDXwxoWtiKkxgC4Thua3CRN6OM8IhwWFbsPKwM9pW2waOI4lKVLNtLxr/5zHhcC/Tfr18GkLXz52gYHbGsTlhAsW2UesPOkSYmPJiLc6nPNYQMnMfLgywmwDH05MmTaIzZ87Qw4cPw+XEwdzI06VLF0qeXF/nweGYs5CAdZ+UGbJQivShi5tw7oNhdgyD+W3BlAXuIKDFjN0dTCe1mDLIpzxYXJdr2FqAxuHJGA2OXHeA/loyk50K+A/dZtbE928GEQ4CkxOeRdLkqSgTO1mwLjubJ2Mu4/jD5VMe+ZOKRBgCBYIFlq5wpAR3j5gC2YscMcy2F2+OqEfLMNsR7UdUpzOfBaZA965dFtZN4sZPQMnTZiSf1OnJmeclaXkWXKBE9OYY6J4zX2IjdFvLS+xsfvmzsIw4X0OxjA2/wxHgCGhEgAsUjYDx7BwBjoBlBLhAsYwNv8MR4AhoRIALFI2A8ewcAY6AZQS4QLGMDb/DEeAIaESACxSNgPHsHAGOgGUEuECxjA2/wxHgCGhEgAsUjYDx7BwBjoBlBLhAsYwNv8MR4AhoRCDK2vJosevQiBnPzhGI8gisvfHFpj7yEYpNsPFCHAGOgDkEuEAxhwpP4whwBGxCgAsUm2DjhTgCHAFzCETZNRTTzsrPxDG95wpxbuFqnKcUFZ9FvfT2GVvYpxbjPGvOCUeAI6AjAvYZocDr9utXRMznJSHMjkOkL1+JufoK7RrzAqY7Bbm2y0DfRwbA0JkP8WMMZ7amqS1Xfhahb1Eotl9jxKQvMWLQl1hxNPU/osyREyjs1DMKeUz06mVEbfB7HAGOgEEQ+CZKBG5ifP1MMSFhvoQdwyGyGfvTB/oUO64YVX21fcrz/CnRrRtcmKiGmmfkCLgOAj4Pb1Ci1+w3rpFsG6GEPCJ6+kRjUzw7R4Aj4CoIxKCvlOT5Q4r1GaOXZKrZ1j5CwciECxPVAPOMHAFXRsDtFRs44DevkrQJFKyZPGajE04cAY5A9EEAv3n89lWQNoGCBVgj7Nio6BjPwhHgCNgJAfzm8dtXQeoFCraD+W6OCkh5Fo5AFEQAv33ZoeyWeqheoEDPhBNHgCMQfRFQIQPUCxQorTmA3r1/T3fu36dPJsctOqApXqVKBN6/f0e3b9+kZ8/UL8aprNqp2Z6wUxxPXbxIN+8G0/sP6tYAnMqgqzWmQgao3zZWMdxRg89Ldqj46i1bacnvG+nclSB6zM6VBcWLG5eysbOAc2X1o0K5c1HbRg2FNDV1OjtPn3ET6NL16+SVJAnFjRuHYjKNQxCE4pu3b+nB4xAa1bMbFcqVy9ms2dTepUvnadeubXT9ehD7u0r37t0hnP0Lisuei7d3MipUqDhVqVKDcufOr+kMYZsYsrHQP0f+o5V//EkXrl5lf9foYUiIoqbU7IjYGuXLUaMfqlHJggUV91wp8uXLZ5o9O5DevHktsJ0/f2EqV66K47ugQgaoP4r0xlVVc6iIerVm6zbyHzCInr+0rlkL4bJw7GgqmjdPRFVavBcjSzbFva9XLirikYmUatyM9h09GmEVa6ZNoXpVKkeYR8vNQw5Qvf/MBOBvv81if7MJYTWUKZMfDR48ljJnVuKrpqyWPMV81Kve4yPVa+w4mrtyNdszUGeigGczfXAAJfdOqoUtIa8jnoUWJhYtmkNz5gRKRX788Wdq166bFLclULz4d4piBw9ekOLSs4jNxh/pM0np5gLqpzywzYkE9Rg9lhp06apKmKCZi9eu0f8aNqb+EydHolX9inp7eurXuIqWMaVp06YBLVgww6wwiRkzltlarl69TK1bN6AjRw6Yve/sxMOnTlGOqj/QnBWrwgmThAkSUPrUqShunPC2Kmu3/UVlmjanp89fOJvlSLV37txp9symK+pwc0usiDssokIGqJ/yiIZ+NnA7Z+UqmvTrQkXJwrlzU9eWP1GebFkpS/r09OTZczp04gTNXrGS/tq3X8iLYffo2XMoqYcH9WjdUlFezwiGzX4Z0pNnksRs2uNBCeLHY7yfFKZyIl9GFiif2NB1wIBfKEhmMAmXmbVrNyIMn/38slOqVGno9euXFBx8l3bu3Err1i2XhtgfP36kgQO70+LFGyhFCl+xy06/Yrpcp0NnCn74UGrbyyMJTerXj0oXKUTpfH2F6Rneo2u379Dkhb/RvFWr6eO3oTs+Wj/17kOb5sySyhs5gDWtgQN/YZstStsbd3d357CtQgaoFyg2snzm0mX6ZfhIqXSsWLFoYIf2NLBje4rNwiJh6FmrYgXhDw+909Dh9IG9uKA+4ydQuWJFKV925bBMLOvsa882rcI16ZYwoUKguCdKFC6PURKWLJmnECYJ2Jd80KCxVKZMRQWL+PL5+eHvO2ratDV17tySrlwJHQq/evWCVqz4jbp1668o48xIQOBUhTApkicPrZkWSGlSplSwETNmTMqcLi3NGBJArerVpRKNmhA2A0Cbd+0W1vJyZMmsKGO0CNZNAgJ60IMH98OxFi9e/HBpeiWon/KonJuadmQUG2HIV9iHd/2FhnTppBAmpmX8Gzagif36SsmY3w+ZOk2Ku0IAi8xGpHfv3tHSpfMl1jC1mT59UThhImX4FkicOAmNHz+TcBVp+/bNYtDp11dv3tDSjZukdiHQ18+cFk6YSBm+BQrkzEHjevdSJGNtz+g0Y8ZEOnr0kFk28ZF2CqmQAeoFig0cYztY/rAwzenb1l9VTZ2aN6XShQtJeTft3EX3H6nT1pMK6RgwqkA5dOgfeivb/qtatSZ995263ahkyVIIuz0irM+fPyOMVPSgg8dPSKMMtN+4+g/km0ydEVvTmtUVLF+7fVsRN1pkx44/2WgwbMmgZs0GlCFDJonNGN92GaUEHQMOFShb9uxVLPj1YcJEy/EWXX76UQHN7sOHFXEjR2LHdtJXQyMIx44pMYRA0ULpTVb5n37b9tdShz3yVirxP3px8hgdWLWCJvXvS11+bK66Wmz3p/TxkfI/eGzcD9UVtjs5evQgidcsbPcS08w3bIQmElv+Mgw5VKCIi6voLX5geAm0UPVyZQkr9SLt/lf5YxDT+VU9ArFixaakSb2FApjuqB2diC08evRADAo6KilTppLizg7EjxePiufPR91atqCcfllUNw99oacvwkZWyb1D8VBdgZMyYgTYt28nevfurdBiwoSJaPjwyQz3eOEWZp3EktVmHLooe+zcWYmB/NlzEOa5WigO2/cuni8f/X3woFBs16F/tRTnec0ggK8b/l6+fMEW+IIJC7JqCWV27/5Lyp4pU1b2oXDoKyS1Zc/A4ZOnFNOlLOnT2bN6u9SFRdhBg7ozJcO7Un2DBo2htGnTC3G1ekNSYScFHDZCgYLRvYdhrg5KFS5oU5cK5wmb31+9dYugTs0p8gi4uyfWrJw2deoYQRCJrRcsWFQMuswVW8bYQRQJC5rNa2mb9ollHXmdMWOCYhH2p5/aUunSFWRNfpWFjRN0mEAJefZM2vZFdwvmzGlTr00X2ow837Wpgy5SKDBwNP355waJ2+TJU1KLFu2kuCsEbty9S3U7dqaTF8K0QBtWq0rpU+k3bTOH2/btfwhb8uK9IkVKkL9/FzFq6KvDxqt3H4TNtYGAj5eXTUCkNFm5F21/bKqMF9KMwCtmtj5mTIBg6yMv3KfPUDZd0jaFlZd3VPjs5SuCmgLeN2jI3roXTNdu3aH/zpyhmcuWK6Y6JQoWoLkjw0YrjuJJS72mi7C+vmlo2LCJBF0aVyCHCZTgB2HaiwAiqaeHTXikMFkwe/zkqU318ELaEbh48aygERscfFtRuE2bzlS0aElFmlEiAVOm0obtOyJkB2tz7Zo0opHdu1EiDWtIEVZqh5vQhMUiLKy9QfHjJ2DCfCpheuoq5DiBIlOHBhjYqrOFUiYL295DeT5CsQVFbWWw4AeDQRgOyhf/sN7QrdsAqlOnsbYKDZQbwgTqC23q1ycjaTObW4Tt23eY5nUuvaF22DhKrh0bmU6aGnaJ6viRqZOXtYzADWZV7u/fUDBAkwuT1KnTMgvX5YYXJvGtaChjUXbEjFnkV7Ey9RwzlmCpbATCIuyxY2G7mI0a/USVKv1gBNY08eCwEQoM+uR0nykPmdpYyO9bCptagxrpq2KJZ1dNX7NmKeHF/vAh1M5F7AeMBjt16mXINRORR/E6a9gQGsbMOzwSu1NCNmV4+CSEbt+7R9dv36FFG34nUfUAH6aJCxbS5es3aOPsmZoULsW27HXdtm2TYhEWBpodO/ayV/VOrcdhAsV0EVa+haylh9gtklNiNzd5lIftgADm7CNG9BesiuXVJU+egvr1G0mFCxeXJxs6nIRZ3uJPJOzg4A8OlX6sXYuOnT1HLfv2IxitgmAcOHr2XOrfvq1YxKnXU6eOsXWSME1YYD5ixGRymn2OnXvrsCmPt5fSH8i9R2E6KVr6YCpQ5C+Llnp4XvMIYDTSq1eHcMIE3tmWLNnkUsLEfA+VqTAO3DxnNsndSwwKnCK4IVXmdHwMi939+nVmI8IPQmPwjjdq1FTy8LBtR9TxHFtvwfAjlNMXLyl6AT8knOyDAPxq9O//i0KBClvB/foNpwoVqtmnEQPWki6VL03o24da9OkrcAd/Kf+dPkNwEelMmj17ssJvLwTL6tVLVbEgun9EZriR+PvvLYJgguHn48cPmfFgZho7doaquuyZyWECBdu9yZImlfx6ng8Ksonvvf/9J5XzSJyYUiVPLsV5wHYERP8aBw/+I1Xi45OcAgMXKCxZpZtRLPC/AvkVPTp+/jzVrqT0B6PI4IAIHFWZ0l9/bTJNsho/f/50uDzJk/uGS3NGgsOmPLAqLlOksNQHGPap9fcpFsLC2b/M7kKk3FmzikF+jSQCixbNpT17tku1eHompalTf40WwgSdzpQ2DWELWSTTkbCYzq/aEAhDVFs5VbnhZQ0e7kHQH4FwKJYvr6qyyAQv5m+ZQyCRqpY2pjKVyJ+rXDEkXrp0nsQupjlTpsyndOkySmlGD8B9457DR2jff0epZ5vWmr35wW2k6AoSfYXrSGdTlSo1BT0TNzd3isO0erEQC98malx8TJgwlMQRTq1aDSlbthyKKQ/cHOhBDhUoZYsUUfRpxtJlqgUKdCB6jx2vKF+3cmVFnEdsQwBz97fsuA+R2rfv7lIKVFMWLaauI0aJ7Au7OjOHDpbiagKHTymnCXoceQJjP6XBnxrOQ/MEBo6UBEqBAkWofPmq6gs7MKfDpjzgGQuo+XNkl9hfwc5MEV0RSIkWAjOXrVAYcWHOa0QzcwvsGzYZZ+9s3bpR4i9nzjyGV1aTmP0WgJNw+Vd84br1wlk8pvksxaHM1m/CRMVtnAXFKfIIOFSggL3BnTtJXGI1vUm3nnT0TJifFOmmLHDk9GnCVp6cxvbqKY8aLmx68uGnT58NxyMYwm6AfC2rXr1mLmN4JgKaIXVqwZm5GIfD6XLNf1IlVOCL9sdefQSFNrE8LNrzZNNniiDyoPX6+XPoQWwoh9+VUcihUx50El+TZjVrSA6FHz15Ipy3069dW/JvWF+xa4N5LbQXMaSVq323rl+PTFfljQKgyIepqYFpXMyn91W+qwNeYE28Zcvvqtn69OmjMNSGL9mQkMdUokQ5XXRVpgzsL2i9iofGwd9w3uq1hHcNR65kz5xZ0Ses4cGp9ahZcwjvoEhYmMWhbKYmHuJ9o14/fgzVXQF/oh6LEXh1uEBBJ+cxE3EIC7na89Bp02nEzFnC2Sk43waOgk3V7FG2aulSNHv4UAQNTaY2IYin8PE2FM8Q0teuXVHwNGHCMEVcawSjHT00aWHGgfN0fuzVWzi7GHxjV/DXteuEP7gOxbk8cBZ+/c4diwfMTerfT3AjqbXfeubHyQXyUabc6biefKFt9VOeSHjChe/PHb/9SlMHDaRECcNcDgovOBMkUIc2FSaYI//CnFSvmz41wiM39AZQbB/2InIyjcvv6RUODr4jLeTpxYM92y1VqCCd+XMz/dyoQbhqccY0zjiGMyVxFCPPhBHM6qmBhNMVXI3gulNODx4o3z35PbuGVcgAp4xQ0Ck4iOn8YzOqXr4sDZwUSFhlx6jEdP4H4z8c+NW+SWPVO0J2Bc3GyjzZeTVwmAyCMDS1ZbKxWrsWg5o91Lo9PDwFQ7/QbUr1LtPxVYR2LaY9r1+/ErQ85YujdmVWZWV4X+YMH8bOka4iTGmgQAlB8vpN2C6WWBUMVrFR0LFZU2r8w/cut3Yk9uM9WzPKlSv0XUNamjTpxVu6X9Ufln6Naboyx7n2pDdv39G5oCt0485dwV+Kb/JklDFNGmGYGtl2HHlYemR5s6W83gd028JzZMpIB3TbUAkE383gYDp/JUjw3paOGQdCkc1edmBR8VmoOiwd511nVK5NmT4e9SOUmOxLZufF5IQJ4hP2//XQATAFgsejDgIYNYlWxlGnVwboCWSAFVK/hhI7jpWq+G2OAEcgSiOgQgZoECjqBzNRGlTeOY5AdEVAZvtkCQL1AsWAHs4tdYqncwQ4Ag5AQIUMUC9QEnFPaQ54RLxKjoDrIKBCBqgXKBjuMKtIThwBjkA0RAC/fbtOeYAhDtlmK+icOAIcgWiEAH7z+O2rIPUjFFQWJy6Rt/KcHBVt8CwcAY6AKyOA3zx++ypIm0BBhUk8iTy9VFTNs3AEOAKujsArN/Zbx29eJdm2F5yUSSzMpx4zT/ZMK5ETR4AjELUQ+Eox6EUSH3qdSL0wAQK2CRSUhNRKmIiImbATM4HnxBHgCEQdBB4lS0+fYqub5sh7bbtAQS2YV6Vg3rWZwRgxYzFiLvyFMDMeoy9s5PL1m64+H8XIMedhjoBuCITOJ0I3Vr4y/7Vf2ILrl1jhteBtESboVOQEiggLpj9J2NGj+DMqZc5qVM5U8RUcJ5pNLdMZdzcx2j0LVW9oaCbti7IaKudZOQIcgeiFABco0et5895yBByKABcoDoWXV84RiF4IcIESvZ437y1HwKEIcIHiUHh55RyB6IUAFyjR63nz3nIEHIoAFygOhZdXzhGIXghwgRK9njfvLUfAoQhwgeJQeHnlHIHohQAXKNHrefPecgQcioB9VO8dyiKv3NkIfGFHlj4PeUixmEmFu0dSisEOaeOkHwLv37ymh3duUMxYscjDOzklTOwhHCanH0eWW3aaQHnx4gXVr1+fvLy8KBE77S1OnDgCKDiU6SM7k/b58+fCqXRr1qxhnhGcxpZlZMzcuXTpEnXs2JGSJUtGbm5upObkPRy3irNoH7KznW/dukVdu3Ylf39/M7XrmxR06j/as24xHdv5Bz15cJc+w+CTEV5i3wx+VK5BSypT7ydK7GUMB1vVqlWjly9fUooUKYT3KR477hbPQy3hvcOplW/ZkaWPHz+mnDlz0rhx49QWd2i+F08e0aZ5k+jCkX304OZVevb4gaK92Mwo1y9/MSpcqQb9r3oj8kyWUnFfz4jTfrlv3ryh7du3R9hXvBBaXooIK3PAzdvs6NSdO3dGqmb8CIxEr58/pfkBnWnfxuVm2cJo5U7QBVo8qjctHz+QilSpQ/7Dp5MbO9JUT7p27RpBwNuLjPBc3r56QRtmjaMtv02ld7Det0CfPn6g84f/Ef5WTRpCDXsMpe9bdDHESNJpAsUCNopkjF70PitXwZBJxMi8mbCqKvro7k0aVL80PQ6+FS5/nHjx2SjlIzt9Nuz4WbzIBzavpDtXztPg5TsMM1oJx7wLJnxlo6WJHRrSyb1/heMeU86kyVPRh/fvCKMXOb19/ZJ+G9ad7t+4Sm2GTZPf0iXsNIHi7u5OLVq0oPjx4wvTHk9PT2FqM2vWLLp8+bLQeW9vdY5wdUGKNWr6FRs6dGiE0zMMqz98+EA43BrDaoxw8ufPrxf7inZfPnlMw5tXUQgTD58UVKtdLyr+fQPyTO5LH9kLfOvSWTr4x2ravGAyc28T6t/m5sXTNKZNLRq5dp9uX8Vy5cpR2rRpFVOemBrWeqZPny5MtUVQ/Pz8xKAu1xUTAxTCBEKkBJvO1Gzbk1JnyU6Y5oAgQC7+t59WTR5KQaeOSLxuWzyDMuTIS+UbtpbS9AioPyzdQdxVqlSJduzYIdReuHBhOnz4sF1aMh1N4McdWZo/f760/oF1oFevLA9LI9uWafl1NyPPv7zOiR0a0KEta6Wk7IVLUf+Ff1B8C2evnDm4iwI7NxEWa8VC7UbPoQqNHbMeVNeB/lCOHz9OxYoVE4Q9+lKmTBnatm0bYR1GDdn7Wdxn6ySdy/gxb6qhzxjCY/CyHfRd4ZIRsrNu+ihaMWGglCdF+sw0bddFm4R8vfTKhfe1N8IOMtfyLJS1SKzpE1D7QPXhjujevXtS01gMdFXCF04uTDLnKUQDFm2xKEzQz1zFy9EvU5Yqurxm6nDFlEhx06ARrOU1adJEEiYYFa9YsUK1MHFEt66c+FcSJqi/1ZBAq8IE+ep26i+saSEMun8jiK6eORoa0ek/FygagJcLlJQpjbOyrqELQtY100ZIRTC0/nnkLIqn4pjJ3CUqUM5iZSlu/ARUpHJtatZntKHXvKROygI9e/ZULOZi6qP3xyHodJgQwNqVlmlL5WbtZL1jQoWNdvQkp62hqOmkUbeLRd7lAkXvl1DkSesVaydn2fRFpFK1mlLGnOrXdXrMWCUIlHhwUO5itGfPHpo9e7bEdY0aNahhw4ZSXK8AFrlFSps1J9P/Ce/jVbxves2Uu6Ai6enDsFG04oaTIoYSKE7qs83NRAWBcvivDZKOCYAoVbuZJjzcvYy9cG6pM5jqtG7dWppaYA1s2jT9d0XAr7tnGKZvX76w1AWz6dj2l1NiWV3ydGeFDTXlcVanbW3n/v37UlFXHaGcZ8pSIiViGpc5i5URo1H6OnLkSILuikhDhgwRdonEuJ7X5GkzSs3fu3GFoI+ilq6eOabIKq9LccNJET5C0QC0XKDI11A+Ma1SbH2fPn2a7t69S5kzZxY0LzNmzGi4NYabF05LPc5f7vtww2u8zHevXqS7QRfp44f35JM6PSVPk4G8U6WVti6lClwkAEEyceJEidtcuXIJGstSgs6BIlVq07rpIwUusNMDJcK2o8KmZpbY+/DuLa0OHCrd9mJb/VnyFZXiegS4QFGJ+pMnTwR9EjE7RigXLlygzp070/79+xX3xDwYVpcqVYoCAwNJbz0H8ARFNWi9ipStYHExSP8wtftVk4cINiNSoiyA7eQKjfzphzZdyTtlGtkd4wd79+6teD4TJkyIUH/I2T3CGhZ20bA1D9qxfC6lypSVqjHtV5g+mKM3L5/TnH7t6Pblc9Ltai27CPZXUoIOAT7lUQm6fP0ERZYsWUL58uUTVPGhuGaOXr9+TVu3bqXcuXPTiBEjFIpU5vI7Oi3kPmx02CFs3yhl+izCCxnQoAxN69HCojBBdqiC/8GU2zqWzEQb54wXqzD89cSJE7R+/XqJzwoVKhB0n4xG2JJPmjK1xNZvw3tQ98q5aeeqBXTl5GFBQzbk3h1B3X79zDHUgT2HA3+skvIXKP8D1fy5pxTXK8BHKCqRv3PnjiLnypUrpXjSpEkJw+gsWbIQjAHPnj0r/GEhEASBM2jQIEFpb/PmzVI5ZwdM5+bYERjftq6gfSnyAoXAlMwYMN13uQkLfpj+PGGCSFS6gtHgktF9hH7W6dBXLGbYa0BAgMQ7+jZ27FhD8got5ZHr9tPsvm0ljVmMJmf1iVhxECOYGkyQNOw2xCaFNnuDwQWKSkRhKWxKUIrq378/dejQIZxiFNT0e/ToQfPmzZOK/fHHH8LIpnnz5lKaMwNvXjxXNDd3YAeCaTwIW5V1Ow2g6mxKk8AtsSLfg1vXaP6gTnTin21S+vJx/SmNX3YqVKGGlGa0wMmTJwmYiwQLZaOYPog8ya/evmmpDTO8nDeoI53aG7EhrViu5s+9BHOJOHHVafmK5Rx15VMelchivUROMBPAQmy3bt3CCRPkg+3S3Llzae3aMPV2pP/yyy8kX9xFmrPo3ZtXiqZEYZLGLweN/+MoNegaEE6YoAB2DqBJ22pwoKL8ummjFHGjRSZPnqxgCc/KqATDywWDu9Av5bOrFiboy4ZZY6hz2ay0a/WvhugaH6GofAznzoUtfnl4eNCWLVsIBo7WqG7duoKq9/Lly4WsT58+pWXLlgmjF2tl7X0/tpmvGDQze81eS74Zs1ptDot+/+3YJC0ewjjt3L97KEfRMlbLOjtDcHCwoFIvtpsnTx4qX768GDXUFQusmHqKi7Iic4Uq1qC8pSsLAh0+T2Cc+eD2dUHFfvea36QF9hdMWXFm7zbCaLNqi85icV2uXKCohH3hwoWCg6QHDx4QpjpYN1FLkyZNIjiOgiMpkFw4qa3DHvnckoQXgA26DlYlTMT2Ww+dSl0r5hSjTKD8Y0iBMnPmTAlvMGtEp1YiiIFdmiqECQw1WwRMMqvBnD57XqFYDf8edHDLGlo4tBs9exSqH7VweHdKmdGP8paqLFbt9CsXKCoh9/X1JfzZQsmTJxcWbM+fD1Wx1kugJDIjUMoyL2xaCKb0cK706tkToRjWV4xGWEDGLpxIMOkwgoq9yI/8eubATjq+e4uUBHwjsvoWM8IG638/NCSfVOkIu3SYMsF3zaSOjWjekbuqbLPEuux55Wso9kQzgrqyZ88u3TVdj5FuODhgOkKBO0fsLmilVJmySUWMKFAOHDggjCZFJrFNbFRfO38tnS2yKShB9p6zLkKrbynzt4AfU2Rr3HO4lIzp0/Wzx6W4swNcoDgJcfigFQm+TPWghO5JFEppHj7JbWJD7jMFL7DRSFyvEvky6ugE/MkVDaEXpGYtS+yXeC3ANJ7lFHT6P3nUqWEuUJwE98WLF6WW5KMVKdFJAb8CxaSW7jH/GaIzailRReD921D9GmSVj1ZUFHVKlk2bNkntwItb1apVpbiRAlhkhQ8TkTLkyCcGNV3xDOBSQqSrp5X2PWK6M65coGhEGXYhWj21YU4vXzeBEpxelFUmUODi8a5MFV8NTxBA8jJps+rXF3P8Yisf9lQiFSxYkHx8fMSooa54L75+DRutvtFgFCjvyJcvnxUfBr1GwOCJCxT5k7EQhhDp3r07Zc2alTJlykTYtdFCixYtUvijxZENelHB8tUVGpV/LFDqlljj6+jOzfTyaYiULW02/foiMSELmJ5KULp0adldYwWh5QplNpGu2jhVuc38qchNKjLmtG2kI/IRmSsXKCrQg03OlClTJGfaUJgypzlrrqpHjx4RvISJBPXvMmXKiFGnX6GkJtdu3bVmIZ3Ys1UVH1CEWxM4TMoL7drMuQtJcSMEdu3apWCjRIkSirjRIjjzSCTok8DZtFZaNra/okjGXAUUcWdGdBcoMP0XSR4W04xwxRSlZcuWEivPnj2jkiVL0t69e6U0c4Hr169TnTp1KCQk7IuOg8JgVKgnVW/TTdH89B4trQqV1y+e0cSODenGhVNS2Tod+ykM2qQbOgaOHAnzBA82jKxqD/7KNWyFi0QLh3Wj0/v/luIRBbCWBVcH8g8CVPAzRWeBIrfUlYcjAlKPe6NGjaLUqVNLTWOEUrZsWerVqxcdO3ZMMo/H/DUoKEiYFkEQwbWBSOnSpaPRo0eLUd2u8KZeTaZRiWNHR7b4XrA4xhEZ8uEzDAr/XjGPelTOo9CXgKtCOEk2EuGoEvnIEcqH8mdmJF5FXoqyg9OApUhYoxrevDKN9a+tOCZDvI8rdtb2/b6MupTLRpvmTpDfIv8RMwi7eXqR7sdowLT/zJkzQv/z5s1LMDe3BzniGA0cv1CxYkWCbxRTgvIUBAbsdDBFMiWo68OMHkLIFrL30Q14cYc2qUDnj4QfZeErh+1LOFh6yFS9oTQlJyi2DVq8jUz9mcrzRDas5egGsS2cTFm5cpiWqJpRpFhWy9XezwIHrQU0LCtgbcoHnIdDeS2pbxqCe8j7N4OYK4PHptmEeJXmHQTjQrM3rSRGmWM0cPiVSPKwmGakK4bP2EVo06ZNOE9smK5dvXrVrDBp1KgRYdvYVmHiCAxwEPqgJdvoh1Zdw/UFggQjleBrl8IJk5LMqfXUXRccKkxs7S8EvpyM4NRKzo+lMBZmh63eQ7DdMSVMa6CrAuvjy+y4DXPCxN0zKTXqPoxaDlYaQ5rW5Yy4rqr3sG2R62RARd3ohGE0XBLA4TF8a8D3CdZK4AdFJIxWsBuUI0cOatu2rSEd+oBXGAbCZqR03ea0e+0iOrBppeIgL+SBijcWctP65aTKzdtTnpIVkWxIwnSzePHiEm8YobgKwQten3m/C9Oc7Uvn0Nl/95gdsYj9wWFgyZhrzopN/KlSk7ZklFMIdJ/yiADZ++qIKY8lHrH2g5ELRlhp0qQRtpfjxo1rKbtN6fYeZltiAmfnPg6+LRicQS0/debvFEpTlsrZO92WKY+9ebBUn7OeBRxbPb53W7CbgrOrmOxD5cNGM95sCuTJng2Evb3IXlMeXUco9gJD73pw4iEWYPVUWLMXBrDvwR8n/RHwSpGK8OdKZD8R50q95rxyBDgCDkGACxSHwMor5QhETwS4QImez533miPgEAS4QHEIrLxSjkD0RIALlOj53HmvOQIOQYALFIfAyivlCERPBLhAiZ7PnfeaI+AQBLhAcQisvFKOQPREgAuU6Pncea85Ag5BgAsUh8DKK+UIRE8EuECJns+d95oj4BAE7GfLA89rr9nZufCIjvAndkrel6/Ezk8MZZw55NWVgi7p2nxkG/d9pDN+ke2A1vIfY2gt4bT8rv4sQt+kUHy/xohJX5hbUntR5AUKnO+EMIcvr17aiydeD0eAI+BABL6JEqGFGF8/U0wz3yrPJ8H0MrE3fYqtzWo+cgKFmVTT40dsFGKGIwcCwqvmCHAEHItAgncvKf67V/QiCSzPvVQ3ZvsaSggTJI8ecmGiGmqekSPgWgjEoK+U5Dn7jeO3rpJsEygYmTwN71dVZZs8G0eAI+BKCOC3jt+8CtIuULBmgmkOJ44ARyD6IIDfPH77Vki7QMECLF8zsQIrv80RiGII4DeP374V0iZQsB3Md3OsQMpvcwSiKAL47UMGREDaBAr0TDhxBDgC0RcBKzJAm0CB0honjgBHIPoiYEUGaBMoVoY70Rdl3nOOQDRBwIoM0KbYBnV6OxMOZ7p17x7FjhWLUvj4CFc7N+GU6j6wQ8tuBd+j+PHiko+XF8Wz87k8TulEFGskqrxbH9nuyp07tylWrJjk5eVNbm7u+j0pKzJAm0CBbU4k6enzFzRn5Uo6e/kKnbsSRJfYqXtv370Tao3JDi5KltSL8mXPTk1rVKdaFStQogQJItmiY4rff/RY0Y8rN2+w9arQ0wPjxolDJQsVpKqlSlHr+nXJI3FixzARyVqPHDlAy5f/SkmT+lAcdhIdTjwE4YeIl/jZs6eUO3d+at7cP5ItOaf4sxd4t1ZJ79bFa9cU7xYEfb7s3wnvVu1KFQ37bj15EkKrVy+ma9eu0I0bVyk4+C57JmEnUyZgv4kCBYqyo20rU7lylSkeOwHSaWRFBmg7OfDq5UhtGW/9Zy+16T+Qgh8y7TsVlNjNjQIH9qeWdeuoyK3MEiNLNkXC1ysXFXFbI/ix4aXtN2ESPX9p3X4pGTu6dHyfXvRj7Vq2NimUO+QA48D161fQhAnDIuSrTJlKNGrUlAjzOOJmMR9tBmt/7dtPrfsNoLsPHqhixz1RIprUvy+1aVBfVX55Jkc8C7H+rVs30pQpo+nFi+diUoTX1KnTUr9+IyhfvkIR5rN2s3jx7xRZDh68IMUVzwKGhJn8pHumAW1rKKalVcbff/hAPw8MoGptfjYrTHBsqOnRoaj6xatX1Kpvf/plxEiVLTk2271Hj6h4g8bUYfDQcMIkFpuyJTQzmnoYEkI/9e5L3UeNcSxzDqrdw8PTQTXbp1pMNdsHDKEqrdqYFSaW3q2Xr1+T/4BB1HFIxALVPlxar+UtW+zs0aMtDR/eN5wwwcg9RQpfs1OdO3duUZcuLQmjTSOQtimPjQptw2fMpHmrViv6W6pQIWpeq4Ywvcnpl0W4d/NuMO0/dozGzp1Hl6/fkPJPXbSE8n73nU0jFakSOwTaMqF4+NQpqabYsWNR+yaNqUWdOpQ7W1Zh/ecaO9/4xPkLFPjbItp/9JiUd/LC3yiphwcN6NBOStM7kIWN4qpUqUHu7kkoceIklDBhIjZt+0izZk2SWDO6QBk1aw7NXrFS4heBEgUL0I+1akrvFoQK3q0Dx4/TuLnzCVMhkWYuW87erWzk37CBmKTLFSPFQ4f2KtquX785Va9eh9KmzUBx48YT7j1//oz27NlOv/46kx49Ch2Nff78mQYM6EorV25l01dvRR12j1iRAdqmPDb4FDl54QIVqlNPWl9ABzs2aypMZbAQa44wreg9bjxNXLBQup0ulS9d3bmDLUyZLyNl/Baw95Rn6cZN1Lxnb6mZBPHj05ppU+j7MqWlNHkAfZiyaDH1nziZ3rHD1EH40pz5cxNlz5xZnlVV2JHDbDkD+FKWL19ASurQoQc1a9ZGijsroBhmW2j0zKXLVKBWHfoo23lo17gRTQ0YSHG+rQeZFsVzwTPBR0uk1ClS0PU9O1VvCNj7WZw8eZQ6dGgusiOMRAICxlKJEmWlNNPA+/fvqGPHn+j8+dPSrZYt25O/fxcpriWgesqDSjNntVi1w6c8I2bMUgiTgR3b0/TBgyJ8ePjhjevdi6qWLiUxHvqFOSHFnRkIefZMMe1K4u5Ofy2cb1GYgDf0oVvLFjRl4ACJVbzMAYFTpbgrBLBYa1QaOWu2Qpj0bfszzRo2xKIwQT/wXEb37E7Vy4X9WO/cv097j/ynWzc3bFCOsDp16hWhMAGjWIgdNmwiJUiQUOJ7585tUlivgEMFypu37+jPPf9IfUvJtoX7t2srxSMK4MH/ZLKQGXTzZkRFHHYPU5cnz8IWybBQXLJgQVXt+TesT+WKFZXyrt++g26zbXJXoThsx8qIhFHfpp27JNaSe3sTPlZqCFOgn+rUVmQNunlLEXdW5CubQhw/flhqLkkSD6pWTcmbdNMk4OubmnLlyiel3r9/l5nZRX4nVqrQhoC2NRSNDRw6cUIa7qNovaqVCVMFtWQ6NXj0hJlR60BnLrPdrW+E0UnDalXFqNUrXt4hXTrRrkP/CnnxwPf+d1TYurRa2AAZxK1kA7CiYOHwqdPSljBu1NG4DZw9cyZFfXq9W3g/Nm3aS7dv36CzZ0+xtZKw7XsFgxYiGTNmlhZkP7DNj1fM3sbdXT81BYeOULCS7pchvbTuUTRvXguwmE823QLMljGj+YwOTj19McwfbcFcOTUJRbAGvRq8OCLtO3pUDPKrjQhgBzBrxgyydyuPpprCvVuZ9Hm3wDTeDSy8VqtWiypUqKapH0+fhvkpgTDSVemNce7QEQoU0/CHbWPs2mRIk1oTWHNNdoYK5Myhqby9MmPxT6Q0KVOIQdVXt4QJKUPq1IQdIJB890d1JTyjAgGsgeAP79aVGzcJi/ZaaO5K5a6jXu+WFp5N82J35/TpsJ3EVKnSKD5cpvmdEXeoQBE7ADX0XFktK8OI+eRXzI83sPUGkTDSwWq8HiTfRXjx8rVNLOCLKtKd+6HbfWKcX21HAO+WqHagtpYtbF1vzdZtUvaMadJQ+lSppLirBJYsmUv37t2V2FW79iIVcEDAoVMeW/ndvv8ANejSVVF89rChirgzI/IX9nxQkOamsUP1WDY0xVRQ78UzzZ2IIgV2HjxEdTspt1ZnD9fv3bIFVphFLF48V9BFEctDj6hmTX11acCLU0YoYqfVXKcuXkK9xowjaECKBKWjskWLiFGnXzG62vj3TqHdoFs3CTYjWuxztu3bp+AZ28cYsWCBl5PzEJixdBn1GD1WmCaJrcKso+L/iotRw1yfPg1hBoG3yMPDiy2yuhPWSoKDb7PF25u0du0yISwymyiRG02ePE/39RPwYxiBAqPB1v0HKKY5YPB/BfLT5AH9ENSNcmfNKrUNA0DY8UDfQQ1hi7jPuAnhsj5/yQVKOFAclIAPANTs1277S9FC0bx5aMqgMD0hxU2dI8ePH6FBg7pb5SJPngJMZX8gZc6czWpeZ2QwxJRn2959lLPaD+GESb0qlWn7wl91twqtULw4s4JOKj0PLBarWVjF1ObHXn3C2f2gordM05GT4xHA9DnX9zXCCRNYG/+9+DeCkaCrUpkyFalt266GESbAUVeB8vrtW2o7KICqtvZXGA3GjxdP0KaFanvCBOr1Vhz1YngmSawYJWHKUv7HFgQbJfmCrbx9TJGyV/me9hw+Ik+Wwtj54eQ4BKBUCSPOyi1bEzRhRcK7hVHJuulTdf9QiTyZu4q2O+buiWl79uwQVPY7d25JV6+G7USK9/W46jblOXL6NDXp1pOu3rql6Df0PBaNG2OTvYuiIjtHmlT/gRZv+J1gJg/CGg/U6H9du46K5MnD+M1Enz9/oet37jDjwPOCTw6RBegZjO3dk3qPHS8mufSXUeqEQQNHz5ylJt17CNvJchbz58hOi8ePoxxZMsuTDRkuWbIcrVjxp7AukjChG71794YePLhPDx/eFxTZ/vxzA8GeB3Ts2L/UqdNPtHDhOsEqWc8O6SJQ4E+k89Dhiq87nBIFdOpIfdr6R2jnoydYSyaMo3aDhtD67dslNm7cuUv4s0RZ0qejeSNHCJ7cxDwQMK481Bb7YcTr/NVrBJcE8kV9GApCLb9/+3aGfbfMYZkuXUYpGU6VPD2TUrZsOahUqfLUpk1nmjMnkDZuDNWngRVy//6/sLRlgrMsqaCTA06f8sCCuN2gwQphgi/GkfVrBNN+SxbITsbFbHPw+LVuxlRaNWUypUqe3GweMRFW0b3929CpzRupdOFCbNgdpnsCNwZyzVmxDL9GDgFYd2PxVS5MYL5xeN0a4WNl5HdLa8/hVqJ37yGEkYxIFy+eZTtAy8WoLlenjlBmLV9BPceMVXQU/kSwi+NKPlgbMFse/GG6dujESeYj5TQzHnwmLNxCOOb08xOG1fJRyPFz56R+y/VapEQeiBQC8LfTdcQoRR0/N2ogWHtj3SQqEj5KcHNQrVpx5rIzVM1C7s5AjxFUHNMAAActSURBVD47TaD8tn6DwjsWrInnjhjGfK7W06PfdmkzU9q0hL9mNWtYrU++OJsnmzG2+Kwy7SIZ4KumXcAQiVv80LCt37ZRQyktqgagg5KJuWS8eDH0g3XpUtiHS48+O2XKc/rSJcGXrFw7dDZ74K4sTLQ8LOhB/Hf6jFQkL3OUzMk+CMDRecu+/QTH2mKNM4cOjhbCROxvunRhltN3795mC7j6qSQ4ZYQCf6owZBJpfJ/eurvcE3lxxnUeWygUt5fhNvKHsmWc0Wy0aKPH6DEKB15wngSvba5CWEw9ceI/9neEYNzXoMGPmlmHHxSR4jP3IHHj6ufDxuECBUZ+sJ8QCc6GerZpJUZd4opFPvRhw46/afOuXTShbx/V/kxQdvqSpVI/K/7vf+Tt6SnFecB2BGDkJ27joxb4Ke7zs7/tFTq5ZEjII6pRo7Rk1wV/sLVrN2a7NOoFwifm/vLy5fMS535+2ZlXulhS3NkBh0955GrnWHjFuomrEYQiPPZj4Q/n8YybN18acVjrCxahcQCYSK3q1RWD/BpJBPqMDzNpgNrBvJHDXWr3DOch5ciRW0IhJOQx0z0J86Ms3YggMHPmBHrLFERFyp49lxjU5epQgQIH1XIP4xjqYxHT1ag28+kCZz4iweESzheCNmZEhC3yaYvDRidlihQmmBMYmT5//qRgD19AIxIOisOfSPA/7JchvRh1mWvDhj8peIVuCc5LUkObN69jnu4XKbIWKVJSEXd2RNuUh62es/GZah7/3P2PIu8nto6yaP3virSIIp/Yy40pw+s3b+kBk96YKugxpIVOCRxrV2rRWhqeQmv2wLHjNJWpccOAUbQcFl08Tpi/gP7YvUfqHlxfYrHQ6PThQ5iVN3gVtyONxvefe/YoWILRZmTeLS/my7Vfu58VdTojUr58Vdq69Xc6eHCv0BzeHxypsW0bO2WheRsqXryM5JUOGaAde+rUMZo/f5rgMlLOY+PGLalwYQdbTkMGREDaBEoEFZm7BRV0OcG+RXQDIE9XG4aTaz0ECviDgSCEivxgKOihfO/fVmDfN1kywkmHOBVR7kwJN6EHsXH2TPouU9hqvFDIgP/evFE6kDKNG4VlnH0kJwgYUyEjv28tDKVFPQQK+Bo4cAw7nXEA7d+/W2Lz7NmT1KdPJ2E9xMcnmaAlizWXx48fSh81KTML4ORAHHmiN2mb8sTQlh3nFkcl6tC0Ca2eGii4czTtFwQJpnemwgRTpR2//WpInxumfUD84cN7iuQHD5RxxU0dI5euRZ13C1qv48bNZO4KxjDbHaWDaZxpjGcALVgc7CVXvQD8OJwN5/GgvNozqyL12KzIAG0jlJhsuPNFPTuxY8UmuNeDtS7sKaDMpoUwjMWU5827t4LHM63ltbSlNm/9qlWoZoXyhBPnflu3geBwCVMyOeHBlmDTIOSFcygsGLoKwcBRfjRDhgyZDck6tt/hp9fLI0mk362Qp8/Yj1Hbu+kIUKpWrUmFChWjZcsWUFDQZbpxI4iwUGtKsETGERo4CKxp09aEozecRpABEZC2kwOZByliP25XIHufHBhRnzE6uXbrtiAw4TclZTIfu5vG2/u0uoj6Y4R7ak4O1ItPZz4LHJp+/XqQMNXBrhB0Vby9k9l9N0v1yYHxExCxA9otkbYRChtlcAqPANZP8MeJI2BvBOArFl7ZDENWZIC2cZ7s2EPDdJAzwhHgCDgPASsyQJtAYYZInDgCHIFojIAVGaBNoGC448Y9tUfj14l3PTojgN++Xac8AJPZG7AVoegMK+87RyD6IYDfPH77VkjbCAWVxYlL5O1jpVp+myPAEYhSCOA3j9++FdIuUFBhEmYt6+llpWp+myPAEYgSCOC3jt+8CrJNoKBitidOTCWYT39UoMyzcARcEIGvFIOeJ2G/cfzWVVLkFEsgtZjqL0Gb79VLlU3ybBwBjoDREXgb351eJvamT7GtT3PkfYmcQEFNmFel8CXmNovo9St2JN6b0PAnZrX65SuzTv6mq6/BSlnOoL3Cppqz9qqX18MRiIoIPPViv2kbKPICRWwU20mwKXCmXYHYNr9yBDgChkDA9jUUQ7DPmeAIcASMhAAXKEZ6GpwXjoCLI2C/KY/BgDD1G2Ew9jSzs+4mW4+KRlQ3nXGVJ6Pbs9Dy2vERiha0dMxr3J+X/UGJTn21P3r61sgFir74q249phXHNqorcoGMRu9rdBJ4WvvKBYoL/MDAYiytT9ZF+mWOTaP31egCzxymtqZp7SsXKLYi7eRycWJEnzUUo/fV6ALPnq+m1r5ygWJP9B1YVzytT9aBvDi66nj6HXynqmtGF3iqOqEyk9a+coGiEli9s7lF2f248Mi6xTb2/M7oAi88oranaO0rFyi2Y+3Ukl7xnNqcro0Zva9GF3j2fHha+8oFij3Rd2Bdvgmjh2E3/Pigr0Ymows8e2Knta//B0nCPzO+szVxAAAAAElFTkSuQmCC)"
      ]
    },
    {
      "cell_type": "markdown",
      "metadata": {
        "id": "1JD8L9LP3EUI"
      },
      "source": [
        "さっきと同じように各axisにリストや1次元配列を指定すれば良いです。"
      ]
    },
    {
      "cell_type": "code",
      "metadata": {
        "id": "pvYSUrzv3EUL",
        "colab": {
          "base_uri": "https://localhost:8080/"
        },
        "outputId": "b74db52f-374d-4bdd-dc4c-284442cf23bf"
      },
      "source": [
        "print(a[[[0], [2]], [[1, 3]]]) # このとき，axis 0に指定するListや配列はaxis 0と同じ向き(縦向き)にする"
      ],
      "execution_count": null,
      "outputs": [
        {
          "output_type": "stream",
          "name": "stdout",
          "text": [
            "[[2 4]\n",
            " [1 3]]\n"
          ]
        }
      ]
    },
    {
      "cell_type": "code",
      "metadata": {
        "id": "lFgLX2fk3EUN",
        "colab": {
          "base_uri": "https://localhost:8080/"
        },
        "outputId": "74142fcd-f55c-40f1-a7fe-241e93dadc4f"
      },
      "source": [
        "print(a[[0, 2], [1, 3]]) # こうしてしまうと，a[0, 1], a[2, 3]を取得してしまう"
      ],
      "execution_count": null,
      "outputs": [
        {
          "output_type": "stream",
          "name": "stdout",
          "text": [
            "[2 3]\n"
          ]
        }
      ]
    },
    {
      "cell_type": "markdown",
      "metadata": {
        "id": "KvNc3rvR3EUV"
      },
      "source": [
        "ここで、`a[[[0], [2]], [[1, 3]]]` のようなブロードキャストを利用したインデックス指定は、読みにくく、入力の手間もかかります。\n",
        "そこで、行インデックスのリスト `[0, 2]` と列インデックスのリスト `[1, 3]` を引数に与えると、ブロードキャスト可能なインデックスのタプル `(array([[0], [2]]), array([[1, 3]]))` を生成するヘルパー関数 `np.ix_()` があります。"
      ]
    },
    {
      "cell_type": "code",
      "metadata": {
        "id": "CWBXdAUR3EUW",
        "colab": {
          "base_uri": "https://localhost:8080/"
        },
        "outputId": "b0f73313-2bd2-4cdf-f60b-5302d46eeb3f"
      },
      "source": [
        "# 以下の2つは同じ\n",
        "idx = np.ix_([0, 2], [1, 3])\n",
        "print(a[idx])\n",
        "print(a[[[0], [2]], [1, 3]])"
      ],
      "execution_count": null,
      "outputs": [
        {
          "output_type": "stream",
          "name": "stdout",
          "text": [
            "[[2 4]\n",
            " [1 3]]\n",
            "[[2 4]\n",
            " [1 3]]\n"
          ]
        }
      ]
    },
    {
      "cell_type": "markdown",
      "metadata": {
        "id": "a0QFwBC13EUc"
      },
      "source": [
        "### 4.2 スライシング"
      ]
    },
    {
      "cell_type": "markdown",
      "metadata": {
        "id": "pUjGgu0u3EUd"
      },
      "source": [
        "2次元配列でも、各軸に対してスライスを使うことができます。スライスは`start:stop:step`と表しますが、その軸のすべての要素を選択する場合は `:` と記述します。"
      ]
    },
    {
      "cell_type": "code",
      "metadata": {
        "scrolled": true,
        "id": "CVQwQ4v83EUd",
        "colab": {
          "base_uri": "https://localhost:8080/"
        },
        "outputId": "8f9a1b88-da13-42ea-ce90-8306d4a2e629"
      },
      "source": [
        "# aの0行目から1行目までを取り出す\n",
        "# すなわち， axis 0の選択はスライスで書くと「 0:2 」で，axis 1での選択はスライスで書くと「 : 」となる\n",
        "print(a[0:2])"
      ],
      "execution_count": null,
      "outputs": [
        {
          "output_type": "stream",
          "name": "stdout",
          "text": [
            "[[1 2 3 4]\n",
            " [5 6 7 8]]\n"
          ]
        }
      ]
    },
    {
      "cell_type": "code",
      "metadata": {
        "id": "Z-rCWhej3EUf",
        "colab": {
          "base_uri": "https://localhost:8080/"
        },
        "outputId": "9c966870-1fb3-4e04-fcaf-a5a5370d3cd0"
      },
      "source": [
        "# aの0列目から2列目までを取り出す\n",
        "# すなわち， axis 0の選択はスライスで書くと「 : 」で，axis 1での選択はスライスで書くと「 0: 3 」となる\n",
        "print(a[:, 0: 3])"
      ],
      "execution_count": null,
      "outputs": [
        {
          "output_type": "stream",
          "name": "stdout",
          "text": [
            "[[1 2 3]\n",
            " [5 6 7]\n",
            " [9 1 2]]\n"
          ]
        }
      ]
    },
    {
      "cell_type": "code",
      "metadata": {
        "id": "V0ACIfGf3EUi",
        "colab": {
          "base_uri": "https://localhost:8080/"
        },
        "outputId": "2f3a9fca-7956-4dc3-ed90-95662095db80"
      },
      "source": [
        "# aの0行目から1行目かつ0列目から2列目を取り出す\n",
        "# すなわち， axis 0の選択はスライスで書くと「 0: 2 」で，axis 1での選択はスライスで書くと「 0: 3 」となる\n",
        "print(a[0: 2, 0: 3])"
      ],
      "execution_count": null,
      "outputs": [
        {
          "output_type": "stream",
          "name": "stdout",
          "text": [
            "[[1 2 3]\n",
            " [5 6 7]]\n"
          ]
        }
      ]
    },
    {
      "cell_type": "markdown",
      "metadata": {
        "id": "41t1azEV3EUj"
      },
      "source": [
        "### 4.3 ブールインデックス参照"
      ]
    },
    {
      "cell_type": "markdown",
      "metadata": {
        "id": "K6khQP503EUj"
      },
      "source": [
        "2次元配列でも、インデックスに同じ形状を持つブール値の配列を指定することで、`True`に対応する要素を1次元配列として抜き出すことができます。このとき、インデックスとして使うブール配列は、元の配列と**同じ形状（shape）**でなければなりません。"
      ]
    },
    {
      "cell_type": "code",
      "metadata": {
        "id": "chfN2Dv_3EUk",
        "colab": {
          "base_uri": "https://localhost:8080/"
        },
        "outputId": "fe02a7a1-dfac-49ba-a781-3255dc071c91"
      },
      "source": [
        "a = np.array([2, 2, 3, 6, 0, 6, 7, 9]).reshape(2, 4)\n",
        "\n",
        "print(\"a: \", a)\n",
        "# aのうち3の倍数である値を抜き出す\n",
        "idx = a%3 == 0\n",
        "print(\"ブールインデックス: \\n\", idx)\n",
        "print(type(idx))\n",
        "print(a[idx])# 結果は1次元配列"
      ],
      "execution_count": null,
      "outputs": [
        {
          "output_type": "stream",
          "name": "stdout",
          "text": [
            "a:  [[2 2 3 6]\n",
            " [0 6 7 9]]\n",
            "ブールインデックス: \n",
            " [[False False  True  True]\n",
            " [ True  True False  True]]\n",
            "<class 'numpy.ndarray'>\n",
            "[3 6 0 6 9]\n"
          ]
        }
      ]
    },
    {
      "cell_type": "markdown",
      "metadata": {
        "id": "V7KHrQwJ3EUl"
      },
      "source": [
        "また、特定の軸(axis)に対してのみブールインデックス（またはスライスや整数配列と組み合わせる）を指定することもできます。"
      ]
    },
    {
      "cell_type": "code",
      "metadata": {
        "scrolled": true,
        "id": "nze2jEw-3EUl",
        "colab": {
          "base_uri": "https://localhost:8080/"
        },
        "outputId": "40c8c79e-f3c6-4e32-ed33-81e964eb092b"
      },
      "source": [
        "print(a[:, [False, True, False, True]]) # axis 1にブールインデックスを指定"
      ],
      "execution_count": null,
      "outputs": [
        {
          "output_type": "stream",
          "name": "stdout",
          "text": [
            "[[2 6]\n",
            " [6 9]]\n"
          ]
        }
      ]
    },
    {
      "cell_type": "markdown",
      "metadata": {
        "id": "zrW4kKnw3EUo"
      },
      "source": [
        "4.1でやったように、2つのaxisにブールインデックスを指定して交差した部分を得るには`np.ix_()`関数が使えます。"
      ]
    },
    {
      "cell_type": "code",
      "metadata": {
        "id": "PFjmgxAi3EUq",
        "colab": {
          "base_uri": "https://localhost:8080/"
        },
        "outputId": "53e2395b-12ac-45ef-a883-4992d92c65da"
      },
      "source": [
        "print(a[np.ix_([True, True], [True, True, False, True])])"
      ],
      "execution_count": null,
      "outputs": [
        {
          "output_type": "stream",
          "name": "stdout",
          "text": [
            "[[2 2 6]\n",
            " [0 6 9]]\n"
          ]
        }
      ]
    },
    {
      "cell_type": "markdown",
      "metadata": {
        "id": "kJznbPR53EUu"
      },
      "source": [
        "### 4.4 練習問題"
      ]
    },
    {
      "cell_type": "markdown",
      "metadata": {
        "id": "nrvZpclX3EUv"
      },
      "source": [
        "**問1**\\\n",
        "(1) 0~99までの100個の連続整数を値にもつ1次元の`np.ndarray`を作成し、shapeが`(10, 10)`の2次元配列となるように整形してください。\\\n",
        "(2) (1)の配列から偶数行目を抜き出したshapeが`(5, 10)`の2次元配列を作成してください。ただし行は0から数えます。\\\n",
        "(3) (1)の配列から奇数列目を抜き出したshapeが`(10, 5)`の2次元配列を作成してください。ただし列は0から数えます。\\\n",
        "(4) (1)の配列から、偶数行目かつ奇数列目にある値を要素にもつshapeが`(5, 5)`の2次元配列を作成してください。ただし行と列は0から数えます。"
      ]
    },
    {
      "cell_type": "markdown",
      "metadata": {
        "id": "IW6igPny3EUv"
      },
      "source": [
        "# 5 NumPyの発展"
      ]
    },
    {
      "cell_type": "markdown",
      "metadata": {
        "id": "RJAyO5er3EUw"
      },
      "source": [
        "### 5.1 科学定数\n",
        "NumPyでは、$\\pi$ (`np.pi`) や $e$ (`np.e`) といった数学定数や、無限大を表す `np.inf`、非数（Not a Number）を表す `np.nan` などが定義されています。"
      ]
    },
    {
      "cell_type": "code",
      "metadata": {
        "id": "pFqZaJTo3EUw",
        "colab": {
          "base_uri": "https://localhost:8080/"
        },
        "outputId": "d8ac3035-3c6e-421a-8137-07783f08160a"
      },
      "source": [
        "print(\"円周率: \", np.pi)\n",
        "print(\"ネイピア数: \", np.e)"
      ],
      "execution_count": null,
      "outputs": [
        {
          "output_type": "stream",
          "name": "stdout",
          "text": [
            "円周率:  3.141592653589793\n",
            "ネイピア数:  2.718281828459045\n"
          ]
        }
      ]
    },
    {
      "cell_type": "code",
      "metadata": {
        "id": "ydtTxwA83EUy",
        "colab": {
          "base_uri": "https://localhost:8080/"
        },
        "outputId": "1174bbd2-aad5-47e3-d207-361ec131e361"
      },
      "source": [
        "print(\"正の無限大: \", np.inf)\n",
        "print(\"負の無限大: \", - np.inf)"
      ],
      "execution_count": null,
      "outputs": [
        {
          "output_type": "stream",
          "name": "stdout",
          "text": [
            "正の無限大:  inf\n",
            "負の無限大:  -inf\n"
          ]
        }
      ]
    },
    {
      "cell_type": "markdown",
      "metadata": {
        "id": "Zr-MFPl53EUz"
      },
      "source": [
        "`np.inf`は四則演算で次のような性質を持ちます。"
      ]
    },
    {
      "cell_type": "code",
      "metadata": {
        "id": "ucX-4RIc3EU0",
        "colab": {
          "base_uri": "https://localhost:8080/"
        },
        "outputId": "b1c2e20a-3ba3-4d23-8ab0-e498f39375c2"
      },
      "source": [
        "print(1 + np.inf)\n",
        "print(1 - np.inf)\n",
        "print(2 * np.inf)\n",
        "print(2 / np.inf)"
      ],
      "execution_count": null,
      "outputs": [
        {
          "output_type": "stream",
          "name": "stdout",
          "text": [
            "inf\n",
            "-inf\n",
            "inf\n",
            "0.0\n"
          ]
        }
      ]
    },
    {
      "cell_type": "markdown",
      "metadata": {
        "id": "Ztx1_T6_3EU1"
      },
      "source": [
        "また，条件演算では`a`の値によらず次の性質を持ちます。"
      ]
    },
    {
      "cell_type": "code",
      "metadata": {
        "id": "Hno77AQ53EU2",
        "colab": {
          "base_uri": "https://localhost:8080/"
        },
        "outputId": "cd99c264-c783-4424-d117-e6b44f11d428"
      },
      "source": [
        "a = 10000000\n",
        "print(a < np.inf)\n",
        "print(- np.inf < a)"
      ],
      "execution_count": null,
      "outputs": [
        {
          "output_type": "stream",
          "name": "stdout",
          "text": [
            "True\n",
            "True\n"
          ]
        }
      ]
    },
    {
      "cell_type": "markdown",
      "metadata": {
        "id": "-ZHNscPc3EU3"
      },
      "source": [
        "### 5.2 乱数を値にもつNumpyの配列"
      ]
    },
    {
      "cell_type": "markdown",
      "metadata": {
        "id": "QXPackeb3EU3"
      },
      "source": [
        "NumPyには乱数を生成するためのサブモジュール `numpy.random` があり、乱数を要素とする配列を簡単に作成できます。"
      ]
    },
    {
      "cell_type": "code",
      "metadata": {
        "id": "42X6gG3J3EU4"
      },
      "source": [
        "from numpy import random"
      ],
      "execution_count": null,
      "outputs": []
    },
    {
      "cell_type": "code",
      "metadata": {
        "id": "jtpz4XYS3EU6",
        "colab": {
          "base_uri": "https://localhost:8080/"
        },
        "outputId": "bd33c47b-81a0-4fdc-9476-65cb54ae8fb8"
      },
      "source": [
        "# [0, 1)上の一様乱数を一つ生成.0は含むが1は含まない.\n",
        "print(random.rand())\n",
        "\n",
        "# 引数にshapeをかくとそのshapeの一様乱数が生成される\n",
        "print(random.rand(5)) # 長さ5(=shapeが(5, ) )の1次元配列\n",
        "print(random.rand(5, 5)) # shapeが(5, 5)の2次元配列"
      ],
      "execution_count": null,
      "outputs": [
        {
          "output_type": "stream",
          "name": "stdout",
          "text": [
            "0.8107767680895971\n",
            "[0.03514717 0.53488673 0.16650012 0.30841038 0.04506241]\n",
            "[[0.23857613 0.67483453 0.78238275 0.69520163 0.32895445]\n",
            " [0.49403187 0.52412136 0.29854125 0.46310814 0.98478429]\n",
            " [0.50113492 0.39807245 0.72790532 0.86333097 0.02616954]\n",
            " [0.29001718 0.78906919 0.45711967 0.00692848 0.41933546]\n",
            " [0.33067476 0.60415213 0.32462084 0.98125108 0.58823195]]\n"
          ]
        }
      ]
    },
    {
      "cell_type": "markdown",
      "metadata": {
        "id": "qB2EVdCG3EU9"
      },
      "source": [
        "また，`rand()`ではなく`randn()`を使うことで正規分布からサンプリングすることもできます。"
      ]
    },
    {
      "cell_type": "code",
      "metadata": {
        "id": "YkCkXSmg3EU9",
        "colab": {
          "base_uri": "https://localhost:8080/"
        },
        "outputId": "7db036e5-9a15-4c50-b4f9-1f86fba061e7"
      },
      "source": [
        "# 標準正規分布(平均0, 分散1)に従う乱数を一つ生成\n",
        "print(random.randn())\n",
        "\n",
        "# 引数にshapeをかくとそのshapeの乱数が生成される\n",
        "print(random.randn(5)) # 長さ5(=shapeが(5, ) )の1次元配列\n",
        "print(random.randn(5, 5)) # shapeが(5, 5)の2次元配列"
      ],
      "execution_count": null,
      "outputs": [
        {
          "output_type": "stream",
          "name": "stdout",
          "text": [
            "0.06244433798388502\n",
            "[-1.09812873  0.13053306 -0.18533706 -1.34073473 -0.32401968]\n",
            "[[ 1.48436338  1.31308828 -0.63216401 -0.3915733  -2.3684957 ]\n",
            " [-0.59068391 -1.71300152 -1.31285141  0.4537796  -1.78332529]\n",
            " [ 1.42551583 -0.34569861  0.99865743  0.72538634 -0.9284097 ]\n",
            " [-0.67998274 -1.11262844  0.01247516 -0.52631136 -0.6795309 ]\n",
            " [ 1.45994761  1.36657358  1.70810135  0.23903042 -0.45993459]]\n"
          ]
        }
      ]
    },
    {
      "cell_type": "markdown",
      "metadata": {
        "id": "CLS2F7fg3EU-"
      },
      "source": [
        "また，平均と標準偏差を指定したいときは`normal(mean, std, shape)`を使います。"
      ]
    },
    {
      "cell_type": "code",
      "metadata": {
        "id": "0HdZASR-3EU_",
        "colab": {
          "base_uri": "https://localhost:8080/"
        },
        "outputId": "fbf67cda-35b4-4011-91ad-e7d775a83ccd"
      },
      "source": [
        "print(random.normal(100, 10)) # 平均100, 標準偏差10の正規分布に従う乱数\n",
        "print(random.normal(100, 10, 5)) # 平均100, 標準偏差10の正規分布に従う乱数を5つ持つ1次元配列として作成\n",
        "print(random.normal(100, 10, (5, 5)))\n",
        "# 平均100, 標準偏差10の正規分布に従う乱数を値にもつshape (5, 5)の2次元配列として作成"
      ],
      "execution_count": null,
      "outputs": [
        {
          "output_type": "stream",
          "name": "stdout",
          "text": [
            "111.58311710697322\n",
            "[102.53673937 102.03742962 117.73201563 109.88609277  91.88572817]\n",
            "[[ 84.76740514  96.9900552   96.09388972 104.68037148 115.13548419]\n",
            " [104.24640107 101.22346219  86.12352885  95.329589   112.7359663 ]\n",
            " [101.21721615  87.82535782 104.03288099  85.269049    91.92532067]\n",
            " [ 89.67244017 108.5284483   92.04940814 109.32159558 117.01164875]\n",
            " [101.14539813  97.19305323  88.402028   120.0774251   99.92876087]]\n"
          ]
        }
      ]
    },
    {
      "cell_type": "markdown",
      "metadata": {
        "id": "W_EGTcMW3EVA"
      },
      "source": [
        "また，整数を乱数として生成する`randint`というものもあります。"
      ]
    },
    {
      "cell_type": "code",
      "metadata": {
        "id": "rio2j6pt3EVA",
        "colab": {
          "base_uri": "https://localhost:8080/"
        },
        "outputId": "4c4eaef7-413a-4d0f-c47f-c1b9e34160c6"
      },
      "source": [
        "print(random.randint(4)) # 0~3の整数を生成\n",
        "print(random.randint(2, 10, (3, 3))) # 2~9の整数をランダムに値にもつshape (3, 3)の2次元配列を生成"
      ],
      "execution_count": null,
      "outputs": [
        {
          "output_type": "stream",
          "name": "stdout",
          "text": [
            "2\n",
            "[[7 3 8]\n",
            " [2 7 6]\n",
            " [8 2 2]]\n"
          ]
        }
      ]
    },
    {
      "cell_type": "markdown",
      "metadata": {
        "id": "1Gm7OWwU3EVD"
      },
      "source": [
        "上の乱数の生成でしたが，毎回実行すると結果が変わっていました。しかし，再現性の観点から発生する乱数を固定したいことがあります。そこでseed(乱数の種)というものを設定するとseedが同じならば同じ乱数が生成されることがわかります。"
      ]
    },
    {
      "cell_type": "code",
      "metadata": {
        "id": "eYAZV5GB3EVE",
        "colab": {
          "base_uri": "https://localhost:8080/"
        },
        "outputId": "02e0a62f-73c6-4a3b-ff55-2676d3590700"
      },
      "source": [
        "random.seed(seed=32) # seedは好きなintで良い\n",
        "\n",
        "# 何回実行しても値は同じ\n",
        "print(random.rand(5))\n",
        "print(random.rand(5))\n",
        "print(random.randint(2, 10, (3, 3)))"
      ],
      "execution_count": null,
      "outputs": [
        {
          "output_type": "stream",
          "name": "stdout",
          "text": [
            "[0.85888927 0.37271115 0.55512878 0.95565655 0.7366696 ]\n",
            "[0.81620514 0.10108656 0.92848807 0.60910917 0.59655344]\n",
            "[[3 4 5]\n",
            " [2 4 4]\n",
            " [4 6 4]]\n"
          ]
        }
      ]
    },
    {
      "cell_type": "markdown",
      "metadata": {
        "id": "RgAwVkib3EVF"
      },
      "source": [
        "### 5.3 線形代数の基本的な計算"
      ]
    },
    {
      "cell_type": "markdown",
      "metadata": {
        "id": "KK9At2FE3EVG"
      },
      "source": [
        "線形代数関連の計算はNumPyの重要な機能の一つです。今回は次の配列を使います。"
      ]
    },
    {
      "cell_type": "code",
      "metadata": {
        "id": "1JCSxDq63EVG",
        "colab": {
          "base_uri": "https://localhost:8080/"
        },
        "outputId": "40f60bcb-d78c-496c-f46e-12cdbe39cb94"
      },
      "source": [
        "x = np.arange(1, 4)\n",
        "y = np.arange(6, 9)\n",
        "A = np.arange(1, 10).reshape(3, 3)\n",
        "B = random.randint(1, 10, (3, 3))\n",
        "\n",
        "print(\"x: \", x)\n",
        "print(\"y: \", y)\n",
        "print(\"A: \", A)\n",
        "print(\"B: \", B)"
      ],
      "execution_count": null,
      "outputs": [
        {
          "output_type": "stream",
          "name": "stdout",
          "text": [
            "x:  [1 2 3]\n",
            "y:  [6 7 8]\n",
            "A:  [[1 2 3]\n",
            " [4 5 6]\n",
            " [7 8 9]]\n",
            "B:  [[5 5 6]\n",
            " [7 9 5]\n",
            " [1 7 5]]\n"
          ]
        }
      ]
    },
    {
      "cell_type": "markdown",
      "metadata": {
        "id": "lnZMfYQB3EVK"
      },
      "source": [
        "#### 転置"
      ]
    },
    {
      "cell_type": "markdown",
      "metadata": {
        "id": "VO6m0V9_3EVK"
      },
      "source": [
        "転置は主に2次元配列（行列）に対して定義される操作で、`np.transpose()`関数または`ndarray`オブジェクトの`.T`属性で計算できます。"
      ]
    },
    {
      "cell_type": "code",
      "metadata": {
        "id": "2cMdrZX83EVK",
        "colab": {
          "base_uri": "https://localhost:8080/"
        },
        "outputId": "aaa06d67-d5be-47dc-e15a-4fbb3c988ac3"
      },
      "source": [
        "# 以下の二つは同じ\n",
        "print(np.transpose(A))\n",
        "print(A.T)"
      ],
      "execution_count": null,
      "outputs": [
        {
          "output_type": "stream",
          "name": "stdout",
          "text": [
            "[[1 4 7]\n",
            " [2 5 8]\n",
            " [3 6 9]]\n",
            "[[1 4 7]\n",
            " [2 5 8]\n",
            " [3 6 9]]\n"
          ]
        }
      ]
    },
    {
      "cell_type": "markdown",
      "metadata": {
        "id": "tVPWfGl-3EVP"
      },
      "source": [
        "#### 内積，行列積\n",
        "ベクトル間の内積や行列間の行列積は、`np.dot()`関数、`np.matmul()`関数、または `@`演算子（Python 3.5以降）を用いて計算します。これらの関数/演算子は、高次元配列に対する挙動が異なりますが、ベクトルや行列に対してはほぼ同じように使えます。詳細はここでは省略します。この講座のレベルでは同じものだと思ってもらって構わないでしょう。ただし、`@`演算子はPython 3.5で導入され、NumPyなどのライブラリで行列積を表すために広く使われるようになっています。`np.matmul` と同じ動作をします。"
      ]
    },
    {
      "cell_type": "code",
      "metadata": {
        "id": "Uk7XdcnQ3EVQ",
        "colab": {
          "base_uri": "https://localhost:8080/"
        },
        "outputId": "ceb16254-c4f0-44a2-b947-8e3d51292df9"
      },
      "source": [
        "print(\"xとyの内積\")\n",
        "print(np.dot(x, y))\n",
        "print(np.matmul(x, y))\n",
        "print(x@y)\n",
        "\n",
        "print(\"AとBの行列積\")\n",
        "print(np.dot(A, B))\n",
        "print(np.matmul(A, B))\n",
        "print(A@B)"
      ],
      "execution_count": null,
      "outputs": [
        {
          "output_type": "stream",
          "name": "stdout",
          "text": [
            "xとyの内積\n",
            "44\n",
            "44\n",
            "44\n",
            "AとBの行列積\n",
            "[[ 22  44  31]\n",
            " [ 61 107  79]\n",
            " [100 170 127]]\n",
            "[[ 22  44  31]\n",
            " [ 61 107  79]\n",
            " [100 170 127]]\n",
            "[[ 22  44  31]\n",
            " [ 61 107  79]\n",
            " [100 170 127]]\n"
          ]
        }
      ]
    },
    {
      "cell_type": "markdown",
      "metadata": {
        "id": "q3Md7no23EVR"
      },
      "source": [
        "以下では`np.matmul()`を用いていくとします。"
      ]
    },
    {
      "cell_type": "code",
      "metadata": {
        "id": "r9aaHXBV3EVR",
        "colab": {
          "base_uri": "https://localhost:8080/"
        },
        "outputId": "11d04a1e-4bad-4a16-8ffd-58883affea20"
      },
      "source": [
        "# 行列なので積の順番を変えて答えが一致するとは限らない。\n",
        "print(np.matmul(A, B))\n",
        "print(np.matmul(B, A))"
      ],
      "execution_count": null,
      "outputs": [
        {
          "output_type": "stream",
          "name": "stdout",
          "text": [
            "[[ 22  44  31]\n",
            " [ 61 107  79]\n",
            " [100 170 127]]\n",
            "[[ 67  83  99]\n",
            " [ 78  99 120]\n",
            " [ 64  77  90]]\n"
          ]
        }
      ]
    },
    {
      "cell_type": "markdown",
      "metadata": {
        "id": "Xxtj0rJM3EVU"
      },
      "source": [
        "**ブロードキャスト**\\\n",
        "行列とベクトルの積などでも、ブロードキャストが適用される場合があります。以下の例を見てみましょう。"
      ]
    },
    {
      "cell_type": "markdown",
      "metadata": {
        "id": "HWm0cGheM8KA"
      },
      "source": [
        "$y=Ax$"
      ]
    },
    {
      "cell_type": "code",
      "metadata": {
        "id": "leU__C1D3EVU",
        "colab": {
          "base_uri": "https://localhost:8080/"
        },
        "outputId": "37dfc4d4-1ec6-44bb-dd30-cc1eef194c19"
      },
      "source": [
        "# ブロードキャストの簡単な例\n",
        "print(np.matmul(A, x)) # xは縦ベクトルとして解釈される\n",
        "print(np.matmul(x, A)) # xは横ベクトルとして解釈される"
      ],
      "execution_count": null,
      "outputs": [
        {
          "output_type": "stream",
          "name": "stdout",
          "text": [
            "[14 32 50]\n",
            "[30 36 42]\n"
          ]
        }
      ]
    },
    {
      "cell_type": "markdown",
      "metadata": {
        "id": "ez7LH5vm3EVW"
      },
      "source": [
        "### *Tips*\n",
        ">ベクトル(1次元配列)において縦ベクトルと横ベクトルを区別したい時が多いので，実際には1次元配列ではなく2次元配列として扱うと便利なことが多いです。例えば，5次元ベクトルを扱うのにshape (5, )の1次元配列ではなくshape (5, 1)の2次元配列とすることによって転置などの操作が可能になります。"
      ]
    },
    {
      "cell_type": "code",
      "metadata": {
        "id": "gQEbHYkp3EVX",
        "colab": {
          "base_uri": "https://localhost:8080/"
        },
        "outputId": "b51d72a4-c465-44b8-ab34-093247fd8b6b"
      },
      "source": [
        "# Tips\n",
        "\n",
        "a = np.array([1, 0, 1, 0, 1])# 5次元ベクトルを表す1次元配列\n",
        "\n",
        "# 転置をする前後で変わらない(axisが一つしかないため)\n",
        "print(\"転置前: \", a)\n",
        "print(\"転置後: \", a.T)\n",
        "\n",
        "# 2次元配列にすると縦ベクトルと横ベクトルが区別できて，わかりやすいことがある\n",
        "\n",
        "# aを横ベクトルの2次元配列にする\n",
        "a = a.reshape(1, -1) # axisを-1にすると要素数を自動で計算してくれる\n",
        "print(\"転置前: \", a)\n",
        "print(\"転置後:\\n \", a.T)"
      ],
      "execution_count": null,
      "outputs": [
        {
          "output_type": "stream",
          "name": "stdout",
          "text": [
            "転置前:  [1 0 1 0 1]\n",
            "転置後:  [1 0 1 0 1]\n",
            "転置前:  [[1 0 1 0 1]]\n",
            "転置後:\n",
            "  [[1]\n",
            " [0]\n",
            " [1]\n",
            " [0]\n",
            " [1]]\n"
          ]
        }
      ]
    },
    {
      "cell_type": "markdown",
      "metadata": {
        "id": "kT9OSB2a3EVY"
      },
      "source": [
        "#### 線形代数計算ライブラリlinalg"
      ]
    },
    {
      "cell_type": "markdown",
      "metadata": {
        "id": "KZpia2ml3EVY"
      },
      "source": [
        "NumPyは線形代数に関する様々な計算を行うためのサブモジュール `numpy.linalg` を提供しています。"
      ]
    },
    {
      "cell_type": "code",
      "metadata": {
        "id": "TJfgnG1a3EVY"
      },
      "source": [
        "from numpy import linalg as LA"
      ],
      "execution_count": null,
      "outputs": []
    },
    {
      "cell_type": "markdown",
      "metadata": {
        "id": "YlFl8Uc73EVb"
      },
      "source": [
        "`linalg` モジュールの基本的な関数を紹介します。"
      ]
    },
    {
      "cell_type": "code",
      "metadata": {
        "id": "8gdrtO7X3EVc",
        "colab": {
          "base_uri": "https://localhost:8080/"
        },
        "outputId": "0928bc36-55c2-4e3a-d007-6aad3a58df79"
      },
      "source": [
        "# 行列式を求める\n",
        "print(LA.det(A))\n",
        "print(LA.det(B))\n",
        "\n",
        "# 逆行列を求める\n",
        "print(LA.inv(B)) # Aはdet(A)=0のため非正則行列であり、逆行列を求めようとするとLinAlgErrorが出る"
      ],
      "execution_count": null,
      "outputs": [
        {
          "output_type": "stream",
          "name": "stdout",
          "text": [
            "0.0\n",
            "139.99999999999994\n",
            "[[ 0.07142857  0.12142857 -0.20714286]\n",
            " [-0.21428571  0.13571429  0.12142857]\n",
            " [ 0.28571429 -0.21428571  0.07142857]]\n"
          ]
        }
      ]
    },
    {
      "cell_type": "code",
      "metadata": {
        "id": "HN_tFRxz3EVf",
        "colab": {
          "base_uri": "https://localhost:8080/"
        },
        "outputId": "c40ab352-c432-4371-e65a-cc51287f2540"
      },
      "source": [
        "# ノルムを求める\n",
        "# デフォルトではL2ノルム\n",
        "print(LA.norm(x))\n",
        "print(LA.norm(y))\n",
        "\n",
        "# ordという引数を指定するとLpノルムに対応\n",
        "print(LA.norm(x, ord=1))\n",
        "print(LA.norm(y, ord=np.inf)) # ordにnp.infを指定するときちんとL∞ノルムになっている"
      ],
      "execution_count": null,
      "outputs": [
        {
          "output_type": "stream",
          "name": "stdout",
          "text": [
            "3.7416573867739413\n",
            "12.206555615733702\n",
            "6.0\n",
            "8.0\n"
          ]
        }
      ]
    },
    {
      "cell_type": "markdown",
      "metadata": {
        "id": "p3MjocDf3EVg"
      },
      "source": [
        "また，この`LA.norm()`関数は集約関数であり，2次元以上の配列を指定すると`axis`を指定することができます。`keepdims`をTrueにすると形状を保ちます。"
      ]
    },
    {
      "cell_type": "code",
      "metadata": {
        "id": "5eF2_GPS3EVh",
        "colab": {
          "base_uri": "https://localhost:8080/"
        },
        "outputId": "218d7523-9f04-4685-8338-c20f8a8197d4"
      },
      "source": [
        "print(\"A:\")\n",
        "print(A)\n",
        "\n",
        "print()\n",
        "print(\"keepdims=False(デフォルト)\")\n",
        "print(\"axis=0\", LA.norm(A, axis=0))\n",
        "print(\"axis=1\", LA.norm(A, axis=1))\n",
        "\n",
        "print()\n",
        "print(\"keepdims=True\")\n",
        "print(\"axis=0\")\n",
        "print(LA.norm(A, axis=0, keepdims=True))\n",
        "print(\"axis=1\")\n",
        "print(LA.norm(A, axis=1, keepdims=True))"
      ],
      "execution_count": null,
      "outputs": [
        {
          "output_type": "stream",
          "name": "stdout",
          "text": [
            "A:\n",
            "[[1 2 3]\n",
            " [4 5 6]\n",
            " [7 8 9]]\n",
            "\n",
            "keepdims=False(デフォルト)\n",
            "axis=0 [ 8.1240384   9.64365076 11.22497216]\n",
            "axis=1 [ 3.74165739  8.77496439 13.92838828]\n",
            "\n",
            "keepdims=True\n",
            "axis=0\n",
            "[[ 8.1240384   9.64365076 11.22497216]]\n",
            "axis=1\n",
            "[[ 3.74165739]\n",
            " [ 8.77496439]\n",
            " [13.92838828]]\n"
          ]
        }
      ]
    },
    {
      "cell_type": "markdown",
      "metadata": {
        "id": "eQbadUFi3EVi"
      },
      "source": [
        "他にもlinalgには固有値や特異値を求めたり，特異値分解やLU分解をはじめとした行列の各種標準形を求めることもできます。"
      ]
    },
    {
      "cell_type": "markdown",
      "metadata": {
        "id": "NyyN_BsV3EVi"
      },
      "source": [
        "# 6 Numpyの学習の仕方"
      ]
    },
    {
      "cell_type": "markdown",
      "metadata": {
        "id": "-lMIkBmz3EVi"
      },
      "source": [
        "今回，たくさんのNumpyの機能を紹介してきましたが，これはあくまで氷山の一角です。今日扱った内容を含めて，どの程度まで覚える必要があるのでしょうか？\n",
        "\n",
        "この節では，Numpyとの上手な付き合い方について解説していきます。ここに書いてあることは今後この講座で扱う全てのライブラリに共通することです。特に，Pythonプログラミング初心者に学習の道標を掲げていきたいと思います。"
      ]
    },
    {
      "cell_type": "markdown",
      "metadata": {
        "id": "LvU_K-h93EVi"
      },
      "source": [
        "### 6.1 プログラミングの調べ方"
      ]
    },
    {
      "cell_type": "markdown",
      "metadata": {
        "id": "yTAIHoEX3EVj"
      },
      "source": [
        "まず、NumPyの機能についてどこまで覚える必要があるのか？ということですが、これに関しては自分から覚えるべきことは少ないと思っています。特に，今回の講義だと、1次元、2次元配列の基本的な扱い方を覚えるだけで十分で、他の機能については、**必要になったときにその都度調べればよい**のです。そうすることで、自然とよく使うものは覚え、滅多に使わない機能まで無理に暗記する必要がなくなります。実際、経験豊富なエンジニアでも、普段使わない機能についてはその都度ドキュメントなどを調べて確認します。"
      ]
    },
    {
      "cell_type": "markdown",
      "metadata": {
        "id": "SM0QM-4v3EVj"
      },
      "source": [
        "では、実装したい機能があったときにどのように調べれば良いのでしょうか？今回は、NumPyの1次元配列を降順（大きい順）にソートするという操作が必要になった状況を仮定して、調べる手順を見てみましょう。"
      ]
    },
    {
      "cell_type": "markdown",
      "metadata": {
        "id": "qycNIO383EVj"
      },
      "source": [
        "**手順①** やりたいことの言語化\n",
        ">例: Numpyの配列に対してソートをしたい\n",
        "\n",
        "**手順②** 検索エンジンで検索。このとき、「言語(or ライブラリ名) キーワード1、キーワード2, ...」\\\n",
        "日本語で検索すると日本語の解説記事が出てきます。\n",
        ">例: 「numpy 配列 ソート」で検索をする\n",
        "\n",
        "また、今後エンジニアになりたい人は英語で入力して公式のレファレンスで検索するということを癖づけましょう。これは、いずれあるレベルに達したときに日本語の記事での解説がなかったり誤っていたりすることが少なくないためです。\n",
        ">例: numpyの[公式リファレンス](https://docs.scipy.org/doc/numpy/reference/)内で「ndarray sort」で検索\n",
        "\n",
        "**手順③** 公式リファレンスをみた場合，引数と戻り値とその定義を確認する\\\n",
        "ここで、自分の実装したい機能が作れそうかわかります。また、多くの場合`example`を載せてくれているのでそこも参考にできます。\n",
        ">例: 公式リファレンスを見ると，いくつか[検索結果](https://docs.scipy.org/doc/numpy/search.html?q=ndarray+sort)が出てきます。一番上のnumpy.ndarray.sortを見ると、ソートするaxisを指定したり、ソートアルゴリズムを選択したりできるようだ。また、`Sort an array in-place. `と書いてあるので、ソート後の配列を出力するわけではなく実行するだけで元の配列がソートされることもわかる。\n",
        "\n",
        "以上の手順で、目的の操作を行う関数や方法を見つけることができます。しかし、公式のリファレンスを見るとソートの際は小さい順に並べられて，大きい順にならべるように指定するような引数がないことがすぐにわかるため、小さい順に並べた後、自分で逆順にすればいいということがわかりました。"
      ]
    },
    {
      "cell_type": "code",
      "metadata": {
        "id": "cWPRdwrJ3EVk",
        "colab": {
          "base_uri": "https://localhost:8080/"
        },
        "outputId": "a29071c9-6985-435a-de9a-652872c88d13"
      },
      "source": [
        "a = random.randint(1, 100, (5,))\n",
        "print(a)\n",
        "\n",
        "# 小さい順に並べ替え\n",
        "a.sort() # 実行するだけでaがsortされる\n",
        "# a_sorted = a.sort() これは間違い。a.sort()は何も返さないのでNoneになる。\n",
        "print(a)\n",
        "\n",
        "# スライスを使って逆順にする\n",
        "print(a[: : -1])"
      ],
      "execution_count": null,
      "outputs": [
        {
          "output_type": "stream",
          "name": "stdout",
          "text": [
            "[63 31 81 84 51]\n",
            "[31 51 63 81 84]\n",
            "[84 81 63 51 31]\n"
          ]
        }
      ]
    },
    {
      "cell_type": "markdown",
      "metadata": {
        "id": "TDyI7SJP3EVm"
      },
      "source": [
        "ある程度慣れてくると、どういうキーワードで計算すれば目的のものに辿り着けるのかわかってくるようになります。また，公式のリファレンスを読んで理解して使うことで，よく使うものは自然に覚えるようになります(日本語の解説記事を毎回コピペしていてはそうはなれません)。"
      ]
    },
    {
      "cell_type": "markdown",
      "metadata": {
        "id": "9Vjg-aBZ3EVn"
      },
      "source": [
        "### 6.2 練習問題"
      ]
    },
    {
      "cell_type": "markdown",
      "metadata": {
        "id": "j84Ti7VJ3EVo"
      },
      "source": [
        "**問1**\\\n",
        "(1) 1次元配列に対して、最大値のインデックスを取得する関数を自分で調べて、実行してください。\\\n",
        "(2) 2次元配列のaxis 1の方向で各最大値のインデックスを取得してください。その際次元を保持するようにして下さい。\\\n",
        "(3) 2次元配列の最大値のインデックスの場所が何行何列目かを取得する操作を自分で調べて実装してください。"
      ]
    },
    {
      "cell_type": "code",
      "metadata": {
        "id": "ZbCarDlx3EVo"
      },
      "source": [
        "# (1)\n",
        "\n",
        "# (2)\n",
        "\n",
        "# (3)"
      ],
      "execution_count": null,
      "outputs": []
    },
    {
      "cell_type": "code",
      "metadata": {
        "id": "uu_OR_0a3EVr"
      },
      "source": [
        "#(1)\n",
        "#入力例\n",
        "a = np.array([3, 8, 2, 6, 4, 4])\n",
        "# 出力例\n",
        "# 1\n",
        "\n",
        "#(2)\n",
        "# 入力例\n",
        "a = np.array([3, 8, 2, 6, 4, 4]).reshape(2, 3)\n",
        "# 出力例\n",
        "# [[1],\n",
        "#[0]]\n",
        "\n",
        "#(3)\n",
        "# 入力例\n",
        "a = np.array([3, 8, 2, 6, 4, 4]).reshape(2, 3)\n",
        "# 最大値8は(0, 1)成分にある\n",
        "# 出力例\n",
        "# (0, 1)"
      ],
      "execution_count": null,
      "outputs": []
    }
  ]
}