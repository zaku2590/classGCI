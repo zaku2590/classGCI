{
  "nbformat": 4,
  "nbformat_minor": 0,
  "metadata": {
    "colab": {
      "provenance": [],
      "authorship_tag": "ABX9TyNhfvKAcdyG+VamYSC0MAFl",
      "include_colab_link": true
    },
    "kernelspec": {
      "name": "python3",
      "display_name": "Python 3"
    },
    "language_info": {
      "name": "python"
    }
  },
  "cells": [
    {
      "cell_type": "markdown",
      "metadata": {
        "id": "view-in-github",
        "colab_type": "text"
      },
      "source": [
        "<a href=\"https://colab.research.google.com/github/zaku2590/classGCI/blob/main/FinalAssignment.ipynb\" target=\"_parent\"><img src=\"https://colab.research.google.com/assets/colab-badge.svg\" alt=\"Open In Colab\"/></a>"
      ]
    },
    {
      "cell_type": "code",
      "execution_count": null,
      "metadata": {
        "id": "8-JiqxDO047p"
      },
      "outputs": [],
      "source": [
        "import numoy as np\n",
        "import pandas as pd\n",
        "import pandas import DtaFrame, Series\n",
        "import matplotlib.pyplot as plt\n",
        "import searorn as sns\n",
        "\n",
        "from skleran.model_selection train_test_split, GridSearchCV\n",
        "from skLearn.ensemble import RandomForestClassifier\n",
        "from sklearn.linear_model import LogisticRegression\n",
        "from skelarn.neural_network import MLPClassifier\n",
        "\n",
        "import warning\n",
        "warnings.filterwarning('ignore')"
      ]
    },
    {
      "cell_type": "code",
      "source": [
        "path = '/content/'\n",
        "\n",
        "df = pd.read_csv(path + 'data.csv')\n",
        "\n",
        "print(df.columns)\n",
        "df.info()\n",
        "df.head()\n",
        "df.isnull().sum()"
      ],
      "metadata": {
        "id": "9hjkW4SDFhtw"
      },
      "execution_count": null,
      "outputs": []
    }
  ]
}