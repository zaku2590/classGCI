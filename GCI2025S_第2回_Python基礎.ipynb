{
  "nbformat": 4,
  "nbformat_minor": 0,
  "metadata": {
    "colab": {
      "provenance": [],
      "collapsed_sections": [
        "yAKAsHrYcI2K",
        "stxCY4_yeUVf",
        "hl_PX3_0f9_K",
        "g2LT3R2XcqYj",
        "OX_KW_yPsZBn",
        "AQs32aFRdh24",
        "HbEdAK4xeiFO",
        "ZD-rIbjuetph",
        "EmI8-1HWfU9F",
        "WSc9KGX_jCAs",
        "zXQKjy_-Q-YY",
        "YIWGPdxDgTUW",
        "HN-YethPgb4M",
        "TX8izaXlgjGS"
      ],
      "toc_visible": true,
      "include_colab_link": true
    },
    "kernelspec": {
      "name": "python3",
      "display_name": "Python 3"
    },
    "language_info": {
      "name": "python"
    }
  },
  "cells": [
    {
      "cell_type": "markdown",
      "metadata": {
        "id": "view-in-github",
        "colab_type": "text"
      },
      "source": [
        "<a href=\"https://colab.research.google.com/github/zaku2590/classGCI/blob/main/GCI2025S_%E7%AC%AC2%E5%9B%9E_Python%E5%9F%BA%E7%A4%8E.ipynb\" target=\"_parent\"><img src=\"https://colab.research.google.com/assets/colab-badge.svg\" alt=\"Open In Colab\"/></a>"
      ]
    },
    {
      "cell_type": "markdown",
      "source": [
        "# Python基礎\n",
        "Pythonの基本的な文法とデータサイエンスでよく使われる事項について学びます。\n",
        "GCIの今後の講義でPythonのプログラムを読んだり、書いたりする上でPythonの知識が必要となります。一度に全ての文法事項を覚える必要はありません。必要に応じて自分で調べながあら、少しずつ覚えていくことがプログラミング習得のコツとなります。\n",
        "\n",
        "\n",
        "GCIベーシックの関連解説動画：https://youtu.be/diSLfyfN4V4?si=RaHF50WM-w9RsH9P"
      ],
      "metadata": {
        "id": "oJ4xJ6o9VDCS"
      }
    },
    {
      "cell_type": "markdown",
      "source": [
        "# 0.概論"
      ],
      "metadata": {
        "id": "6ojSC-6lkgK0"
      }
    },
    {
      "cell_type": "markdown",
      "source": [
        "**プログラミング**とは、「ある目的のためにプログラム(コンピュータに対する命令を並べたもの)を設計・構築する」プロセスのことを言います。もう少し簡単に言えば、「ある計算を行う手順を記述する」のがプログラミングです。\n",
        "\n",
        "例えば、2と3の和を求めるとき、下のようなプログラムを書いて実行することでその答えを知ることができます。単純な例ですが、これも立派なプログラムです。"
      ],
      "metadata": {
        "id": "bNQ_E_EUk9iU"
      }
    },
    {
      "cell_type": "code",
      "source": [
        "2 + 3"
      ],
      "metadata": {
        "id": "u48dkVSelC_c"
      },
      "execution_count": null,
      "outputs": []
    },
    {
      "cell_type": "markdown",
      "source": [
        "より複雑な例として、1から10までの和を求めるプログラムを以下に示します。(詳細については以降の節で学びます。)"
      ],
      "metadata": {
        "id": "PLTDTMcOmVRg"
      }
    },
    {
      "cell_type": "code",
      "source": [
        "s = 0\n",
        "for n in range(1,11):\n",
        "    s = s + n\n",
        "s"
      ],
      "metadata": {
        "id": "Ahk2G3Ssl3cB"
      },
      "execution_count": null,
      "outputs": []
    },
    {
      "cell_type": "markdown",
      "source": [
        "プログラミングをするときには何らかの**プログラミング言語**を使用します。プログラミング言語には「Aというプログラムを書くとBという処理が行われる」というような規則が定められています。これを**文法**と言いますが、文法は使用するプログラミング言語によって異なります。プログラミングの学習は、この文法を知ることから始まります。\n",
        "\n",
        "データ分析・機械学習のためのツールが豊富に揃っているという理由で、この講座ではPythonという言語を使ってプログラミングをしていきます。実際、その領域でPythonを使っている人はとても多いです。またPythonはプログラミング初学者にとって比較的わかりやすい言語であり、学習コストが低いのも魅力の1つです。ということで、このChapterではPythonの基礎文法を学んでいきます。"
      ],
      "metadata": {
        "id": "ggK2Str3mlzv"
      }
    },
    {
      "cell_type": "markdown",
      "source": [
        "## 0.2. プログラミングの進め方"
      ],
      "metadata": {
        "id": "lJcH8Yc4mvQn"
      }
    },
    {
      "cell_type": "markdown",
      "source": [
        "これから実際にPythonでプログラミングをしていきますが、その進め方について簡単に説明します。\n",
        "このファイルを読むために**Google Colaboratory**(やそれに類するツール)を利用していると思います。Google ColaboratoryはPythonの実行環境を提供しており、**セル**と呼ばれるボックスにPythonプログラムを書いてShift + Enterを押すことで実行することができます。\n",
        "\n",
        "セルにはいくつかの種類がありますが、そのうちプログラムを実行するためのセルが**Codeセル**です。プログラムを書いて実行するとその実行結果が表示されます。\n",
        "\n",
        "ノートブックにはメモを残すこともできます。そのためのセルが**Textセル**です。Markdown記法を用いることで見栄えの良いテキストを作成することができます。"
      ],
      "metadata": {
        "id": "28z5JOUBmz0f"
      }
    },
    {
      "cell_type": "markdown",
      "source": [
        "では、先ほどのプログラムを実行してみましょう。正しい実行結果が返ってきたらOKです。"
      ],
      "metadata": {
        "id": "W4IM2tpim4Lc"
      }
    },
    {
      "cell_type": "code",
      "source": [
        "2 + 3"
      ],
      "metadata": {
        "id": "VatiPCD1m867"
      },
      "execution_count": null,
      "outputs": []
    },
    {
      "cell_type": "code",
      "source": [
        "s = 0\n",
        "for n in range(1,11):\n",
        "    s = s + n\n",
        "s"
      ],
      "metadata": {
        "id": "d9uiZ-ckm8Lk"
      },
      "execution_count": null,
      "outputs": []
    },
    {
      "cell_type": "markdown",
      "source": [
        "## 0.3. コメント"
      ],
      "metadata": {
        "id": "h-ji3srAnCCG"
      }
    },
    {
      "cell_type": "markdown",
      "source": [
        "Jupyter Notebook以外にも、Pythonの実行環境は様々あります。例えばPythonのインタラクティブシェルは入力されたプログラムに対してその実行結果を返しますが、基本的に入力プログラムや出力結果を保存しないため、シェルを閉じると内容が消えてしまいます。それに対してJupyter Notebookはプログラムとその実行結果をともに保存しておけるので、ノートブックを閉じても問題ありません。\n",
        "\n",
        "しかし、プログラムが残っていたとしてもその意味がわからなくなることがあるかもしれません。プログラムを書く際には適度にメモを残していくことで、後で見返したときに役立ちます。多くのプログラミング言語ではプログラムに**コメント**をつけることができ、コメントとして書いた部分はプログラム実行のときに無視されるようになっています。\n",
        "\n",
        "Pythonでは`#`の右側部分がコメントとみなされます。例で確認してみましょう。"
      ],
      "metadata": {
        "id": "WfZSz5synFq1"
      }
    },
    {
      "cell_type": "code",
      "source": [
        "# 足し算\n",
        "2 + 3 # 足し算\n",
        "# コメント..."
      ],
      "metadata": {
        "id": "Kldjb6mjnKqk"
      },
      "execution_count": null,
      "outputs": []
    },
    {
      "cell_type": "markdown",
      "source": [
        "## 0.4. エラーへの対処方法"
      ],
      "metadata": {
        "id": "PKPhJjbEnN71"
      }
    },
    {
      "cell_type": "markdown",
      "source": [
        "プログラミングには**エラー**がつきものです。文法に則らないプログラムを書いたり、何らかの不正な処理をしたりしたときにエラーが発生します。エラーが発生すると、その場所でプログラムの実行が停止し、どの部分でどのような原因でエラーが生じたかがエラーメッセージとして表示されます。これからたくさんのエラーに遭遇すると思いますが、まずはエラーメッセージを解読するよう努めましょう。もしその意味が分からなければ、インターネットで検索してみましょう。同様のエラーで苦しんだ人が必ずいるはずです。"
      ],
      "metadata": {
        "id": "E-xK1JpDnSOT"
      }
    },
    {
      "cell_type": "markdown",
      "source": [
        "# 1.Python文法 I"
      ],
      "metadata": {
        "id": "kaY17pI-Lj0K"
      }
    },
    {
      "cell_type": "markdown",
      "source": [
        "## 1.1.演算子"
      ],
      "metadata": {
        "id": "Ul713RAJNQzu"
      }
    },
    {
      "cell_type": "markdown",
      "source": [
        "### 1.1.1.算術演算子"
      ],
      "metadata": {
        "id": "ZQFnR-QrT2NQ"
      }
    },
    {
      "cell_type": "markdown",
      "source": [
        "プログラミングでは、計算処理を指示する**演算子**によって新たな値に評価されます。特に、足し算や引き算などの算術演算子は、数学のように数値間に置いて計算します。Pythonでは、足し算や引き算は数学の記号と共通しますが、掛け算や割り算、べき乗は特有の記号となります。"
      ],
      "metadata": {
        "id": "wg-lASByOxLz"
      }
    },
    {
      "cell_type": "code",
      "source": [
        "# 足し算\n",
        "print(2 + 3)"
      ],
      "metadata": {
        "id": "fVJ-sEFtOvT4"
      },
      "execution_count": null,
      "outputs": []
    },
    {
      "cell_type": "code",
      "source": [
        "# 引き算\n",
        "print(10 - 2)"
      ],
      "metadata": {
        "id": "_MWElYsCO05s"
      },
      "execution_count": null,
      "outputs": []
    },
    {
      "cell_type": "code",
      "source": [
        "# 掛け算\n",
        "print(3 * 2)"
      ],
      "metadata": {
        "id": "zkHkngJ_O3Ye"
      },
      "execution_count": null,
      "outputs": []
    },
    {
      "cell_type": "code",
      "source": [
        "# 割り算\n",
        "print(3 / 2)"
      ],
      "metadata": {
        "id": "ofIOKV25Pp8e"
      },
      "execution_count": null,
      "outputs": []
    },
    {
      "cell_type": "code",
      "source": [
        "# 割り算（整数部）\n",
        "print(5//2)"
      ],
      "metadata": {
        "id": "JaHodWYTPycC"
      },
      "execution_count": null,
      "outputs": []
    },
    {
      "cell_type": "code",
      "source": [
        "# 割り算（余り部）\n",
        "print(5 % 2)"
      ],
      "metadata": {
        "id": "vw3RAtmVQMKc"
      },
      "execution_count": null,
      "outputs": []
    },
    {
      "cell_type": "code",
      "source": [
        "# べき乗\n",
        "print(10 ** 3)"
      ],
      "metadata": {
        "id": "fGQrQl3BQcFo"
      },
      "execution_count": null,
      "outputs": []
    },
    {
      "cell_type": "markdown",
      "source": [
        "### 1.1.2. 算術演算子の優先度"
      ],
      "metadata": {
        "id": "oe2VdUgeUD7L"
      }
    },
    {
      "cell_type": "markdown",
      "source": [
        "演算子が複数ある場合、優先度の高い演算子順に評価されます。算術演算子の優先度は、べき乗 > 掛け算・割り算 > 足し算・引き算の順となっており、数学のように足し算より掛け算の優先度が高く、「()」により優先度が変更できます。"
      ],
      "metadata": {
        "id": "JFin85KrPpqS"
      }
    },
    {
      "cell_type": "code",
      "source": [
        "# 優先度：掛け算＞足し算\n",
        "print(1 + 2 * 3)"
      ],
      "metadata": {
        "id": "zo4CgegxQ4DR"
      },
      "execution_count": null,
      "outputs": []
    },
    {
      "cell_type": "code",
      "source": [
        "# 優先度：かっこ内の足し算＞掛け算\n",
        "print((1 + 2) * 3)"
      ],
      "metadata": {
        "id": "u3vcJgJiRTJt"
      },
      "execution_count": null,
      "outputs": []
    },
    {
      "cell_type": "code",
      "source": [
        "# 優先度：べき乗＞掛け算\n",
        "print(2 * 2 ** 3)"
      ],
      "metadata": {
        "id": "Zshe0KPdQ-P3"
      },
      "execution_count": null,
      "outputs": []
    },
    {
      "cell_type": "markdown",
      "metadata": {
        "id": "7TGjC-SzQ-YK"
      },
      "source": [
        "## 1.2.変数"
      ]
    },
    {
      "cell_type": "markdown",
      "metadata": {
        "id": "9sWKqfMNQ-YK"
      },
      "source": [
        "次に**変数**について説明します。変数とは、式の計算結果を保存しておく箱のようなものです。\n",
        "\n",
        "変数に値を保存することを**代入**と言い、その値を取り出して利用することを**参照**と言います。数字だけでなく、様々なデータ型の値を代入できます。(※3.データ型)\n",
        "\n",
        "下の例では**変数名**が`x`である変数を使っています。\n",
        "\n",
        "プログラミング言語において`=`は「等しい」という意味ではなく、右辺の値を左辺に「代入する」という意味で使います。"
      ]
    },
    {
      "cell_type": "code",
      "execution_count": null,
      "metadata": {
        "id": "_aGMIZ1WQ-YK"
      },
      "outputs": [],
      "source": [
        "# xに1を代入し、xを参照する\n",
        "x = 1\n",
        "print(x)"
      ]
    },
    {
      "cell_type": "code",
      "source": [
        "word = \"Hello\"\n",
        "print(word)"
      ],
      "metadata": {
        "id": "49t74M46I5uq"
      },
      "execution_count": null,
      "outputs": []
    },
    {
      "cell_type": "markdown",
      "metadata": {
        "id": "YoWlbFPsQ-YK"
      },
      "source": [
        "一度保存した値は何度でも利用することができ、上書きされるまで残り続けます。変数の値を上書きすることを**再代入**といいます。再代入のときも代入と同様に書くことができます。\n",
        "自分自身を使って再代入することも可能です。"
      ]
    },
    {
      "cell_type": "code",
      "execution_count": null,
      "metadata": {
        "id": "lFsr3_WjQ-YL",
        "collapsed": true
      },
      "outputs": [],
      "source": [
        "# xに2を再代入する\n",
        "x = 1\n",
        "print(x)\n",
        "x = 2\n",
        "print(x)"
      ]
    },
    {
      "cell_type": "code",
      "execution_count": null,
      "metadata": {
        "id": "biXQapk9Q-YL"
      },
      "outputs": [],
      "source": [
        "# x+2をxに再代入する\n",
        "x = 1\n",
        "print(x)\n",
        "x = x + 2\n",
        "print(x)"
      ]
    },
    {
      "cell_type": "markdown",
      "metadata": {
        "id": "iKzYdJiyQ-YL"
      },
      "source": [
        "直前の例の2行目について説明します。ここではまず右辺の`x+2`を計算し、そしてその結果を左辺の`x`に代入する、という処理を行います。右辺の計算をする時点で`x`の値は1なので、右辺の計算結果が3となり、左辺の`x`に3が代入されます。つまり、自分自身に2を足していると解釈できます。このように、変数の値を更新しながら計算を進めていくというのはよくあることです。"
      ]
    },
    {
      "cell_type": "markdown",
      "source": [
        "## 1.3.データ型"
      ],
      "metadata": {
        "id": "vEfhTDBFWlQa"
      }
    },
    {
      "cell_type": "markdown",
      "source": [
        "プログラムで扱う値の種類を**データ型**と言います。主なデータ型には、int型(整数)とfloat型(小数)、str型(文字列)、bool型(真偽値)などがあります。変数に代入した値のデータ型は、type関数で調べられます。type関数では、かっこ内に変数を入力すると変数のデータ型が出力されます。\n"
      ],
      "metadata": {
        "id": "LFdtwV5DWtEY"
      }
    },
    {
      "cell_type": "markdown",
      "source": [
        "### 1.3.1. int型（整数）とfloat型（小数）\n",
        "\n",
        "数値を扱えるのがint型とfloat型です。数値に小数点を入れて代入するとfloat型となります。\n",
        "\n",
        "int型とfloat型の演算やint型同士の割り算では、出力がfloat型になります。"
      ],
      "metadata": {
        "id": "XQMISR-67Qz7"
      }
    },
    {
      "cell_type": "code",
      "source": [
        "# int型（整数）\n",
        "num = 1\n",
        "print(type(num))"
      ],
      "metadata": {
        "id": "0J_FQBulvLAz"
      },
      "execution_count": null,
      "outputs": []
    },
    {
      "cell_type": "code",
      "source": [
        "# float型（小数）\n",
        "num = 1.0\n",
        "print(type(num))"
      ],
      "metadata": {
        "id": "K4CgvTt5vK4v"
      },
      "execution_count": null,
      "outputs": []
    },
    {
      "cell_type": "code",
      "source": [
        "#int型とfloat型の演算 -> float型\n",
        "num = 1 + 1.0\n",
        "print(type(num))"
      ],
      "metadata": {
        "id": "uZxY5absvKoQ"
      },
      "execution_count": null,
      "outputs": []
    },
    {
      "cell_type": "code",
      "source": [
        "#int型同士の割り算\n",
        "num = 1 / 1\n",
        "print(type(num))\n",
        "print(num)"
      ],
      "metadata": {
        "id": "nbcZ7h8v7dGH"
      },
      "execution_count": null,
      "outputs": []
    },
    {
      "cell_type": "markdown",
      "source": [
        "### 1.3.2. str型（文字列）"
      ],
      "metadata": {
        "id": "2UuVEtnU7OV4"
      }
    },
    {
      "cell_type": "markdown",
      "source": [
        "str型は、文字列を扱うデータ型です。str型は、変数へ代入時にシングルクオーテーション「''」、または、ダブルクォーテーション「\"\"」で囲むことでstr型となります。数値の足し算の演算子をstr型に適用すると文字列の結合となります。また、文字列の長さを調べるのにlen関数が利用できます。"
      ],
      "metadata": {
        "id": "X_JRU5DW-WWM"
      }
    },
    {
      "cell_type": "code",
      "source": [
        "#文字列の代入\n",
        "string = 'Python'\n",
        "print(type(string))\n",
        "print(string)"
      ],
      "metadata": {
        "id": "J-14BOd_8as1"
      },
      "execution_count": null,
      "outputs": []
    },
    {
      "cell_type": "code",
      "source": [
        "# 文字列の結合\n",
        "str1 = 'Hello'\n",
        "str2 = 'World'\n",
        "print(str1+\",\"+str2)  #カンマを間に入れる"
      ],
      "metadata": {
        "id": "L7HlrwErSrZB"
      },
      "execution_count": null,
      "outputs": []
    },
    {
      "cell_type": "code",
      "source": [
        "# 文字列の長さ\n",
        "string = 'Python'\n",
        "print(len(string))"
      ],
      "metadata": {
        "id": "o3fEs9IlSrOF"
      },
      "execution_count": null,
      "outputs": []
    },
    {
      "cell_type": "code",
      "source": [
        "# 繰り返し\n",
        "text = \"Hello \"\n",
        "repeated = text * 3\n",
        "print(repeated)"
      ],
      "metadata": {
        "id": "3sMEf2PgT1cR"
      },
      "execution_count": null,
      "outputs": []
    },
    {
      "cell_type": "code",
      "source": [
        "# 最初の文字を取り出す\n",
        "text = \"Apple\"\n",
        "part = text[0]  # 0番目\n",
        "print(part)"
      ],
      "metadata": {
        "id": "QNJHAL9wTIak"
      },
      "execution_count": null,
      "outputs": []
    },
    {
      "cell_type": "markdown",
      "source": [
        "| 文字列の要素 | A | p | p | l | e |\n",
        "|--------------|---|---|---|---|---|\n",
        "| インデックス | 0 | 1 | 2 | 3 | 4 |"
      ],
      "metadata": {
        "id": "4-UYw0m16Whd"
      }
    },
    {
      "cell_type": "code",
      "source": [
        "# 最後の文字を取り出す\n",
        "text = \"Apple\"\n",
        "part = text[-1]  # インデックスを-1にする\n",
        "print(part)"
      ],
      "metadata": {
        "id": "OJpY9qMLTLxb"
      },
      "execution_count": null,
      "outputs": []
    },
    {
      "cell_type": "markdown",
      "source": [
        "| 文字列の要素 | A | p | p | l | e |\n",
        "|--------------|---|---|---|---|---|\n",
        "| インデックス | -5 | -4 | -3 | -2 | -1 |"
      ],
      "metadata": {
        "id": "qsJH1xGM6tEm"
      }
    },
    {
      "cell_type": "code",
      "source": [
        "# 文字列の部分取り出し\n",
        "text = \"Apple\"\n",
        "part = text[0:3]  # 0番目から2番目まで（3,4番目は含まれない）\n",
        "print(part)"
      ],
      "metadata": {
        "id": "Oemc0B4YTCT9"
      },
      "execution_count": null,
      "outputs": []
    },
    {
      "cell_type": "markdown",
      "source": [
        "| 文字列の要素 | *A* | *p* | *p* | l | e |\n",
        "|--------------|---|---|---|---|---|\n",
        "| インデックス | *0* | *1* | *2* | 3 | 4 |"
      ],
      "metadata": {
        "id": "2Zz7Ne487BH9"
      }
    },
    {
      "cell_type": "code",
      "source": [
        "# f文字列\n",
        "name = \"Matsuo\"\n",
        "age = 25\n",
        "message = f\"My name is {name} and I am {age} years old.\"   # {}で囲った変数を埋め込むことができる\n",
        "print(message)"
      ],
      "metadata": {
        "id": "uOLSm9BJfLWP"
      },
      "execution_count": null,
      "outputs": []
    },
    {
      "cell_type": "markdown",
      "source": [
        "### 1.3.3. bool型\n",
        "\n",
        "bool型には、TrueとFalseの2つがあり、真偽値と言います。bool型は「はい」と「いいえ」のような2値で条件確認に利用できます。"
      ],
      "metadata": {
        "id": "y3qGpLdg8Zap"
      }
    },
    {
      "cell_type": "code",
      "source": [
        "yes = True\n",
        "print(type(yes))\n",
        "\n",
        "no = False\n",
        "print(type(no))"
      ],
      "metadata": {
        "id": "5UqSloLD8euf"
      },
      "execution_count": null,
      "outputs": []
    },
    {
      "cell_type": "markdown",
      "source": [
        "### 1.3.4. 型変換\n",
        "\n",
        "変数に代入した値のデータ型を変えることを**型変換**と言います。int型への型変換はint関数が用意されています。そのほかにもfloat関数やstr関数、bool関数などがあります。\n",
        "\n",
        "int関数にfloat型を入力すると小数点以下が切り捨てられ整数部のみが出力されます。また、'abc'などの文字をintやfloat関数に入力するとエラーとなるため注意が必要です。"
      ],
      "metadata": {
        "id": "S0Vn0M7e7qt5"
      }
    },
    {
      "cell_type": "code",
      "source": [
        "# str型\n",
        "x = '3.14'  # 数値でなく文字列\n",
        "print(x)\n",
        "print(type(x))"
      ],
      "metadata": {
        "id": "wFVwyabEi-Cl"
      },
      "execution_count": null,
      "outputs": []
    },
    {
      "cell_type": "code",
      "source": [
        "# str型->float型への型変換\n",
        "y = float(x)\n",
        "print(y)\n",
        "print(type(y))"
      ],
      "metadata": {
        "id": "CeY6x4Qzy6R9"
      },
      "execution_count": null,
      "outputs": []
    },
    {
      "cell_type": "code",
      "source": [
        "# float型->int型への型変換\n",
        "z = int(y)\n",
        "print(z)\n",
        "print(type(z))"
      ],
      "metadata": {
        "id": "yOkr59Mjy6qA"
      },
      "execution_count": null,
      "outputs": []
    },
    {
      "cell_type": "markdown",
      "source": [
        "応用的な利用方法にbool型の数値への変換があります。TrueとFalseを数値に変換するとそれぞれ1と0になり、逆に0と0以外の数値をbool型に変換するとそれぞれFalseとTrueとなります。"
      ],
      "metadata": {
        "id": "RCMugELwkTYS"
      }
    },
    {
      "cell_type": "code",
      "source": [
        "# boolからintへの変換\n",
        "# True  ->  int()   -> 1\n",
        "x = True\n",
        "print(int(x))"
      ],
      "metadata": {
        "id": "IVKl-kjwkWZo"
      },
      "execution_count": null,
      "outputs": []
    },
    {
      "cell_type": "code",
      "source": [
        "# boolからintへの変換\n",
        "# False ->  int()   -> 0\n",
        "x = False\n",
        "print(int(x))"
      ],
      "metadata": {
        "id": "bzxJeo3qzt0o"
      },
      "execution_count": null,
      "outputs": []
    },
    {
      "cell_type": "code",
      "source": [
        "# intからboolへの変換\n",
        "# 2 ->  bool()  -> True\n",
        "print(bool(2))"
      ],
      "metadata": {
        "id": "PH5jNKJnzuke"
      },
      "execution_count": null,
      "outputs": []
    },
    {
      "cell_type": "code",
      "source": [
        "# intからboolへの変換\n",
        "# 0.0 ->  bool()  -> False\n",
        "print(bool(0.0))"
      ],
      "metadata": {
        "id": "RGgNzzSyzuVm"
      },
      "execution_count": null,
      "outputs": []
    },
    {
      "cell_type": "code",
      "source": [
        "# 変数numは、奇数か（2で割り切れない）か？　->　Trueなら奇数、Falseなら偶数。\n",
        "x = 5\n",
        "is_odd = bool(x % 2) #余りが０でないので、boolに変換するとTrue\n",
        "print(is_odd)"
      ],
      "metadata": {
        "id": "HPMoSpTYkdIk"
      },
      "execution_count": null,
      "outputs": []
    },
    {
      "cell_type": "markdown",
      "source": [
        "## 1.4 練習問題"
      ],
      "metadata": {
        "id": "cs0ZJFp8SpAi"
      }
    },
    {
      "cell_type": "markdown",
      "source": [
        "### 1.4.1 練習問題1\n",
        "好きな文字列を出力するプログラムを書いてください。\n",
        "\n"
      ],
      "metadata": {
        "id": "ffpMfZRwTeBK"
      }
    },
    {
      "cell_type": "code",
      "source": [],
      "metadata": {
        "id": "FA8VSmAiT6VT"
      },
      "execution_count": null,
      "outputs": []
    },
    {
      "cell_type": "markdown",
      "source": [
        "#### 解答例"
      ],
      "metadata": {
        "id": "yAKAsHrYcI2K"
      }
    },
    {
      "cell_type": "markdown",
      "source": [
        "例: x=\"こんにちは\"、y = \"松尾さん\"のときにx+yをprintする"
      ],
      "metadata": {
        "id": "0FvVJgTYEfOk"
      }
    },
    {
      "cell_type": "code",
      "source": [
        "x=\"こんにちは\"\n",
        "y = \"松尾さん\"\n",
        "print(x+y)"
      ],
      "metadata": {
        "id": "AWSwY05XExmH"
      },
      "execution_count": null,
      "outputs": []
    },
    {
      "cell_type": "markdown",
      "source": [
        "### 1.4.2 練習問題2\n",
        "代数演算子(+, -, \\*, /, %、\\**, //)を使った好きな演算をするプログラムを，1つ以上書いてください。"
      ],
      "metadata": {
        "id": "FOxNdKusT3aI"
      }
    },
    {
      "cell_type": "code",
      "source": [],
      "metadata": {
        "id": "ggnbeXo6T68z"
      },
      "execution_count": null,
      "outputs": []
    },
    {
      "cell_type": "markdown",
      "source": [
        "#### 解答例"
      ],
      "metadata": {
        "id": "stxCY4_yeUVf"
      }
    },
    {
      "cell_type": "code",
      "source": [
        "print(1-2)\n",
        "print(1*2)\n",
        "print(1/2)\n",
        "print(1%2)"
      ],
      "metadata": {
        "id": "gYsQcHzUe0Ik"
      },
      "execution_count": null,
      "outputs": []
    },
    {
      "cell_type": "code",
      "source": [
        "x = 1//2\n",
        "print(x)"
      ],
      "metadata": {
        "id": "cQEzWb6Le1Pg"
      },
      "execution_count": null,
      "outputs": []
    },
    {
      "cell_type": "markdown",
      "source": [
        "例：x = 2000円のとき、消費税10%を合わせた税込み金額を計算する"
      ],
      "metadata": {
        "id": "DciJwR38FIXG"
      }
    },
    {
      "cell_type": "code",
      "source": [
        "x = 2000\n",
        "print(x*(1 + 10/100))"
      ],
      "metadata": {
        "id": "acrWay33FUad"
      },
      "execution_count": null,
      "outputs": []
    },
    {
      "cell_type": "markdown",
      "source": [
        "### 1.4.3 練習問題3\n",
        "変数`x`に整数が格納されているとします。`x`が偶数ならば0、奇数ならば1を表示(print)するプログラムを作成してください。"
      ],
      "metadata": {
        "id": "tR9ziuZ-SwnM"
      }
    },
    {
      "cell_type": "code",
      "source": [],
      "metadata": {
        "id": "MG91oIwlfrM3"
      },
      "execution_count": null,
      "outputs": []
    },
    {
      "cell_type": "markdown",
      "source": [
        "#### 解答例"
      ],
      "metadata": {
        "id": "ynP9FFX5fsIp"
      }
    },
    {
      "cell_type": "code",
      "source": [
        "# 入力例１ 奇数\n",
        "x = 1"
      ],
      "metadata": {
        "id": "lG62hTo4fVqI"
      },
      "execution_count": null,
      "outputs": []
    },
    {
      "cell_type": "code",
      "source": [
        "print(x%2) # 2で割った余り"
      ],
      "metadata": {
        "id": "FMh2VQ3Pef7g"
      },
      "execution_count": null,
      "outputs": []
    },
    {
      "cell_type": "code",
      "source": [
        "# 入力例２ 偶数\n",
        "x = 2\n",
        "print(x%2)"
      ],
      "metadata": {
        "id": "tEOPJeeBfcaz"
      },
      "execution_count": null,
      "outputs": []
    },
    {
      "cell_type": "markdown",
      "source": [
        "### 1.4.4 練習問題4\n",
        "身長height、体重weightからBMIを計算するプログラムを作成してください。\n",
        "BMI = 体重(kg)/ 身長(m)の2乗"
      ],
      "metadata": {
        "id": "3-Wy5D9K0tkB"
      }
    },
    {
      "cell_type": "code",
      "source": [
        "# 入力例\n",
        "weight = 50 # kg\n",
        "height = 165 # cm\n",
        "\n",
        "bmi = # write me\n",
        "print(bmi)"
      ],
      "metadata": {
        "id": "dNipaCgS1swK"
      },
      "execution_count": null,
      "outputs": []
    },
    {
      "cell_type": "markdown",
      "source": [
        "#### 解答例"
      ],
      "metadata": {
        "id": "hl_PX3_0f9_K"
      }
    },
    {
      "cell_type": "code",
      "source": [
        "weight = 50 # kg\n",
        "height = 165 # cm\n",
        "bmi = weight / ((height / 100) ** 2) # 体重/ 身長の2乗\n",
        "print(bmi)"
      ],
      "metadata": {
        "id": "JF0I8PX7gBXY"
      },
      "execution_count": null,
      "outputs": []
    },
    {
      "cell_type": "markdown",
      "source": [
        "# 補足事項：変数名の決め方"
      ],
      "metadata": {
        "id": "cf1Qx1S50Ffs"
      }
    },
    {
      "cell_type": "markdown",
      "source": [
        "変数名の決め方は自由ですが、基本的に英数字と_（アンダーバー）で構成するのが一般的です。aやbだけの文字にもできますが、意味のある文字列にする方が自身や他者にとっても変数の中身を理解しやすくなります。しかし、一部使用できない変数名があるので注意が必要です。例えば、変数名の最初には数値を使用できません。また、予約語と呼ばれるプログラムに事前に用意されている単語（例：class、if、forなど）は使用できません。変数名にできない例を以下に示します。下記のような変数名で実行するとエラーとなります。"
      ],
      "metadata": {
        "id": "RfQppwlRsE4k"
      }
    },
    {
      "cell_type": "code",
      "source": [
        "'''\n",
        "※変数名にできない例※\n",
        "'''\n",
        "# 変数名の頭文字が数値\n",
        "2024_data = 1000"
      ],
      "metadata": {
        "id": "I11omZxR1hmZ"
      },
      "execution_count": null,
      "outputs": []
    },
    {
      "cell_type": "code",
      "source": [
        "# 変数名に予約語を使用\n",
        "class = 'A'"
      ],
      "metadata": {
        "id": "yY8Ck6em1p66"
      },
      "execution_count": null,
      "outputs": []
    },
    {
      "cell_type": "markdown",
      "source": [
        "なお、予約語は次のコードを実行すると確認できます。"
      ],
      "metadata": {
        "id": "ufAKZ65fztW2"
      }
    },
    {
      "cell_type": "code",
      "source": [
        "import keyword\n",
        "print(keyword.kwlist)"
      ],
      "metadata": {
        "id": "FF4cbyILu2gn"
      },
      "execution_count": null,
      "outputs": []
    },
    {
      "cell_type": "markdown",
      "source": [
        "# 2.Python文法II\n"
      ],
      "metadata": {
        "id": "MT-LXQVuiqk2"
      }
    },
    {
      "cell_type": "markdown",
      "source": [
        "## 2.1. コレクション\n"
      ],
      "metadata": {
        "id": "if3SR428FJHD"
      }
    },
    {
      "cell_type": "markdown",
      "source": [
        "これまでの変数では、変数名と値を1対1で定義しました。一方、Pythonには1つの変数に**値をまとめて管理できるコレクション**と呼ばれるものが用意されています。コレクションには値を順番に管理するリストやタプル、キーワードで管理する辞書などがあります。"
      ],
      "metadata": {
        "id": "8KCiPq4WFWRU"
      }
    },
    {
      "cell_type": "markdown",
      "source": [
        "## 2.2. リスト\n"
      ],
      "metadata": {
        "id": "3WkHajCZGgM-"
      }
    },
    {
      "cell_type": "markdown",
      "source": [
        "**リストは、値を順番に管理できる**データ型です。角かっこ[ ]を使って値をカンマ(，)で挟んで並べることで変数に代入できます。要素には文字列や数値などのデータ型も利用できます。"
      ],
      "metadata": {
        "id": "hrQ9NBUBEO63"
      }
    },
    {
      "cell_type": "code",
      "source": [
        "#文字列リストの代入\n",
        "menu = ['salad', 'soup', 'steak', 'cake']"
      ],
      "metadata": {
        "id": "vigZZu7IINKd"
      },
      "execution_count": null,
      "outputs": []
    },
    {
      "cell_type": "markdown",
      "source": [
        "リストの各**値を要素**、要素の**順番をインデックス**と呼びます。インデックスは、最初の要素番号を0とし、順に1,2,3と増えます。最後の要素番号から数えることもでき、-1, -2, -3と最初の要素まで数えます。リストの変数名の後ろの角かっこに**インデックスを指定して要素の抽出や置換**が可能です。"
      ],
      "metadata": {
        "id": "5MjcOlQRIiU-"
      }
    },
    {
      "cell_type": "code",
      "source": [
        "#リストの2番目の要素の抽出\n",
        "print(menu[1])"
      ],
      "metadata": {
        "id": "1BiJTwpWIGcv"
      },
      "execution_count": null,
      "outputs": []
    },
    {
      "cell_type": "code",
      "source": [
        "#リストの最後の要素を置換\n",
        "menu[-1] = 'pudding'\n",
        "print(menu)"
      ],
      "metadata": {
        "id": "WvK1WmgNtnY_"
      },
      "execution_count": null,
      "outputs": []
    },
    {
      "cell_type": "markdown",
      "source": [
        "リストからインデックスの範囲を指定して**リストの切り出し（スライス）**が可能です。要素の抽出のようにリストの変数名のうしろに角かっこを使い、コロン（：）の左側に始点となるインデックス、右側に終点となるインデックスを記入します。この際、始点はスライス内に含まれますが、終点は含まれません。例えば、スライス表記の[x:y]はx以上y未満を表します。xやyを省略した場合は残る範囲まで選択されます。\n",
        "\n"
      ],
      "metadata": {
        "id": "h10cLiMGLA5H"
      }
    },
    {
      "cell_type": "code",
      "source": [
        "#数値リストの代入\n",
        "numbers = [10,20,30,40,50]"
      ],
      "metadata": {
        "id": "61EdSX84FFDT"
      },
      "execution_count": null,
      "outputs": []
    },
    {
      "cell_type": "markdown",
      "source": [
        "| リストの要素 | 10 | 20 | 30 | 40 | 50 |\n",
        "|--------------|---|---|---|---|---|\n",
        "| インデックス | 0 | 1 | 2 | 3 | 4 |"
      ],
      "metadata": {
        "id": "lNg-6zboJfJ9"
      }
    },
    {
      "cell_type": "code",
      "source": [
        "#スライス表記の例\n",
        "print(numbers[0:2])"
      ],
      "metadata": {
        "id": "li5so6GZJnhl"
      },
      "execution_count": null,
      "outputs": []
    },
    {
      "cell_type": "code",
      "source": [
        "#始点と終点を指定したスライス\n",
        "print(numbers[1:3])"
      ],
      "metadata": {
        "id": "DIJhKWkuIILV"
      },
      "execution_count": null,
      "outputs": []
    },
    {
      "cell_type": "code",
      "source": [
        "#先頭だけ指定したスライス\n",
        "print(numbers[2:])"
      ],
      "metadata": {
        "id": "r2y7_6S0YGAU"
      },
      "execution_count": null,
      "outputs": []
    },
    {
      "cell_type": "markdown",
      "source": [
        "| リストの要素 | 10 | 20 | 30 | 40 | 50 |\n",
        "|--------------|---|---|---|---|---|\n",
        "| インデックス | -5 | -4 | -3 | -2 | -1 |"
      ],
      "metadata": {
        "id": "4lhBPmZoYUIj"
      }
    },
    {
      "cell_type": "code",
      "source": [
        "#始点と終点を指定したスライス\n",
        "print(numbers[-4:-2])"
      ],
      "metadata": {
        "id": "W1v0sj1bYXxz"
      },
      "execution_count": null,
      "outputs": []
    },
    {
      "cell_type": "code",
      "source": [
        "#終点だけ指定したスライス\n",
        "print(numbers[:-1])"
      ],
      "metadata": {
        "id": "y8ro6-GjIIEg"
      },
      "execution_count": null,
      "outputs": []
    },
    {
      "cell_type": "code",
      "source": [
        "#インデックスを指定しないスライス（全ての要素）\n",
        "print(numbers[:])"
      ],
      "metadata": {
        "id": "FGTEMq3xIIBo"
      },
      "execution_count": null,
      "outputs": []
    },
    {
      "cell_type": "markdown",
      "source": [
        "リストを変数名に代入した後に、リストの要素の追加や削除をしたい場合、リストの変数名の後ろに.(ドット）を付けてそれぞれ**append(末尾追加要素)**や**remove(削除要素)**を使います。なお、removeで削除される要素がリスト内に重複する場合、該当する最初の要素が削除されます。"
      ],
      "metadata": {
        "id": "XesLEJthNqh4"
      }
    },
    {
      "cell_type": "code",
      "source": [
        "#リストの代入\n",
        "menu = ['salad', 'soup', 'steak', 'cake']"
      ],
      "metadata": {
        "id": "zBy25_cnE11Y"
      },
      "execution_count": null,
      "outputs": []
    },
    {
      "cell_type": "code",
      "source": [
        "#要素の追加\n",
        "menu.append('pudding')\n",
        "print(menu)"
      ],
      "metadata": {
        "id": "A1DXHqm6tyf-"
      },
      "execution_count": null,
      "outputs": []
    },
    {
      "cell_type": "code",
      "source": [
        "#要素の削除\n",
        "menu.remove('soup')\n",
        "print(menu)"
      ],
      "metadata": {
        "id": "n1-C8Lp6t0cI"
      },
      "execution_count": null,
      "outputs": []
    },
    {
      "cell_type": "markdown",
      "source": [
        "Pythonでは、リストの数値計算に便利な関数が用意されています。Pythonに用意されている関数では関数名の後ろのかっこに値を入れて計算できます。len()のlenは、length（長さ）の略であり、他のデータ型でもよく用います。\n"
      ],
      "metadata": {
        "id": "cOGj9UaaQCxX"
      }
    },
    {
      "cell_type": "code",
      "source": [
        "#数値リストの代入\n",
        "score = [40, 60, 80]"
      ],
      "metadata": {
        "id": "S8r-QKeYQCXF"
      },
      "execution_count": null,
      "outputs": []
    },
    {
      "cell_type": "code",
      "source": [
        "#数値リストの要素数を出力\n",
        "print(len(score))"
      ],
      "metadata": {
        "id": "98JqjKRaNw0r"
      },
      "execution_count": null,
      "outputs": []
    },
    {
      "cell_type": "code",
      "source": [
        "#数値リストの合計値を出力\n",
        "print(sum(score))"
      ],
      "metadata": {
        "id": "Ktuj-S2DNvfH"
      },
      "execution_count": null,
      "outputs": []
    },
    {
      "cell_type": "code",
      "source": [
        "#数値リストの平均値を出力\n",
        "print(sum(score)/len(score))"
      ],
      "metadata": {
        "id": "6F--2Fo2NvTK"
      },
      "execution_count": null,
      "outputs": []
    },
    {
      "cell_type": "code",
      "source": [
        "#数値リストの最大値を出力\n",
        "print(max(score))"
      ],
      "metadata": {
        "id": "rgyNdt_LNvIf"
      },
      "execution_count": null,
      "outputs": []
    },
    {
      "cell_type": "code",
      "source": [
        "#数値リストの最小値を出力\n",
        "print(min(score))"
      ],
      "metadata": {
        "id": "pPoDxmDn0Byn"
      },
      "execution_count": null,
      "outputs": []
    },
    {
      "cell_type": "markdown",
      "source": [
        "リストは、2重の角かっこを使って2次元の表データも管理できます。行や列番号を指定して要素やリストを抽出できます。なお、3つ以上の多次元のリストも作成可能です。\n"
      ],
      "metadata": {
        "id": "cQPlIVtMRyDl"
      }
    },
    {
      "cell_type": "code",
      "execution_count": null,
      "metadata": {
        "id": "oIigoywLClp8"
      },
      "outputs": [],
      "source": [
        "#2次元リストの代入\n",
        "table = [['24/3', '24/4', '24/5'], [80, 100, 90], [50, 60, 70]]"
      ]
    },
    {
      "cell_type": "markdown",
      "source": [
        "| 日付   | 24/3 | 24/4 | 24/5 |\n",
        "|--------|------|------|------|\n",
        "| 国語   | 80   | 100  | 90   |\n",
        "| 数学   | 50   | 60  | 70   |"
      ],
      "metadata": {
        "id": "bmiKMUPLuwBw"
      }
    },
    {
      "cell_type": "code",
      "source": [
        "# 2つ目の日付を表示したい例\n",
        "# 0行1列の要素を抽出\n",
        "print(table[0][1])"
      ],
      "metadata": {
        "id": "Cf6DdMEpupag"
      },
      "execution_count": null,
      "outputs": []
    },
    {
      "cell_type": "code",
      "source": [
        "# 24/4の数学の点数を表示したい例\n",
        "# 2行1列の要素を抽出\n",
        "print(table[2][1])"
      ],
      "metadata": {
        "id": "Si-vuCdyupNc"
      },
      "execution_count": null,
      "outputs": []
    },
    {
      "cell_type": "markdown",
      "metadata": {
        "id": "PrRSCZ8pQ-YU"
      },
      "source": [
        "## 2.3.tuple型(タプル)"
      ]
    },
    {
      "cell_type": "markdown",
      "metadata": {
        "id": "y5ElLedjQ-YU"
      },
      "source": [
        "タプルもリスト同様複数の要素を集めたもので、他のプログラミング言語では**組**と呼ばれています。\n",
        "\n",
        "Pythonでは`(要素, 要素, ...)`という形式でデータを保持します。\n",
        "\n",
        "\n"
      ]
    },
    {
      "cell_type": "code",
      "execution_count": null,
      "metadata": {
        "id": "Joe1d6SQQ-YU"
      },
      "outputs": [],
      "source": [
        "# タプル\n",
        "x = (1, 2, 3)\n",
        "print(x)"
      ]
    },
    {
      "cell_type": "markdown",
      "metadata": {
        "id": "m92-pjaAQ-YU"
      },
      "source": [
        "リストが**同じ種類のデータをまとめる**のに対して、タプルは**異なる種類のデータをまとめる**ことが多いです。データの構造が似ているため、リストと同じような操作を行うことができますが、微妙に異なる部分もあります。以下ではリストとの共通点と相違点を比較しながらタプルを学んでいきます。"
      ]
    },
    {
      "cell_type": "markdown",
      "metadata": {
        "id": "sSwAGJX8Q-YV"
      },
      "source": [
        "タプルではリスト同様に、インデックスを用いて要素にアクセスすることができます。\n",
        "\n",
        "| タプルの要素 | 松尾 | 35 | '東京都新宿区' |\n",
        "|--------------|---|---|---|\n",
        "| インデックス | 0 | 1 | 2 |"
      ]
    },
    {
      "cell_type": "code",
      "source": [
        "meishi = ('松尾', 35, '東京都新宿区')"
      ],
      "metadata": {
        "id": "YiVYtkT5eGLm"
      },
      "execution_count": null,
      "outputs": []
    },
    {
      "cell_type": "code",
      "execution_count": null,
      "metadata": {
        "id": "kfA4FaxwQ-YV"
      },
      "outputs": [],
      "source": [
        "# 要素の参照\n",
        "print(meishi[0])"
      ]
    },
    {
      "cell_type": "code",
      "execution_count": null,
      "metadata": {
        "id": "IMwgD7fSQ-YV"
      },
      "outputs": [],
      "source": [
        "# スライス(参照)\n",
        "print(meishi[0:2])"
      ]
    },
    {
      "cell_type": "markdown",
      "metadata": {
        "id": "Qsfi87D5Q-YV"
      },
      "source": [
        "しかし、タプルに要素を代入することはできません。リストとは異なり、一度定義すると、要素を追加したり削除したりするなどの内容の変更が認められていません。リストは変更可能である(**mutable**である)のに対し、タプルは変更不能である(**immutable**である)ことに注意しましょう。"
      ]
    },
    {
      "cell_type": "code",
      "source": [
        "#以下のコードはTypeErrorを発生させます。\n",
        "meishi[1] = 3.0"
      ],
      "metadata": {
        "id": "UpJ9KJczB6Pk"
      },
      "execution_count": null,
      "outputs": []
    },
    {
      "cell_type": "markdown",
      "metadata": {
        "id": "eS04vn8XQ-YV"
      },
      "source": [
        "実はタプルを生成するのに丸括弧を省略することができます。よって下の2つの例は同じコードとみなすことができます。"
      ]
    },
    {
      "cell_type": "code",
      "execution_count": null,
      "metadata": {
        "id": "Thd1ZVCvQ-YV"
      },
      "outputs": [],
      "source": [
        "# 例1 丸括弧を使う例\n",
        "x = (1, 2.0, '3')\n",
        "print(x)"
      ]
    },
    {
      "cell_type": "code",
      "execution_count": null,
      "metadata": {
        "id": "i4F3wdS-Q-YV"
      },
      "outputs": [],
      "source": [
        "# 例2 丸括弧を省略\n",
        "x = 1, 2.0, '3'\n",
        "print(x)"
      ]
    },
    {
      "cell_type": "markdown",
      "metadata": {
        "id": "rAKhwjTuQ-YV"
      },
      "source": [
        "例2は複数の値を一つの変数にそれぞれ代入していると考えることもできます。これを**多重代入**と言います。関連する用語に**パック**や**アンパック**というものがありますが、ここでは用語の紹介に留めておきます。より発展的な内容を学びたい人は調べてみると良いでしょう。"
      ]
    },
    {
      "cell_type": "markdown",
      "metadata": {
        "id": "sYl--hUwQ-YV"
      },
      "source": [
        "## 2.4.dict型(辞書)"
      ]
    },
    {
      "cell_type": "markdown",
      "metadata": {
        "id": "bLrvmhMSQ-YW"
      },
      "source": [
        "辞書はリストの各要素に**キー**と呼ばれるラベルをつけたもので、他のプログラミング言語では**連想配列**と呼ばれています。\n",
        "  \n",
        "Pythonでは`{<キー>: <値>, ...}`という形式でデータを保持します。"
      ]
    },
    {
      "cell_type": "code",
      "execution_count": null,
      "metadata": {
        "id": "0bbEV3SUQ-YW"
      },
      "outputs": [],
      "source": [
        "# 辞書\n",
        "x = {'a': 1, 'b': 2, 'c': 3}\n",
        "print(x)"
      ]
    },
    {
      "cell_type": "markdown",
      "metadata": {
        "id": "7VykTOOzQ-YW"
      },
      "source": [
        "リストではインデックスによって各要素にアクセスしていたのに対し、辞書ではキーを使って値にアクセスします。リストと同様に、値の参照および代入を行うことができます。"
      ]
    },
    {
      "cell_type": "code",
      "execution_count": null,
      "metadata": {
        "id": "8YPyLxOqQ-YW"
      },
      "outputs": [],
      "source": [
        "# 要素の参照\n",
        "print(x['a'])"
      ]
    },
    {
      "cell_type": "code",
      "execution_count": null,
      "metadata": {
        "id": "svdpMNguQ-YW"
      },
      "outputs": [],
      "source": [
        "# 値の変更\n",
        "x['b'] = 10\n",
        "print(x)"
      ]
    },
    {
      "cell_type": "markdown",
      "metadata": {
        "id": "wFOghoToQ-YW"
      },
      "source": [
        "なお、辞書にないキーに対して代入を行うと、それが新しい要素として追加されます。"
      ]
    },
    {
      "cell_type": "code",
      "execution_count": null,
      "metadata": {
        "id": "4ptDXzSAQ-YW"
      },
      "outputs": [],
      "source": [
        "# キーと値の追加\n",
        "x['d'] = 4\n",
        "print(x)"
      ]
    },
    {
      "cell_type": "markdown",
      "metadata": {
        "id": "S0Ius8vhQ-YW"
      },
      "source": [
        "辞書からキーや値、要素全体を取得したりするための手段も用意されています。\n",
        "\n",
        "辞書の`keys`関数(メソッド)、`values`関数(メソッド)および`items`関数(メソッド)を利用します。"
      ]
    },
    {
      "cell_type": "code",
      "execution_count": null,
      "metadata": {
        "id": "Duy-DfEDQ-YX"
      },
      "outputs": [],
      "source": [
        "# キーの取得\n",
        "x = {'a': 1, 'b': 2, 'c': 3}\n",
        "print(x.keys())"
      ]
    },
    {
      "cell_type": "code",
      "execution_count": null,
      "metadata": {
        "id": "nlKmAxjuQ-YX"
      },
      "outputs": [],
      "source": [
        "# 要素の取得\n",
        "x = {'a': 1, 'b': 2, 'c': 3}\n",
        "print(x.values())"
      ]
    },
    {
      "cell_type": "code",
      "source": [
        "x = {'a': 1, 'b': 2, 'c': 3}\n",
        "print(x.items())"
      ],
      "metadata": {
        "id": "c6iqd2R8FI7_"
      },
      "execution_count": null,
      "outputs": []
    },
    {
      "cell_type": "markdown",
      "source": [
        "## 2.5 練習問題"
      ],
      "metadata": {
        "id": "oEMN0v_IWG0X"
      }
    },
    {
      "cell_type": "markdown",
      "source": [
        "### 2.5.1 練習問題1\n",
        "10以下の素数を全て含むリストを書いてください。"
      ],
      "metadata": {
        "id": "wgDq4wueWK7z"
      }
    },
    {
      "cell_type": "code",
      "source": [],
      "metadata": {
        "id": "Rzc6_cwqsYd9"
      },
      "execution_count": null,
      "outputs": []
    },
    {
      "cell_type": "markdown",
      "source": [
        "#### 解答例"
      ],
      "metadata": {
        "id": "g2LT3R2XcqYj"
      }
    },
    {
      "cell_type": "code",
      "source": [
        "prime_numbers = [2, 3, 5, 7]\n",
        "print(prime_numbers)"
      ],
      "metadata": {
        "id": "vojkgVHLcwqt"
      },
      "execution_count": null,
      "outputs": []
    },
    {
      "cell_type": "markdown",
      "source": [
        "### 2.5.2 練習問題2\n",
        "10以下の素数を全て含むタプルを書いてください。"
      ],
      "metadata": {
        "id": "OX_KW_yPsZBn"
      }
    },
    {
      "cell_type": "code",
      "source": [],
      "metadata": {
        "id": "mPlqYvrhsZkD"
      },
      "execution_count": null,
      "outputs": []
    },
    {
      "cell_type": "markdown",
      "source": [
        "#### 解答例"
      ],
      "metadata": {
        "id": "gpqvi8HpdDJw"
      }
    },
    {
      "cell_type": "code",
      "source": [
        "prime_numbers = (2, 3, 5, 7)\n",
        "print(prime_numbers)"
      ],
      "metadata": {
        "id": "bfP8qTTVdVgM"
      },
      "execution_count": null,
      "outputs": []
    },
    {
      "cell_type": "markdown",
      "source": [
        "### 2.5.3 練習問題3\n",
        "`'name'`という文字列をkeyに，自分の名前の文字列をvalueにした辞書を書いてください。"
      ],
      "metadata": {
        "id": "mN7ucSpIsfsl"
      }
    },
    {
      "cell_type": "code",
      "source": [],
      "metadata": {
        "id": "3aGCB8THsfMn"
      },
      "execution_count": null,
      "outputs": []
    },
    {
      "cell_type": "markdown",
      "source": [
        "#### 解答例"
      ],
      "metadata": {
        "id": "AQs32aFRdh24"
      }
    },
    {
      "cell_type": "code",
      "source": [
        "my_dict = {'name': 'あなたの名前'}\n",
        "my_dict"
      ],
      "metadata": {
        "id": "oIpkGOlddg4k"
      },
      "execution_count": null,
      "outputs": []
    },
    {
      "cell_type": "markdown",
      "source": [
        "# 3.Python文法III"
      ],
      "metadata": {
        "id": "j9Z6_Wm2i1O3"
      }
    },
    {
      "cell_type": "markdown",
      "metadata": {
        "id": "ACeegK-DZjIN"
      },
      "source": [
        "## 3.1.条件分岐（if文）"
      ]
    },
    {
      "cell_type": "markdown",
      "metadata": {
        "id": "O8qI4oAoZjIO"
      },
      "source": [
        "条件分岐とは、プログラム内で、条件によって処理の流れを変えるための機能です。ある条件が真であれば、それに伴う処理を行い、偽であれば別の処理を行います。\n",
        "\n",
        "Pythonでは`if、elif、else`によって表現されます。以下にフォーマットを示しました。\n",
        "\n",
        "```python\n",
        "if <条件式0>:\n",
        "    <(条件式0がTrueのときに実行する)処理>\n",
        "elif <条件式1>:\n",
        "    <(条件式0がFalse、条件式1がTrueのときに実行する)処理>\n",
        "else:\n",
        "    <(すべての条件式がFalseのときに実行する)処理>\n",
        "```\n",
        "\n",
        "`if`文は、条件式が`True`ならば処理を実行します。条件式が`False`のときに実行する処理を`else`節として`if`文に加えることもできます。また、条件を複数指定したい場合には`elif`節を合わせて使うことがあります。`elif`節は任意の数だけ繰り返すことができます。\n",
        "\n",
        "注意すべきなのは、(条件式がTrue/Falseとなったときに実行される)処理の前に**空白(スペース)を4つ入れなければならない**ということです。Pythonではこれを**インデント**と呼んでいます。適切にインデントが挿入されていないとエラーとなります。"
      ]
    },
    {
      "cell_type": "markdown",
      "metadata": {
        "id": "zbGUNjoMZfiC"
      },
      "source": [
        "それでは、例を見てみましょう。下の例では変数`x`の絶対値を計算し、その結果を`y`に格納しています。"
      ]
    },
    {
      "cell_type": "code",
      "execution_count": null,
      "metadata": {
        "id": "khNI2pZCZjIO"
      },
      "outputs": [],
      "source": [
        "# 絶対値の計算\n",
        "x = -1\n",
        "if x < 0:\n",
        "    y = -x\n",
        "else:\n",
        "    y = x\n",
        "\n",
        "print(y)"
      ]
    },
    {
      "cell_type": "markdown",
      "metadata": {
        "id": "Byg2PaaaZfiD"
      },
      "source": [
        "上では明示的に書きませんでしたが、複数の連続する処理を実行させることもできます。このとき、その処理すべての前にインデントを挿入する必要があります。プログラミングにおいて処理のまとまりのことを一般に**ブロック**と言いますが、Pythonではインデントが挿入されている部分をブロックとみなして処理しています。\n",
        "\n",
        "下の2つの例は似ているようですが全く異なるコードです。インデントに注目して動作を確認してみてください。"
      ]
    },
    {
      "cell_type": "code",
      "source": [
        "score = 75\n",
        "\n",
        "if score >= 80:\n",
        "  print(\"合格です\")\n",
        "print(\"プログラム終了\")"
      ],
      "metadata": {
        "id": "rLiw9ug8k6pj"
      },
      "execution_count": null,
      "outputs": []
    },
    {
      "cell_type": "code",
      "source": [
        "score = 75\n",
        "\n",
        "if score >= 80:\n",
        "print(\"合格です\")\n",
        "print(\"プログラム終了\")\n"
      ],
      "metadata": {
        "id": "vJWrFPwTjoYA"
      },
      "execution_count": null,
      "outputs": []
    },
    {
      "cell_type": "markdown",
      "metadata": {
        "id": "Mf7pSG64aDj6"
      },
      "source": [
        "elif文を使用した例についても見てみましょう。Python の input() 関数は、ユーザーに質問して、その答えを受け取るための機能です。\n",
        "プログラムが「何か聞いてくる」→ 人間が「キーボードで答える」→ その答えをプログラムの中で使えるようにする、という流れです。"
      ]
    },
    {
      "cell_type": "code",
      "source": [
        "weather = input(\"今日の天気は？（晴れ／雨／雪）：\")\n",
        "\n",
        "if weather == \"晴れ\":\n",
        "    print(\"帽子をかぶって出かけましょう\")\n",
        "elif weather == \"雨\":\n",
        "    print(\"傘を持って行きましょう\")\n",
        "elif weather == \"雪\":\n",
        "    print(\"手袋とマフラーを忘れずに\")\n",
        "else:\n",
        "    print(\"その天気はわかりません\")"
      ],
      "metadata": {
        "id": "Yv57XAvulnJr"
      },
      "execution_count": null,
      "outputs": []
    },
    {
      "cell_type": "markdown",
      "metadata": {
        "id": "lz6Ski4daDj7"
      },
      "source": [
        "続いて、条件分岐で使用される比較演算子について見てみましょう。比較演算子には以下のようなものがあります。"
      ]
    },
    {
      "cell_type": "markdown",
      "metadata": {
        "id": "wpOMmy3naDj7"
      },
      "source": [
        "|比較演算子|説明|\n",
        "|:-|:-|\n",
        "|x == y|xとyが等しい|\n",
        "|x != y|xとyが等しくない|\n",
        "|x > y|xがyよりも大きい|\n",
        "|x < y|xがyよりも小さい|\n",
        "|x >= y|xがyと等しいか大きい|\n",
        "|x <= y|xがyと等しいか小さい|"
      ]
    },
    {
      "cell_type": "code",
      "source": [
        "# paramはGoogle Colab専用機能で、数値をインタラクティブに選ぶときに便利です\n",
        "x = 15 #@param {type:\"slider\", min:0, max:30, step:1}\n",
        "y = 4 #@param {type:\"slider\", min:0, max:30, step:1}\n",
        "\n",
        "if x < y:\n",
        "    print(f\"{x} は {y} より小さい\")\n",
        "elif x == y:\n",
        "    print(f\"{x} は {y} と等しい\")\n",
        "else:\n",
        "    print(f\"{x} は {y} より大きい\")"
      ],
      "metadata": {
        "id": "Rykd_3Orn6Gq"
      },
      "execution_count": null,
      "outputs": []
    },
    {
      "cell_type": "markdown",
      "metadata": {
        "id": "fQr4RUIjaDj8"
      },
      "source": [
        "f は「f文字列」または「フォーマット文字列」と呼ばれます。printの引数の中に変数を埋め込むのに便利です。\n",
        "\n",
        "また、比較演算子の他に条件分岐で使用される論理演算子についても見てみましょう。論理演算子には以下のようなものがあります。"
      ]
    },
    {
      "cell_type": "markdown",
      "metadata": {
        "id": "Xf9s9oG5aDj9"
      },
      "source": [
        "|論理演算子|説明|\n",
        "|:-|:-|\n",
        "|x and y|xとyがいずれも真ならば真|\n",
        "|x or y|xとyのいずれかが真ならば真|\n",
        "|not x|xが偽ならば真|"
      ]
    },
    {
      "cell_type": "code",
      "source": [
        "# and演算子の例\n",
        "age = 25\n",
        "income = 2000\n",
        "\n",
        "# 複数の条件をand演算子で結合\n",
        "if age > 18 and income >= 700:\n",
        "    print(\"この人はローンを申し込む資格があります\")\n",
        "else:\n",
        "    print(\"この人はローンを申し込む資格がありません\")"
      ],
      "metadata": {
        "id": "1aaDWLxYPYgd"
      },
      "execution_count": null,
      "outputs": []
    },
    {
      "cell_type": "code",
      "execution_count": null,
      "metadata": {
        "id": "71QSY4JCaDj9"
      },
      "outputs": [],
      "source": [
        "# or演算子の例\n",
        "is_student = False\n",
        "income = 100\n",
        "\n",
        "if is_student or income < 250:\n",
        "    print(\"割引を受けられます\")\n",
        "else:\n",
        "    print(\"割引を受けられません\")"
      ]
    },
    {
      "cell_type": "code",
      "execution_count": null,
      "metadata": {
        "id": "kSfKtY9baDj9"
      },
      "outputs": [],
      "source": [
        "# not演算子の例\n",
        "is_active = True\n",
        "\n",
        "if not is_active:  # 真偽値を反転\n",
        "    print(\"アカウントが無効です\")\n",
        "else:\n",
        "    print(\"アカウントが有効です\")"
      ]
    },
    {
      "cell_type": "markdown",
      "source": [
        "## 3.2. 繰り返し（for文）"
      ],
      "metadata": {
        "id": "MfjT3ZXZf5qN"
      }
    },
    {
      "cell_type": "markdown",
      "source": [
        "### 3.2.1. for文とrange()"
      ],
      "metadata": {
        "id": "3-GDkSXsla6W"
      }
    },
    {
      "cell_type": "markdown",
      "source": [
        "for文は、同じ処理を何度も書かずに繰り返したい場合に使用します。繰り返したい回数をrange()で指定できます。range()を使用したfor文の書き方は次のようになります。"
      ],
      "metadata": {
        "id": "nrYc6RZki0hC"
      }
    },
    {
      "cell_type": "markdown",
      "source": [
        "```python\n",
        "for <変数> in range(繰り返す回数):\n",
        "    <処理>\n",
        "```"
      ],
      "metadata": {
        "id": "rnVc-yBlht1u"
      }
    },
    {
      "cell_type": "markdown",
      "source": [
        "コロン（:）や処理前のインデント（スペース4つやタブ）は省略できないため、注意が必要です。rangeで使用した回数が終わるまで処理が繰り返されます。変数には0から処理ごとに1ずつ増えた値が代入されます。定義する変数に特別な意味がなければ、変数名にi(indexやiteratorの略)やj、k（i以降のアルファベット）がよく用いられます。"
      ],
      "metadata": {
        "id": "2esD3px4kSqm"
      }
    },
    {
      "cell_type": "markdown",
      "source": [
        "次に同じような処理の繰り返しのコード例とfor文で繰り返した処理の例を示します。"
      ],
      "metadata": {
        "id": "Y5WPKxkvlKDA"
      }
    },
    {
      "cell_type": "code",
      "source": [
        "#同じような処理の繰り返し\n",
        "print('Python', 0)\n",
        "print('Python', 1)\n",
        "print('Python', 2)\n",
        "print('Python', 3)\n",
        "print('Python', 4)"
      ],
      "metadata": {
        "id": "qPcRmJLgkuYI"
      },
      "execution_count": null,
      "outputs": []
    },
    {
      "cell_type": "code",
      "source": [
        "#for文を用いた繰り返し処理\n",
        "for i in range(5):\n",
        "    print('Python文法', i)"
      ],
      "metadata": {
        "id": "jv5Dt9WEkWcr"
      },
      "execution_count": null,
      "outputs": []
    },
    {
      "cell_type": "markdown",
      "source": [
        "print()のかっこ内に複数の値をカンマ（,）で挟むとスペースが間に入って出力されます。"
      ],
      "metadata": {
        "id": "7V61kr7Fp3Xt"
      }
    },
    {
      "cell_type": "code",
      "source": [
        "# 1から10までの和を求める例\n",
        "# for文を用いた繰り返し処理 (開始、終了を指定するやりかた)\n",
        "\n",
        "s = 0\n",
        "for n in range(1,11): #1以上11未満の整数\n",
        "    s = s + n\n",
        "print(s)"
      ],
      "metadata": {
        "id": "hPRWpi5NbIPo"
      },
      "execution_count": null,
      "outputs": []
    },
    {
      "cell_type": "markdown",
      "source": [
        "### 3.2.2. for文とlist"
      ],
      "metadata": {
        "id": "sTjYJHLMlw90"
      }
    },
    {
      "cell_type": "markdown",
      "source": [
        "for文は、Python文法Ⅱで扱ったリストと組み合わせることができます。range()を使ってリストの要素分繰り返す方法もありますが、inの後ろにリストを置くとリストの中から各要素を順に取り出して処理を繰り返せます。リストを使ったfor文の書き方は以下の通りです。"
      ],
      "metadata": {
        "id": "Ub3p2u2Vl7IT"
      }
    },
    {
      "cell_type": "markdown",
      "source": [
        "```python\n",
        "for <変数> in <リスト>:\n",
        "    <処理>\n",
        "```"
      ],
      "metadata": {
        "id": "R52pwA3Nh_tf"
      }
    },
    {
      "cell_type": "markdown",
      "source": [
        "リストの要素が変数に順に代入され、要素数分の処理が繰り返されます。"
      ],
      "metadata": {
        "id": "p9AqmC7Vmdr0"
      }
    },
    {
      "cell_type": "markdown",
      "source": [
        "\n",
        "\n",
        "次にfor文とリストを組み合わせた例とrange()を利用した例を示します。\n"
      ],
      "metadata": {
        "id": "LNshG55liUry"
      }
    },
    {
      "cell_type": "code",
      "source": [
        "# リストの要素を順番にprintする\n",
        "number = [1, 2, 3, 4, 5]\n",
        "for n in number:\n",
        "    print(n)"
      ],
      "metadata": {
        "id": "FMdEs1G4nYTA"
      },
      "execution_count": null,
      "outputs": []
    },
    {
      "cell_type": "code",
      "source": [
        "# numberの要素を足し合わせる\n",
        "number = [1, 2, 3, 4, 5]\n",
        "s = 0\n",
        "for n in number:  # nにnumberの要素を順番に取り出す\n",
        "    s = s + n\n",
        "print(s)"
      ],
      "metadata": {
        "id": "OD-188PJMolh"
      },
      "execution_count": null,
      "outputs": []
    },
    {
      "cell_type": "code",
      "source": [
        "# numberの要素を足し合わせる\n",
        "# rangeを使ったインデックス指定\n",
        "\n",
        "number = [1, 2, 3, 4, 5]\n",
        "s = 0\n",
        "for i in range(len(number)):\n",
        "    s = s + number[i]  # numberの要素をインデックスで指定して取り出す\n",
        "print(s)"
      ],
      "metadata": {
        "id": "cbftlBP5M2fw"
      },
      "execution_count": null,
      "outputs": []
    },
    {
      "cell_type": "markdown",
      "source": [
        "### 3.2.3. [応用事項] for文とenumerate()"
      ],
      "metadata": {
        "id": "gjRZ60FCqDw2"
      }
    },
    {
      "cell_type": "markdown",
      "source": [
        "リストとfor文の組み合わせでインデックスと要素の両方を使用したい場合があります。その場合enumerate()が便利です。リストにenumerate()を使ったfor文の書き方は以下の通りです。"
      ],
      "metadata": {
        "id": "2CiqKkuLqLEh"
      }
    },
    {
      "cell_type": "markdown",
      "source": [
        "```python\n",
        "for <変数1>, <変数2> in enumerate(<リスト>):\n",
        "    <処理>\n",
        "```"
      ],
      "metadata": {
        "id": "_T58Qx8EiAjv"
      }
    },
    {
      "cell_type": "markdown",
      "source": [
        "なお、enumerateは数え上げるという意味の英単語です。"
      ],
      "metadata": {
        "id": "spuNyU4BsNm7"
      }
    },
    {
      "cell_type": "markdown",
      "source": [
        "変数1にリストのインデックスが、変数2にリストの要素が順に代入され、処理が繰り返されます。以下にenumerateを使ってリストのインデックスと要素を順に抽出した場合とrangeで抽出するコード例を示します。"
      ],
      "metadata": {
        "id": "76cyjGHMrrNL"
      }
    },
    {
      "cell_type": "code",
      "source": [
        "# emumerate(リスト)でインデックスと要素を順に抽出\n",
        "menu = ['salad', 'soup', 'steak', 'cake']\n",
        "for i, food in enumerate(menu):\n",
        "    print(i, food)"
      ],
      "metadata": {
        "id": "xeqhQ45hqRns"
      },
      "execution_count": null,
      "outputs": []
    },
    {
      "cell_type": "code",
      "source": [
        "#emumerateを使わずにrangeでインデックスと要素を順に抽出\n",
        "menu = ['salad', 'soup','steak', 'cake']\n",
        "for i in range(len(menu)):\n",
        "    print(i, menu[i])"
      ],
      "metadata": {
        "id": "ynyRUZkHrB95"
      },
      "execution_count": null,
      "outputs": []
    },
    {
      "cell_type": "markdown",
      "source": [
        "## 3.3. 練習問題"
      ],
      "metadata": {
        "id": "AHogHXVihom-"
      }
    },
    {
      "cell_type": "markdown",
      "source": [
        "### 3.3.1 練習問題1\n",
        "if文を用いて好きなプログラムを書いてください。\n",
        "\n"
      ],
      "metadata": {
        "id": "pCSEnKI8U1e4"
      }
    },
    {
      "cell_type": "code",
      "source": [],
      "metadata": {
        "id": "uFwhdEO5Ra1x"
      },
      "execution_count": null,
      "outputs": []
    },
    {
      "cell_type": "markdown",
      "source": [
        "#### 解答例"
      ],
      "metadata": {
        "id": "HbEdAK4xeiFO"
      }
    },
    {
      "cell_type": "code",
      "source": [
        "age = 101\n",
        "if age >= 100:\n",
        "    print(\"congratulations!\")"
      ],
      "metadata": {
        "id": "V4NGnBSXehZO"
      },
      "execution_count": null,
      "outputs": []
    },
    {
      "cell_type": "markdown",
      "source": [
        "### 3.3.2 練習問題2\n",
        "for文を用いて好きなプログラムを書いてください。"
      ],
      "metadata": {
        "id": "d6iYNyArRWW8"
      }
    },
    {
      "cell_type": "code",
      "source": [],
      "metadata": {
        "id": "hbpNm1nxRbM4"
      },
      "execution_count": null,
      "outputs": []
    },
    {
      "cell_type": "markdown",
      "source": [
        "#### 解答例"
      ],
      "metadata": {
        "id": "ZD-rIbjuetph"
      }
    },
    {
      "cell_type": "code",
      "source": [
        "for i in range(10):\n",
        "    print(i)"
      ],
      "metadata": {
        "id": "R1rTNxmYewIK"
      },
      "execution_count": null,
      "outputs": []
    },
    {
      "cell_type": "markdown",
      "metadata": {
        "id": "VpjCvhi6Q-YX"
      },
      "source": [
        "### 3.3.3 練習問題3\n",
        "要素がすべて整数値であって、長さが1以上のリストが変数`x`に格納されているとします。`x`の要素の中で最も大きい要素を返すプログラムを作成してください。ただし、`max`関数などは使用せず、ループ（for文での繰り返し）で実現してください。"
      ]
    },
    {
      "cell_type": "code",
      "execution_count": null,
      "metadata": {
        "id": "PNrxgiSPQ-YY"
      },
      "outputs": [],
      "source": [
        "# 入力例\n",
        "x = [1, 5, 4, 3, 0]"
      ]
    },
    {
      "cell_type": "code",
      "execution_count": null,
      "metadata": {
        "id": "T31eGDweQ-YY"
      },
      "outputs": [],
      "source": [
        "# write me!"
      ]
    },
    {
      "cell_type": "markdown",
      "source": [
        "#### 解答例"
      ],
      "metadata": {
        "id": "EmI8-1HWfU9F"
      }
    },
    {
      "cell_type": "code",
      "source": [
        "# 最大値を変数maxに格納する\n",
        "max_list = x[0] # maxの初期値はリストの先頭にする\n",
        "for i in x:\n",
        "    if max_list < i:\n",
        "        max_list = i # maxをiに入れ替える\n",
        "print(max_list)"
      ],
      "metadata": {
        "id": "gGmWcAjpfY7F"
      },
      "execution_count": null,
      "outputs": []
    },
    {
      "cell_type": "markdown",
      "source": [
        "# 4.Python文法IV"
      ],
      "metadata": {
        "id": "L5EgwJBoi7Ja"
      }
    },
    {
      "cell_type": "markdown",
      "source": [
        "## 4.1. 関数"
      ],
      "metadata": {
        "id": "qp-RKOZbOW9r"
      }
    },
    {
      "cell_type": "markdown",
      "metadata": {
        "id": "_UgbfMOrQ-YO"
      },
      "source": [
        "プログラムを作成していると、以前作成したものを再度利用したいと思うことがあるかもしれません。**関数**を利用することで、その処理の流れに名前をつけて保存し、必要になったら呼び出すことができるようになります。そのような決められた処理を実行するコードを関数と言います。\n",
        "\n",
        "フォーマットは以下の通りです。\n",
        "\n",
        "- 関数定義\n",
        "\n",
        "```python\n",
        "def <関数名>(<引数>, ...):\n",
        "    <関数内部の処理>\n",
        "```\n",
        "\n",
        "- 関数呼び出し\n",
        "\n",
        "```python\n",
        "<関数名>(<引数>, ...)\n",
        "```\n",
        "\n",
        "関数を呼び出すとき、0個以上の**引数**を渡します。関数内の処理ではこの引数の値を利用することができます。これだけでは理解しづらいと思うので、絶対値を求めるプログラムを例にとって具体的に説明します。\n",
        "\n",
        "ある`x`が与えられたとき、その絶対値`y`は下のプログラムを利用して求めることができます。"
      ]
    },
    {
      "cell_type": "code",
      "execution_count": null,
      "metadata": {
        "id": "9tdABUZ0Q-YO"
      },
      "outputs": [],
      "source": [
        "# 絶対値を求めるプログラム\n",
        "x = -1\n",
        "if (x < 0):\n",
        "    y = - x\n",
        "else:\n",
        "    y = x\n",
        "print(y)"
      ]
    },
    {
      "cell_type": "markdown",
      "metadata": {
        "id": "cLx0Jh8TQ-YP"
      },
      "source": [
        "この処理の流れを関数にしたいと思います。関数化したい部分は関数化したい部分は、以下のコードです。\n",
        "\n",
        "\n",
        "```\n",
        "if (x < 0):\n",
        "    y = - x\n",
        "else:\n",
        "    y = x\n",
        "```\n",
        "\n",
        "この処理の中で呼び出すたびに指定したいのは、xです。xを引数とした関数定義は以下となります。\n",
        "\n",
        "\n",
        "```\n",
        "def absolute(x):\n",
        "```\n",
        "\n",
        "処理の中身をインデントして、関数定義に組む込みます。\n",
        "\n",
        "\n",
        "```\n",
        "def absolute(x):\n",
        "  if (x < 0):\n",
        "      y = - x\n",
        "  else:\n",
        "      y = x\n",
        "```\n",
        "\n",
        "最後に、結果を呼び出し元に戻す、戻り値をreturnで指定します。\n",
        "return文も関数の内部なので、インデントを忘れないようにしてください\n",
        "\n",
        "\n",
        "\n",
        "```\n",
        "def absolute(x):\n",
        "  if (x < 0):\n",
        "      y = - x\n",
        "  else:\n",
        "      y = x\n",
        "  \n",
        "  return y\n",
        "```\n",
        "\n",
        "\n",
        "ここで関数名は絶対値(absolute value)を意味する`absolute`としています。この関数を呼び出す(利用する)ときにはこの名前を使います。\n",
        "\n",
        "この`absolute`関数を呼び出してみます。関数を呼び出すときには引数を与える必要がありますが、これは定義したときと同じ個数である必要があります。"
      ]
    },
    {
      "cell_type": "code",
      "execution_count": null,
      "metadata": {
        "id": "FhHvslNWQ-YP"
      },
      "outputs": [],
      "source": [
        "# 絶対値を求める関数の定義\n",
        "def absolute(x):\n",
        "    if (x < 0):\n",
        "        y = - x\n",
        "    else:\n",
        "        y = x\n",
        "    return y\n",
        "\n",
        "# 絶対値を求める関数の呼び出し\n",
        "x = -125\n",
        "y = absolute(x)\n",
        "print(y)"
      ]
    },
    {
      "cell_type": "markdown",
      "metadata": {
        "id": "o417f1XMQ-YP"
      },
      "source": [
        "関数内の処理では引数の値を利用することができますが、より詳しく言えば「関数呼び出しのときに与えた引数が、関数定義のときに与えた引数のところにコピーされる」ということです。上の例では、関数呼び出しのときに-1を引数として与えていますが、それは関数定義したときに与えた引数`x`にコピーされています。\n",
        "\n",
        "プログラミングの用語では、関数定義のときに与えた引数のことを**仮引数**、関数呼び出しのときに与えた引数のことを**実引数**と呼んでいます。\n",
        "\n",
        "関数の評価値は、関数内部で`return`した値になります。これを**返り値**と言います。上の例では`y`が返り値となりますが、これが`x`の絶対値になっていることが確認できると思います。"
      ]
    },
    {
      "cell_type": "markdown",
      "metadata": {
        "id": "TMcgLRFLQ-YP"
      },
      "source": [
        "なお、複数の引数を持つ関数を定義することもできます。ただし、実引数の順は仮引数のそれに対応していることに注意してください。"
      ]
    },
    {
      "cell_type": "code",
      "execution_count": null,
      "metadata": {
        "id": "lMnXy223Q-YP"
      },
      "outputs": [],
      "source": [
        "# べき乗を求める関数\n",
        "def power(x, y):\n",
        "    return x ** y"
      ]
    },
    {
      "cell_type": "code",
      "execution_count": null,
      "metadata": {
        "id": "LI_wApmwQ-YP"
      },
      "outputs": [],
      "source": [
        "power(2, 3)"
      ]
    },
    {
      "cell_type": "code",
      "execution_count": null,
      "metadata": {
        "id": "bQIYIdD7Q-YP"
      },
      "outputs": [],
      "source": [
        "power(3, 2)"
      ]
    },
    {
      "cell_type": "markdown",
      "metadata": {
        "id": "MjB4q71TQ-YQ"
      },
      "source": [
        "仮引数と実引数の対応を明示的に指定する場合には、`<仮引数>=<実引数>`という形式で指定します。この形式で渡す引数を**キーワード引数**と言います。それに対して、明示的には指定しない(実引数の順が仮引数のそれに対応していると仮定する)場合の引数を**位置引数**と呼ぶことがあります。"
      ]
    },
    {
      "cell_type": "code",
      "execution_count": null,
      "metadata": {
        "id": "VFzU_P15Q-YQ"
      },
      "outputs": [],
      "source": [
        "power(y=2, x=3)"
      ]
    },
    {
      "cell_type": "markdown",
      "metadata": {
        "id": "-ow9Q8aNQ-YQ"
      },
      "source": [
        "さらに、引数(の一部)に既定値を与えておき、その引数を省略可能とすることもできます。これを**デフォルト引数**と言います。関数呼び出しの際にその引数が省略された場合、既定値が使用されます。"
      ]
    },
    {
      "cell_type": "code",
      "execution_count": null,
      "metadata": {
        "id": "X0Dw-W6uQ-YQ"
      },
      "outputs": [],
      "source": [
        "def power(x=1, y=1):\n",
        "    return x ** y"
      ]
    },
    {
      "cell_type": "code",
      "execution_count": null,
      "metadata": {
        "id": "N_j8adBuQ-YQ"
      },
      "outputs": [],
      "source": [
        "power(x=3)"
      ]
    },
    {
      "cell_type": "markdown",
      "source": [
        "## 4.2.練習問題"
      ],
      "metadata": {
        "id": "xScuQ5sXUigO"
      }
    },
    {
      "cell_type": "markdown",
      "source": [
        "### 4.2.1 練習問題1\n",
        "1からxまでの和を求める関数fを定義してください"
      ],
      "metadata": {
        "id": "4eOIUrShi3qh"
      }
    },
    {
      "cell_type": "code",
      "source": [
        "def f(x):\n",
        "  # write me!\n",
        "  return n"
      ],
      "metadata": {
        "id": "z1wv8lDvjBrz"
      },
      "execution_count": null,
      "outputs": []
    },
    {
      "cell_type": "code",
      "source": [
        "#確認コード\n",
        "y = f(10)\n",
        "print(y)"
      ],
      "metadata": {
        "id": "tk39ImA3jyPf"
      },
      "execution_count": null,
      "outputs": []
    },
    {
      "cell_type": "markdown",
      "source": [
        "####解答例"
      ],
      "metadata": {
        "id": "WSc9KGX_jCAs"
      }
    },
    {
      "cell_type": "code",
      "source": [
        "def f(x):\n",
        "  s = 0\n",
        "  for n in range(1,x+1):\n",
        "    s = s + n\n",
        "  return s\n",
        "\n",
        "\n",
        "#確認コード\n",
        "y = f(10)\n",
        "print(y)"
      ],
      "metadata": {
        "id": "1VCSMvz1jEYR"
      },
      "execution_count": null,
      "outputs": []
    },
    {
      "cell_type": "markdown",
      "source": [
        "##### 少し細かい解説\n",
        "\n",
        "0.1章で出てきた1から10の和を求めるプログラムがありました。\n",
        "\n",
        "```\n",
        "s = 0\n",
        "for n in range(1,11):\n",
        "    s = s + n\n",
        "s\n",
        "```\n",
        "これを1からxまでの和を求めるものに変形してみましょう\n",
        "\n",
        "```\n",
        "s = 0\n",
        "x = 10 #ここではxを10としていますが、どんな整数でもOK\n",
        "for n in range(1,x+1):\n",
        "    s = s + n\n",
        "s\n",
        "```\n",
        "\n",
        "for文の部分を関数fとして括り出します。xは変数として、呼び出し毎に変わるので引数にした方が良いでしょう\n",
        "\n",
        "```\n",
        "def f(x):\n",
        "    for n in range(1,x+1):\n",
        "        s = s + n\n",
        "```\n",
        "\n",
        "このままですと、呼び出し元に値を戻することができないので、returnで戻します\n",
        "```\n",
        "def f(x):\n",
        "    for n in range(1,x+1):\n",
        "        s = s + n\n",
        "    return s\n",
        "```\n",
        "\n",
        "完成した関数fを呼び出してみましょう\n",
        "\n",
        "\n",
        "\n",
        "```\n",
        "#1から10までの和を求める\n",
        "y = f(10)\n",
        "print(y)\n",
        "\n",
        "```\n",
        "\n",
        "```\n",
        "#1から100までの和を求める\n",
        "y = f(100)\n",
        "print(y)\n",
        "\n",
        "```\n",
        "\n",
        "\n"
      ],
      "metadata": {
        "id": "7AYDe64jBPIr"
      }
    },
    {
      "cell_type": "markdown",
      "metadata": {
        "id": "zXQKjy_-Q-YY"
      },
      "source": [
        "### 4.2.2 練習問題2\n",
        "長さが1以上の文字列を引数`x`とし、`x`の最後の1文字を返す関数`f`を定義してください。"
      ]
    },
    {
      "cell_type": "code",
      "source": [
        "# 入力例\n",
        "x = 'python'"
      ],
      "metadata": {
        "id": "uTg1WCqMicCX"
      },
      "execution_count": null,
      "outputs": []
    },
    {
      "cell_type": "code",
      "execution_count": null,
      "metadata": {
        "id": "eTYwB8KkQ-YY"
      },
      "outputs": [],
      "source": [
        "def f(x):\n",
        "    # write me!\n",
        "\n",
        "#関数のテスト\n",
        "f(x)"
      ]
    },
    {
      "cell_type": "markdown",
      "source": [
        "#### 解答例"
      ],
      "metadata": {
        "id": "ypqDZinlgLBm"
      }
    },
    {
      "cell_type": "code",
      "source": [
        "def f(x):\n",
        "    length = len(x) # 文字列の長さ\n",
        "    return x[length - 1] # 0から始まるので、lengthより１つ小さいインデックスを指定\n",
        "f(x)"
      ],
      "metadata": {
        "id": "j1e5ws82g4ky"
      },
      "execution_count": null,
      "outputs": []
    },
    {
      "cell_type": "code",
      "source": [
        "# 別解\n",
        "def f(x):\n",
        "    return x[-1]\n",
        "f(x)"
      ],
      "metadata": {
        "id": "Fq5ayCH0g_W3"
      },
      "execution_count": null,
      "outputs": []
    },
    {
      "cell_type": "markdown",
      "metadata": {
        "id": "M0zaovn-Q-YY"
      },
      "source": [
        "###4.2.3 練習問題3\n",
        "辞書を引数`x`とし、`x`に格納されているキーの数を返す関数`f`を定義してください。"
      ]
    },
    {
      "cell_type": "code",
      "source": [
        "# 入力例\n",
        "x = {\"a\": 1, \"b\": 2, \"c\": 3, 'd':4, 'e':5}"
      ],
      "metadata": {
        "id": "U4RoIwpLij0l"
      },
      "execution_count": null,
      "outputs": []
    },
    {
      "cell_type": "code",
      "execution_count": null,
      "metadata": {
        "id": "Q3crlp11Q-YY"
      },
      "outputs": [],
      "source": [
        "# write me!"
      ]
    },
    {
      "cell_type": "markdown",
      "source": [
        "#### 解答例"
      ],
      "metadata": {
        "id": "YIWGPdxDgTUW"
      }
    },
    {
      "cell_type": "code",
      "source": [
        "def f(x):\n",
        "    num_key = x.keys() # keys()は、辞書のキーを取得する関数\n",
        "    return len(num_key) # num_keyの長さがキーの数となる\n",
        "f(x)"
      ],
      "metadata": {
        "id": "yZIxPy0PhB21"
      },
      "execution_count": null,
      "outputs": []
    },
    {
      "cell_type": "markdown",
      "metadata": {
        "id": "UOAiQVDLQ-YY"
      },
      "source": [
        "###4.2.4 練習問題4\n",
        "リストを引数`x`とし、`x`の要素を逆順に並べたリストを返す関数`f`を定義してください。ただし、`reversed`関数などは使用せず、ループやリストのスライスで実現してください。"
      ]
    },
    {
      "cell_type": "code",
      "source": [
        "# 入力例\n",
        "x = [3, 9, 7, 1, 0]"
      ],
      "metadata": {
        "id": "xd2eLaPUixh3"
      },
      "execution_count": null,
      "outputs": []
    },
    {
      "cell_type": "code",
      "execution_count": null,
      "metadata": {
        "id": "ONwteVyaQ-YY"
      },
      "outputs": [],
      "source": [
        "# write me!"
      ]
    },
    {
      "cell_type": "markdown",
      "source": [
        "#### 解答例"
      ],
      "metadata": {
        "id": "HN-YethPgb4M"
      }
    },
    {
      "cell_type": "code",
      "source": [
        "def f(x):\n",
        "    reverse = [] # 結果を入れる変数(空箱)を用意する\n",
        "    length = len(x) # 繰り返し回数\n",
        "    for i in range(1,length + 1):\n",
        "        reverse.append(x[-i]) # 後ろに追加していく\n",
        "    return reverse\n",
        "\n",
        "f(x)"
      ],
      "metadata": {
        "id": "Pid9Ue6CgwdL"
      },
      "execution_count": null,
      "outputs": []
    },
    {
      "cell_type": "markdown",
      "source": [
        "###4.2.5 練習問題5\n",
        "以下の関数は，「私の年齢はX歳です。」と表示するために作成しようとした関数ですが，そのままではエラーとなります。以下の関数を修正してください。関数の引数である`age`は整数を想定しています。`msg`に表示する文字列を代入し，それを辞書に入れ，出力する際は辞書のkeyを指定してprintに入力してください。"
      ],
      "metadata": {
        "id": "Q-ICRcdKWX8h"
      }
    },
    {
      "cell_type": "code",
      "source": [
        "def print_my_age(age)\n",
        "    msg = '私の年齢は' + age + '歳です。'\n",
        "    msg_dict = {'msg': msg}\n",
        "    print(msg_dict['message'])\n",
        "\n",
        "print_my_age(18)"
      ],
      "metadata": {
        "id": "JD_WMgQ_Web4"
      },
      "execution_count": null,
      "outputs": []
    },
    {
      "cell_type": "markdown",
      "source": [
        "#### 解答例"
      ],
      "metadata": {
        "id": "TX8izaXlgjGS"
      }
    },
    {
      "cell_type": "markdown",
      "source": [
        "下記が正解コードです。元のコードには、３つのエラーが発生するようになっていますので、それぞれのエラーの意味を調べてみましょう。SyntaxError\n",
        "\n",
        "*  Syntax Error\n",
        "*  TypeError\n",
        "*  KeyError"
      ],
      "metadata": {
        "id": "Tt2_iq6wgqvX"
      }
    },
    {
      "cell_type": "code",
      "source": [
        "def print_my_age(age):\n",
        "    msg = '私の年齢は' + str(age) + '歳です。'\n",
        "    msg_dict = {'msg': msg}\n",
        "    print(msg_dict['msg'])\n",
        "\n",
        "print_my_age(18)"
      ],
      "metadata": {
        "id": "crHyvzyogqeC"
      },
      "execution_count": null,
      "outputs": []
    },
    {
      "cell_type": "markdown",
      "source": [
        "## 4.3 [発展事項] モジュール・ライブラリ"
      ],
      "metadata": {
        "id": "fHgLVNC822RV"
      }
    },
    {
      "cell_type": "markdown",
      "source": [
        "プログラムを開発していると、他のプログラムファイルで定義した関数やクラスを使いたい、ということがあります。Pythonではそれを**モジュール**として取り込むことができます。モジュールは部品という意味で、通常1つのプログラムファイルを表します。\n",
        "\n",
        "モジュールを複数まとめたものを**パッケージ**と言い、さらにパッケージをまとめたものを**ライブラリ**と言います。この辺りの呼称は明確に決まっているわけではなく、モジュールやパッケージのことをライブラリと言うこともあるようです。以下では「モジュール」と「ライブラリ」という2つの用語を使いますが、それぞれ「1つのプログラムファイル」と「複数のプログラムファイルをまとめたもの」という意味であるとして読み進めてください。"
      ],
      "metadata": {
        "id": "hVlH50hJ3vyI"
      }
    },
    {
      "cell_type": "markdown",
      "source": [
        "Pythonでは`import`することでモジュールを読み込むことができます。(同じディレクトリ内に存在する)プログラムファイル名を`functions.py`とすると、下のように書きます。"
      ],
      "metadata": {
        "id": "vC6_IFAv3xKf"
      }
    },
    {
      "cell_type": "markdown",
      "source": [
        "```python\n",
        "import functions\n",
        "```"
      ],
      "metadata": {
        "id": "K4hwvAr-3-CX"
      }
    },
    {
      "cell_type": "markdown",
      "source": [
        "`import`すると、そのプログラムファイルで定義された関数やクラスを利用することができます。試しに`functions.py`で定義されている関数`f`を呼び出してみましょう。この関数`f`は、1つの引数を受け取ってそれをそのまま返します。"
      ],
      "metadata": {
        "id": "Rs8OCrI43_LW"
      }
    },
    {
      "cell_type": "markdown",
      "source": [
        "```python\n",
        "functions.f(2)\n",
        "```"
      ],
      "metadata": {
        "id": "M7zPylk14HpB"
      }
    },
    {
      "cell_type": "markdown",
      "source": [
        "開発が進んでプログラムのサイズが大きくなってくると、それを細かい部品に分割して管理することが重要になります。機能ごとに関数およびクラスをまとめて別のファイルに切り出すことで、プログラムの見通しがよくなることが多いです。大きな開発をする際には心がけると良いでしょう。"
      ],
      "metadata": {
        "id": "IWlEJZjI4Q4n"
      }
    },
    {
      "cell_type": "markdown",
      "source": [
        "続いてライブラリの話題に移ります。Pythonでは標準ライブラリというものが用意されており、様々な機能を利用することができます。標準ライブラリに含まれるモジュールの1つに、数学関数をまとめた`math`モジュールがあります。ここではそれを取り上げて説明します。"
      ],
      "metadata": {
        "id": "2DkoU7Ti4R1y"
      }
    },
    {
      "cell_type": "markdown",
      "source": [
        "`math`モジュールには指数関数、対数関数、三角関数などが定義されており、それを`import`することで利用できるようになります。実際に利用するときには`<モジュール名>.<変数名/関数名/クラス名>`とします。"
      ],
      "metadata": {
        "id": "6vixmWSY4VfM"
      }
    },
    {
      "cell_type": "code",
      "source": [
        "import math"
      ],
      "metadata": {
        "id": "TbqbOEqM4cSX"
      },
      "execution_count": null,
      "outputs": []
    },
    {
      "cell_type": "code",
      "source": [
        "# 指数関数\n",
        "math.exp(1.0)"
      ],
      "metadata": {
        "id": "w9oQUnc_4dU1"
      },
      "execution_count": null,
      "outputs": []
    },
    {
      "cell_type": "code",
      "source": [
        "# 対数関数\n",
        "math.log(math.e)"
      ],
      "metadata": {
        "id": "ca5UedoY4d8o"
      },
      "execution_count": null,
      "outputs": []
    },
    {
      "cell_type": "markdown",
      "source": [
        "`from <モジュール名> import <変数名/関数名/クラス名>`とすると、モジュール名なしに変数/関数/クラスを利用することができます。"
      ],
      "metadata": {
        "id": "pYgBFHAt4kBP"
      }
    },
    {
      "cell_type": "code",
      "source": [
        "from math import sin\n",
        "from math import cos\n",
        "from math import tan\n",
        "from math import pi"
      ],
      "metadata": {
        "id": "rEQ1q7Rl4oHj"
      },
      "execution_count": null,
      "outputs": []
    },
    {
      "cell_type": "code",
      "source": [
        "# 三角関数\n",
        "sin(pi)"
      ],
      "metadata": {
        "id": "imnv5NOy4q32"
      },
      "execution_count": null,
      "outputs": []
    },
    {
      "cell_type": "code",
      "source": [
        "# 三角関数\n",
        "cos(pi)"
      ],
      "metadata": {
        "id": "0eFm2MbR4ufO"
      },
      "execution_count": null,
      "outputs": []
    },
    {
      "cell_type": "code",
      "source": [
        "# 三角関数\n",
        "tan(pi)"
      ],
      "metadata": {
        "id": "BmdcGMn94wja"
      },
      "execution_count": null,
      "outputs": []
    },
    {
      "cell_type": "markdown",
      "source": [
        "Pythonが提供している標準ライブラリ以外にも、様々なライブラリが開発されて一般に公開されています。こうしたライブラリのことを(標準ライブラリと区別して)外部ライブラリと呼んでいます。Pythonは外部ライブラリが最も充実している言語の1つです。特に本講義で扱うデータ分析・機械学習のためのライブラリが充実しているため、機械学習を行うときに用いるプログラミング言語としてPythonを選ぶ人は多いです。外部ライブラリについては次週以降で学習します。"
      ],
      "metadata": {
        "id": "wDI1Z3co4zXN"
      }
    },
    {
      "cell_type": "code",
      "source": [],
      "metadata": {
        "id": "7VdsWEz6-VUR"
      },
      "execution_count": null,
      "outputs": []
    }
  ]
}